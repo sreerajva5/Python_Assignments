{
 "cells": [
  {
   "cell_type": "raw",
   "metadata": {},
   "source": [
    "1. Write a program which will find factors of given number and find whether the factor is even or odd.\n",
    "Hint: Use Loop with if-else statements\n",
    "2. Write a code which accepts a sequence of words as input and prints the words in a sequence after sorting them alphabetically.\n",
    "Hint: In case of input data being supplied to the question, it should be assumed to be a console input.\n",
    "3. Write a program, which will find all the numbers between 1000 and 3000 (both included) such that each digit of a number is an even number. The numbers obtained should be printed in a comma separated sequence on a single line.\n",
    "Hint: In case of input data being supplied to the question, it should be assumed to be a console input. Divide each digit with 2 and verify is it even or not.\n",
    "4. Write a program that accepts a sentence and calculate the number of letters and digits.\n",
    "Suppose if the entered string is: Python0325\n",
    "Then the output will be:\n",
    "LETTERS: 6\n",
    "DIGITS:4\n",
    "Hint: Use built-in functions of string.\n",
    "5. Design a code which will find the given number is Palindrome number or not.\n",
    "Hint: Use built-in functions of string."
   ]
  },
  {
   "cell_type": "code",
   "execution_count": 2,
   "metadata": {},
   "outputs": [
    {
     "name": "stdout",
     "output_type": "stream",
     "text": [
      "Enter the number to find factors10\n",
      "{'even_factors': [2, 10], 'odd_factors': [1, 5]}\n"
     ]
    }
   ],
   "source": [
    "# 1. Write a program which will find factors of given number and find whether the factor is even or odd.\n",
    "# Hint: Use Loop with if-else statements\n",
    "\n",
    "n = int(input('Enter the number to find factors'))\n",
    "\n",
    "factors = {'even_factors': [], 'odd_factors' : []}\n",
    "\n",
    "for i in range(1, n+1):\n",
    "    if n%i == 0:\n",
    "        if i%2 == 0:\n",
    "            factors['even_factors'].append(i)\n",
    "        else:\n",
    "            factors['odd_factors'].append(i)\n",
    "            \n",
    "print(factors)"
   ]
  },
  {
   "cell_type": "code",
   "execution_count": 3,
   "metadata": {},
   "outputs": [
    {
     "name": "stdout",
     "output_type": "stream",
     "text": [
      "enter words separated by space: how are you sir\n",
      "are how sir you\n"
     ]
    }
   ],
   "source": [
    "#2. Write a code which accepts a sequence of words as input and prints the words in a sequence after sorting them alphabetically.\n",
    "\n",
    "w = input('enter words separated by space: ')\n",
    "\n",
    "l = w.split()\n",
    "l.sort()\n",
    "print(' '.join(l))"
   ]
  },
  {
   "cell_type": "code",
   "execution_count": 4,
   "metadata": {},
   "outputs": [
    {
     "name": "stdout",
     "output_type": "stream",
     "text": [
      "[2000, 2002, 2004, 2006, 2008, 2020, 2022, 2024, 2026, 2028, 2040, 2042, 2044, 2046, 2048, 2060, 2062, 2064, 2066, 2068, 2080, 2082, 2084, 2086, 2088, 2200, 2202, 2204, 2206, 2208, 2220, 2222, 2224, 2226, 2228, 2240, 2242, 2244, 2246, 2248, 2260, 2262, 2264, 2266, 2268, 2280, 2282, 2284, 2286, 2288, 2400, 2402, 2404, 2406, 2408, 2420, 2422, 2424, 2426, 2428, 2440, 2442, 2444, 2446, 2448, 2460, 2462, 2464, 2466, 2468, 2480, 2482, 2484, 2486, 2488, 2600, 2602, 2604, 2606, 2608, 2620, 2622, 2624, 2626, 2628, 2640, 2642, 2644, 2646, 2648, 2660, 2662, 2664, 2666, 2668, 2680, 2682, 2684, 2686, 2688, 2800, 2802, 2804, 2806, 2808, 2820, 2822, 2824, 2826, 2828, 2840, 2842, 2844, 2846, 2848, 2860, 2862, 2864, 2866, 2868, 2880, 2882, 2884, 2886, 2888]\n"
     ]
    }
   ],
   "source": [
    "# 3. Write a program, which will find all the numbers between 1000 and 3000 (both included) such that each digit of a number \n",
    "# is an even number. The numbers obtained should be printed in a comma separated sequence on a single line.\n",
    "# Hint: In case of input data being supplied to the question, it should be assumed to be a console input. \n",
    "# Divide each digit with 2 and verify is it even or not.\n",
    "\n",
    "num = []\n",
    "\n",
    "for i in range(1000, 3001):\n",
    "    for j in str(i):\n",
    "        if int(j) % 2 != 0:\n",
    "            break\n",
    "    else:\n",
    "        num.append(i)\n",
    "\n",
    "print(num)"
   ]
  },
  {
   "cell_type": "code",
   "execution_count": 5,
   "metadata": {},
   "outputs": [
    {
     "name": "stdout",
     "output_type": "stream",
     "text": [
      "Python0325\n",
      "words :  6\n",
      "digits :  4\n"
     ]
    }
   ],
   "source": [
    "# 4. Write a program that accepts a sentence and calculate the number of letters and digits.\n",
    "# Suppose if the entered string is: Python0325\n",
    "# Then the output will be:\n",
    "# LETTERS: 6\n",
    "# DIGITS:4\n",
    "# Hint: Use built-in functions of string.\n",
    "\n",
    "w = input()\n",
    "d, c = 0, 0\n",
    "for i in w:\n",
    "    if i.isdigit():\n",
    "        d += 1\n",
    "    elif i.isalpha():\n",
    "        c += 1\n",
    "print('words : ', c)\n",
    "print('digits : ', d)"
   ]
  },
  {
   "cell_type": "code",
   "execution_count": 11,
   "metadata": {},
   "outputs": [
    {
     "name": "stdout",
     "output_type": "stream",
     "text": [
      "12345\n",
      "Not Palindrome\n"
     ]
    }
   ],
   "source": [
    "# 5. Design a code which will find the given number is Palindrome number or not.\n",
    "# Hint: Use built-in functions of string.\n",
    "\n",
    "n = int(input())\n",
    "\n",
    "s1 = str(n)\n",
    "s2 = s1[::-1]\n",
    "if s1 == s2:\n",
    "    print('Palindrome')\n",
    "else:\n",
    "    print('Not Palindrome')"
   ]
  },
  {
   "cell_type": "code",
   "execution_count": null,
   "metadata": {},
   "outputs": [],
   "source": []
  }
 ],
 "metadata": {
  "kernelspec": {
   "display_name": "Python 3",
   "language": "python",
   "name": "python3"
  },
  "language_info": {
   "codemirror_mode": {
    "name": "ipython",
    "version": 3
   },
   "file_extension": ".py",
   "mimetype": "text/x-python",
   "name": "python",
   "nbconvert_exporter": "python",
   "pygments_lexer": "ipython3",
   "version": "3.8.5"
  }
 },
 "nbformat": 4,
 "nbformat_minor": 4
}
