{
 "cells": [
  {
   "cell_type": "raw",
   "metadata": {},
   "source": [
    "Case Study I\n",
    "Domain –Banking\n",
    "Focus – Optimization\n",
    "Business challenge/requirement\n",
    "FinBank is the latest entrant in the banking market of Thailand. The verification process for\n",
    "opening a bank account is done manually by reviewing the photocopy of the approved ID\n",
    "card. However, they have recently introduced a system where the customers’ fingerprint\n",
    "will be mapped with the newly introduced Unique ID for citizens of Thailand by the\n",
    "government. FinBank should implement a system that verifies customers against the\n",
    "fingerprint and Unique Id.\n",
    "Key issues\n",
    "Build a system where when a user enters Unique ID it gets encrypted so that hackers cannot\n",
    "view the mapping of Unique ID and fingerprint\n",
    "Considerations\n",
    "System should be secure\n",
    "Data volume\n",
    "- NA\n",
    "Additional information\n",
    "- NA\n",
    "Business benefits\n",
    "The bank will be able to verify customers’ data quickly, and expected gain in volume is\n",
    "approximately ten times as the manual process of verification is replaced with the secure\n",
    "automated system\n",
    "Approach to Solve\n",
    "1. Read the input from command line – Unique ID\n",
    "2. Check for validity of Unique ID – it should be 10 digits and must contain only\n",
    "numbers\n",
    "3. Encrypt the Unique ID and print it\n",
    "Enhancements for code\n",
    "You can try these enhancements in code\n",
    "1. Allow alphabets and some special characters in Unique ID\n",
    "2. Provide the option for decryption to user "
   ]
  },
  {
   "cell_type": "code",
   "execution_count": 5,
   "metadata": {},
   "outputs": [
    {
     "name": "stdout",
     "output_type": "stream",
     "text": [
      "Enter your unique id:1234567890\n",
      "valid id.\n",
      "Your encrypted id is  b'MTIzNDU2Nzg5MA=='\n"
     ]
    }
   ],
   "source": [
    "# Approach to Solve\n",
    "# 1. Read the input from command line – Unique ID\n",
    "# 2. Check for validity of Unique ID – it should be 10 digits and must contain only\n",
    "# numbers\n",
    "# 3. Encrypt the Unique ID and print it\n",
    "\n",
    "import base64\n",
    "\n",
    "id = input('Enter your unique id:')\n",
    "if id.isdigit() and len(id) == 10:\n",
    "    print('valid id.')\n",
    "else:\n",
    "    print('invalid id. try again.')\n",
    "    \n",
    "id_enc = base64.b64encode(id.encode('ascii'))\n",
    "print('Your encrypted id is ', id_enc)"
   ]
  },
  {
   "cell_type": "code",
   "execution_count": 7,
   "metadata": {},
   "outputs": [
    {
     "name": "stdout",
     "output_type": "stream",
     "text": [
      "Enter your unique id:1234567abc\n",
      "valid id\n",
      "Your encrypted id is  b'MTIzNDU2N2FiYw=='\n"
     ]
    }
   ],
   "source": [
    "# You can try these enhancements in code\n",
    "# 1. Allow alphabets and some special characters in Unique ID\n",
    "# 2. Provide the option for decryption to user \n",
    "\n",
    "\n",
    "import base64\n",
    "import re\n",
    "\n",
    "id = input('Enter your unique id:')\n",
    "if not len(id) == 10:\n",
    "    print('invalid id.')\n",
    "elif not (id.isalpha() or id.isalnum() or id.isdigit()): # digit or alphabets or combination of both are allowed\n",
    "    print('invalid id.')\n",
    "else:\n",
    "    print('valid id')\n",
    "    \n",
    "id_enc = base64.b64encode(id.encode('ascii'))\n",
    "print('Your encrypted id is ', id_enc)"
   ]
  },
  {
   "cell_type": "code",
   "execution_count": 11,
   "metadata": {},
   "outputs": [
    {
     "name": "stdout",
     "output_type": "stream",
     "text": [
      "Enter your encrypted id:MTIzNDU2N2FiYw==\n",
      "your actual iid is :  b'1234567abc'\n"
     ]
    }
   ],
   "source": [
    "# decrypt option\n",
    "\n",
    "enc_id = input('Enter your encrypted id:')\n",
    "id_decod = base64.b64decode(enc_id.encode(\"ascii\"))\n",
    "print('your actual iid is : ',id_decod)"
   ]
  },
  {
   "cell_type": "code",
   "execution_count": null,
   "metadata": {},
   "outputs": [],
   "source": []
  }
 ],
 "metadata": {
  "kernelspec": {
   "display_name": "Python 3",
   "language": "python",
   "name": "python3"
  },
  "language_info": {
   "codemirror_mode": {
    "name": "ipython",
    "version": 3
   },
   "file_extension": ".py",
   "mimetype": "text/x-python",
   "name": "python",
   "nbconvert_exporter": "python",
   "pygments_lexer": "ipython3",
   "version": "3.8.5"
  }
 },
 "nbformat": 4,
 "nbformat_minor": 4
}
