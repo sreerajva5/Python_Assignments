{
 "cells": [
  {
   "cell_type": "markdown",
   "metadata": {},
   "source": [
    "## Assignment\n",
    "##### Key issues:  Build a system where when user enters Reference ID it is encrypted, so that hackers cannot view the mapping of Reference ID and finger print\n",
    "\n",
    "1. Read the input from command line – Reference ID\n",
    "2. Check for validity – it should be 12 digits and allows on number and alphabet\n",
    "3. Encrypt the Reference ID and print it for reference\n",
    "\n",
    "##### Enhancements for code (Optional)\n",
    "You can try these enhancements in code\n",
    "1. Allow some special characters in ReferenceID\n",
    "2. Give the option for decryption to user "
   ]
  },
  {
   "cell_type": "code",
   "execution_count": 13,
   "metadata": {},
   "outputs": [
    {
     "name": "stdout",
     "output_type": "stream",
     "text": [
      "Enter your reference id :\n",
      "r_id_encrypt\n",
      "The entered refence ID is invalid! Please check and enter the correct reference ID.\n",
      "Enter your reference id :\n",
      "123456abcDEF\n",
      "Congrats! Your Reference ID is encrypted and it is: b'MTIzNDU2YWJjREVG' \n",
      "Note down the code pf your refence id and do not reveal to anyone else\n",
      "Be safe from Hackers\n"
     ]
    }
   ],
   "source": [
    "# solution\n",
    "\n",
    "import base64\n",
    "\n",
    "while True:\n",
    "    r_id = input('Enter your reference id :\\n')\n",
    "\n",
    "    if len(r_id) != 12:\n",
    "        print('The entered refence ID is invalid! Please check and enter the correct reference ID.')\n",
    "        continue\n",
    "    elif not r_id.isalnum():    #if you want to allo special characters, this condition can be removed\n",
    "        print('The entered refence ID is invalid! Please check and enter the correct reference ID.')\n",
    "        continue\n",
    "    else:\n",
    "        r_id_encrypt = base64.b64encode(r_id.encode())\n",
    "        print(f\"Congrats! Your Reference ID is encrypted and it is: {r_id_encrypt} \")\n",
    "        print('Note down the code pf your refence id and do not reveal to anyone else')\n",
    "        print('Be safe from Hackers')\n",
    "        break"
   ]
  },
  {
   "cell_type": "markdown",
   "metadata": {},
   "source": [
    "##### option for decrypting the reference id"
   ]
  },
  {
   "cell_type": "code",
   "execution_count": 15,
   "metadata": {},
   "outputs": [
    {
     "name": "stdout",
     "output_type": "stream",
     "text": [
      "Do you want to get your reference ID from the code you have? Enyer \"y\" for Yes or \"n\" for No: \n",
      "YES\n",
      "Enter the code of your reference id: \n",
      "MTIzNDU2YWJjREVG\n",
      "Your reference ID is b'123456abcDEF'\n"
     ]
    }
   ],
   "source": [
    "i = input('Do you want to get your reference ID from the code you have? Enyer \"y\" for Yes or \"n\" for No: \\n')\n",
    "if i[0].lower() == 'n':\n",
    "    print('Its OK. See you again!')\n",
    "elif i[0].lower() == 'y':\n",
    "    s = input('Enter the code of your reference id: \\n')\n",
    "    y = base64.b64decode(s)\n",
    "    print(f'Your reference ID is {str(y)}')"
   ]
  },
  {
   "cell_type": "code",
   "execution_count": null,
   "metadata": {},
   "outputs": [],
   "source": []
  }
 ],
 "metadata": {
  "kernelspec": {
   "display_name": "Python 3",
   "language": "python",
   "name": "python3"
  },
  "language_info": {
   "codemirror_mode": {
    "name": "ipython",
    "version": 3
   },
   "file_extension": ".py",
   "mimetype": "text/x-python",
   "name": "python",
   "nbconvert_exporter": "python",
   "pygments_lexer": "ipython3",
   "version": "3.6.9"
  }
 },
 "nbformat": 4,
 "nbformat_minor": 2
}
