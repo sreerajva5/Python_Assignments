{
 "cells": [
  {
   "cell_type": "markdown",
   "metadata": {},
   "source": [
    "# Module 5- Case study 2"
   ]
  },
  {
   "cell_type": "markdown",
   "metadata": {},
   "source": [
    "focus – Insights from data\n",
    "\n",
    "\n",
    "Business challenge/requirement:\n",
    "    \n",
    "SFO Public Department - referred to as SFO has captured all the salary data of its employees from year 2011-2014. Now we are in year 2015 and the organization is facing some financial crisis. As first step HR wants to rationalize employee cost to save payroll budget. You have to do data manipulation and analysis on the salary data to answer specific questions for cost savings.\n",
    "\n",
    "\n",
    "Key issues:\n",
    "\n",
    "Cost can be saved by figuring out the key pockets of high salaries\n",
    "\n",
    "Approach to Solve:\n",
    "\n",
    "You have to use fundamentals of Pandas covered in module 6 and answer following 5 Questions\n",
    "\n",
    "1. Compute how much total salary cost has increased from year 2011 to 2014\n",
    "\n",
    "2. Which Job Title in Year 2014 has highest mean salary?\n",
    "\n",
    "3. How much money could have been saved in Year 2014 by stopping OverTimePay?\n",
    "\n",
    "4. Which are the top 5 common job in Year 2014 and how much do they cost SFO ?\n",
    "\n",
    "5. Who was the top earning employee across all the years?\n",
    "\n",
    "Enhancements for code:\n",
    "\n",
    "You can try these enhancements in code\n",
    "\n",
    "1. Which are the last 5 common job in Year 2014 and how much do they cost SFO?\n",
    "\n",
    "2. In year 201 OverTimePay was what percentage of TotalPayBenefits\n",
    "\n",
    "3. Which Job Title in Year 2014 has lowest mean salary?"
   ]
  },
  {
   "cell_type": "code",
   "execution_count": 1,
   "metadata": {},
   "outputs": [
    {
     "name": "stderr",
     "output_type": "stream",
     "text": [
      "C:\\Users\\sreeraj.va\\AppData\\Local\\Continuum\\anaconda3\\lib\\site-packages\\statsmodels\\tools\\_testing.py:19: FutureWarning: pandas.util.testing is deprecated. Use the functions in the public API at pandas.testing instead.\n",
      "  import pandas.util.testing as tm\n"
     ]
    }
   ],
   "source": [
    "import numpy as np\n",
    "import pandas as pd\n",
    "import matplotlib.pyplot as plt\n",
    "%matplotlib inline\n",
    "import seaborn as sns"
   ]
  },
  {
   "cell_type": "code",
   "execution_count": 3,
   "metadata": {},
   "outputs": [],
   "source": [
    "df = pd.read_csv(r'D:\\E\\Courses\\Edureka\\Assignments\\Dataset\\module5\\Salaries.csv', low_memory=False)"
   ]
  },
  {
   "cell_type": "code",
   "execution_count": 5,
   "metadata": {},
   "outputs": [
    {
     "name": "stdout",
     "output_type": "stream",
     "text": [
      "(148648, 13)\n"
     ]
    },
    {
     "data": {
      "text/html": [
       "<div>\n",
       "<style scoped>\n",
       "    .dataframe tbody tr th:only-of-type {\n",
       "        vertical-align: middle;\n",
       "    }\n",
       "\n",
       "    .dataframe tbody tr th {\n",
       "        vertical-align: top;\n",
       "    }\n",
       "\n",
       "    .dataframe thead th {\n",
       "        text-align: right;\n",
       "    }\n",
       "</style>\n",
       "<table border=\"1\" class=\"dataframe\">\n",
       "  <thead>\n",
       "    <tr style=\"text-align: right;\">\n",
       "      <th></th>\n",
       "      <th>Id</th>\n",
       "      <th>EmployeeName</th>\n",
       "      <th>JobTitle</th>\n",
       "      <th>BasePay</th>\n",
       "      <th>OvertimePay</th>\n",
       "      <th>OtherPay</th>\n",
       "      <th>Benefits</th>\n",
       "      <th>TotalPay</th>\n",
       "      <th>TotalPayBenefits</th>\n",
       "      <th>Year</th>\n",
       "      <th>Notes</th>\n",
       "      <th>Agency</th>\n",
       "      <th>Status</th>\n",
       "    </tr>\n",
       "  </thead>\n",
       "  <tbody>\n",
       "    <tr>\n",
       "      <th>0</th>\n",
       "      <td>1</td>\n",
       "      <td>NATHANIEL FORD</td>\n",
       "      <td>GENERAL MANAGER-METROPOLITAN TRANSIT AUTHORITY</td>\n",
       "      <td>167411.18</td>\n",
       "      <td>0.00</td>\n",
       "      <td>400184.25</td>\n",
       "      <td>NaN</td>\n",
       "      <td>567595.43</td>\n",
       "      <td>567595.43</td>\n",
       "      <td>2011</td>\n",
       "      <td>NaN</td>\n",
       "      <td>San Francisco</td>\n",
       "      <td>NaN</td>\n",
       "    </tr>\n",
       "    <tr>\n",
       "      <th>1</th>\n",
       "      <td>2</td>\n",
       "      <td>GARY JIMENEZ</td>\n",
       "      <td>CAPTAIN III (POLICE DEPARTMENT)</td>\n",
       "      <td>155966.02</td>\n",
       "      <td>245131.88</td>\n",
       "      <td>137811.38</td>\n",
       "      <td>NaN</td>\n",
       "      <td>538909.28</td>\n",
       "      <td>538909.28</td>\n",
       "      <td>2011</td>\n",
       "      <td>NaN</td>\n",
       "      <td>San Francisco</td>\n",
       "      <td>NaN</td>\n",
       "    </tr>\n",
       "    <tr>\n",
       "      <th>2</th>\n",
       "      <td>3</td>\n",
       "      <td>ALBERT PARDINI</td>\n",
       "      <td>CAPTAIN III (POLICE DEPARTMENT)</td>\n",
       "      <td>212739.13</td>\n",
       "      <td>106088.18</td>\n",
       "      <td>16452.60</td>\n",
       "      <td>NaN</td>\n",
       "      <td>335279.91</td>\n",
       "      <td>335279.91</td>\n",
       "      <td>2011</td>\n",
       "      <td>NaN</td>\n",
       "      <td>San Francisco</td>\n",
       "      <td>NaN</td>\n",
       "    </tr>\n",
       "  </tbody>\n",
       "</table>\n",
       "</div>"
      ],
      "text/plain": [
       "   Id    EmployeeName                                        JobTitle  \\\n",
       "0   1  NATHANIEL FORD  GENERAL MANAGER-METROPOLITAN TRANSIT AUTHORITY   \n",
       "1   2    GARY JIMENEZ                 CAPTAIN III (POLICE DEPARTMENT)   \n",
       "2   3  ALBERT PARDINI                 CAPTAIN III (POLICE DEPARTMENT)   \n",
       "\n",
       "     BasePay  OvertimePay   OtherPay  Benefits   TotalPay  TotalPayBenefits  \\\n",
       "0  167411.18         0.00  400184.25       NaN  567595.43         567595.43   \n",
       "1  155966.02    245131.88  137811.38       NaN  538909.28         538909.28   \n",
       "2  212739.13    106088.18   16452.60       NaN  335279.91         335279.91   \n",
       "\n",
       "   Year  Notes         Agency Status  \n",
       "0  2011    NaN  San Francisco    NaN  \n",
       "1  2011    NaN  San Francisco    NaN  \n",
       "2  2011    NaN  San Francisco    NaN  "
      ]
     },
     "execution_count": 5,
     "metadata": {},
     "output_type": "execute_result"
    }
   ],
   "source": [
    "print(df.shape)\n",
    "df.head(3)"
   ]
  },
  {
   "cell_type": "markdown",
   "metadata": {},
   "source": [
    "1. Compute how much total salary cost has increased from year 2011 to 2014"
   ]
  },
  {
   "cell_type": "code",
   "execution_count": 9,
   "metadata": {},
   "outputs": [
    {
     "data": {
      "text/html": [
       "<div>\n",
       "<style scoped>\n",
       "    .dataframe tbody tr th:only-of-type {\n",
       "        vertical-align: middle;\n",
       "    }\n",
       "\n",
       "    .dataframe tbody tr th {\n",
       "        vertical-align: top;\n",
       "    }\n",
       "\n",
       "    .dataframe thead th {\n",
       "        text-align: right;\n",
       "    }\n",
       "</style>\n",
       "<table border=\"1\" class=\"dataframe\">\n",
       "  <thead>\n",
       "    <tr style=\"text-align: right;\">\n",
       "      <th></th>\n",
       "      <th>TotalPay</th>\n",
       "    </tr>\n",
       "    <tr>\n",
       "      <th>Year</th>\n",
       "      <th></th>\n",
       "    </tr>\n",
       "  </thead>\n",
       "  <tbody>\n",
       "    <tr>\n",
       "      <th>2011</th>\n",
       "      <td>2.594113e+09</td>\n",
       "    </tr>\n",
       "    <tr>\n",
       "      <th>2012</th>\n",
       "      <td>2.724736e+09</td>\n",
       "    </tr>\n",
       "    <tr>\n",
       "      <th>2013</th>\n",
       "      <td>2.918656e+09</td>\n",
       "    </tr>\n",
       "    <tr>\n",
       "      <th>2014</th>\n",
       "      <td>2.876911e+09</td>\n",
       "    </tr>\n",
       "  </tbody>\n",
       "</table>\n",
       "</div>"
      ],
      "text/plain": [
       "          TotalPay\n",
       "Year              \n",
       "2011  2.594113e+09\n",
       "2012  2.724736e+09\n",
       "2013  2.918656e+09\n",
       "2014  2.876911e+09"
      ]
     },
     "execution_count": 9,
     "metadata": {},
     "output_type": "execute_result"
    }
   ],
   "source": [
    "df.groupby(['Year']).agg({'TotalPay':np.sum})"
   ]
  },
  {
   "cell_type": "code",
   "execution_count": 8,
   "metadata": {},
   "outputs": [
    {
     "data": {
      "text/plain": [
       "<matplotlib.axes._subplots.AxesSubplot at 0x1e676535888>"
      ]
     },
     "execution_count": 8,
     "metadata": {},
     "output_type": "execute_result"
    },
    {
     "data": {
      "image/png": "[encoded data removed]",
      "text/plain": [
       "<Figure size 432x288 with 1 Axes>"
      ]
     },
     "metadata": {
      "needs_background": "light"
     },
     "output_type": "display_data"
    }
   ],
   "source": [
    "df.groupby(['Year']).agg({'TotalPay':np.sum}).plot()"
   ]
  },
  {
   "cell_type": "markdown",
   "metadata": {},
   "source": [
    "From 2011 to 2014, salary expense increased from 2.59 Billion to 2.87 Billion"
   ]
  },
  {
   "cell_type": "markdown",
   "metadata": {},
   "source": [
    "2. Which Job Title in Year 2014 has highest mean salary?"
   ]
  },
  {
   "cell_type": "code",
   "execution_count": 36,
   "metadata": {},
   "outputs": [
    {
     "data": {
      "text/html": [
       "<div>\n",
       "<style scoped>\n",
       "    .dataframe tbody tr th:only-of-type {\n",
       "        vertical-align: middle;\n",
       "    }\n",
       "\n",
       "    .dataframe tbody tr th {\n",
       "        vertical-align: top;\n",
       "    }\n",
       "\n",
       "    .dataframe thead th {\n",
       "        text-align: right;\n",
       "    }\n",
       "</style>\n",
       "<table border=\"1\" class=\"dataframe\">\n",
       "  <thead>\n",
       "    <tr style=\"text-align: right;\">\n",
       "      <th></th>\n",
       "      <th>TotalPay</th>\n",
       "    </tr>\n",
       "    <tr>\n",
       "      <th>JobTitle</th>\n",
       "      <th></th>\n",
       "    </tr>\n",
       "  </thead>\n",
       "  <tbody>\n",
       "    <tr>\n",
       "      <th>Chief Investment Officer</th>\n",
       "      <td>339653.700000</td>\n",
       "    </tr>\n",
       "    <tr>\n",
       "      <th>Chief of Police</th>\n",
       "      <td>326716.760000</td>\n",
       "    </tr>\n",
       "    <tr>\n",
       "      <th>Chief, Fire Department</th>\n",
       "      <td>326233.440000</td>\n",
       "    </tr>\n",
       "    <tr>\n",
       "      <th>Gen Mgr, Public Trnsp Dept</th>\n",
       "      <td>294000.180000</td>\n",
       "    </tr>\n",
       "    <tr>\n",
       "      <th>Dep Chf of Dept (Fire Dept)</th>\n",
       "      <td>285575.785000</td>\n",
       "    </tr>\n",
       "    <tr>\n",
       "      <th>...</th>\n",
       "      <td>...</td>\n",
       "    </tr>\n",
       "    <tr>\n",
       "      <th>BdComm Mbr, Grp5,M$100/Mo</th>\n",
       "      <td>1300.115926</td>\n",
       "    </tr>\n",
       "    <tr>\n",
       "      <th>Special Examiner</th>\n",
       "      <td>1141.172414</td>\n",
       "    </tr>\n",
       "    <tr>\n",
       "      <th>BdComm Mbr, Grp3,M=$50/Mtg</th>\n",
       "      <td>691.904762</td>\n",
       "    </tr>\n",
       "    <tr>\n",
       "      <th>BdComm Mbr, Grp2,M=$25/Mtg</th>\n",
       "      <td>325.000000</td>\n",
       "    </tr>\n",
       "    <tr>\n",
       "      <th>Special Assistant 15</th>\n",
       "      <td>0.000000</td>\n",
       "    </tr>\n",
       "  </tbody>\n",
       "</table>\n",
       "<p>996 rows × 1 columns</p>\n",
       "</div>"
      ],
      "text/plain": [
       "                                  TotalPay\n",
       "JobTitle                                  \n",
       "Chief Investment Officer     339653.700000\n",
       "Chief of Police              326716.760000\n",
       "Chief, Fire Department       326233.440000\n",
       "Gen Mgr, Public Trnsp Dept   294000.180000\n",
       "Dep Chf of Dept (Fire Dept)  285575.785000\n",
       "...                                    ...\n",
       "BdComm Mbr, Grp5,M$100/Mo      1300.115926\n",
       "Special Examiner               1141.172414\n",
       "BdComm Mbr, Grp3,M=$50/Mtg      691.904762\n",
       "BdComm Mbr, Grp2,M=$25/Mtg      325.000000\n",
       "Special Assistant 15              0.000000\n",
       "\n",
       "[996 rows x 1 columns]"
      ]
     },
     "execution_count": 36,
     "metadata": {},
     "output_type": "execute_result"
    }
   ],
   "source": [
    "df[df['Year'] == 2014].groupby(['JobTitle']).agg({'TotalPay':np.mean}).sort_values(['TotalPay'], ascending=False)"
   ]
  },
  {
   "cell_type": "code",
   "execution_count": 38,
   "metadata": {},
   "outputs": [
    {
     "data": {
      "image/png": "[encoded data removed]",
      "text/plain": [
       "<Figure size 1440x360 with 1 Axes>"
      ]
     },
     "metadata": {
      "needs_background": "light"
     },
     "output_type": "display_data"
    }
   ],
   "source": [
    "df[df['Year'] == 2014].groupby(['JobTitle']).agg({'TotalPay':np.mean}).sort_values(['TotalPay'], ascending=False).iloc[:5,:].plot(figsize=(20,5), marker='o')\n",
    "plt.title('Top 5 Avg Salary Jobs- 2014')\n",
    "plt.show()"
   ]
  },
  {
   "cell_type": "markdown",
   "metadata": {},
   "source": [
    "Top 5 salaried JobTitles in 2024 are Chief Investment Officer, Chief of Police, Chief-Fire Department, Gen Mgr- Public Trnsp Dept, Dep Chf of Dept (Fire Dept) . This is based on top average salary."
   ]
  },
  {
   "cell_type": "markdown",
   "metadata": {},
   "source": [
    "3. How much money could have been saved in Year 2014 by stopping OverTimePay?"
   ]
  },
  {
   "cell_type": "code",
   "execution_count": 28,
   "metadata": {},
   "outputs": [
    {
     "data": {
      "text/plain": [
       "205918599.26999998"
      ]
     },
     "execution_count": 28,
     "metadata": {},
     "output_type": "execute_result"
    }
   ],
   "source": [
    "ot_2014 = df[df['Year'] == 2014]['OvertimePay'].sum()\n",
    "ot_2014"
   ]
  },
  {
   "cell_type": "code",
   "execution_count": 33,
   "metadata": {},
   "outputs": [
    {
     "data": {
      "text/plain": [
       "(2876910951.2599998, 7.16)"
      ]
     },
     "execution_count": 33,
     "metadata": {},
     "output_type": "execute_result"
    }
   ],
   "source": [
    "tp_2014 = df[df['Year'] == 2014]['TotalPay'].sum()\n",
    "\n",
    "ot_percentage = round(ot_2014/tp_2014*100,2)\n",
    "\n",
    "tp_2014, ot_percentage"
   ]
  },
  {
   "cell_type": "code",
   "execution_count": 34,
   "metadata": {},
   "outputs": [
    {
     "name": "stdout",
     "output_type": "stream",
     "text": [
      "Overall overtime pay for 2014 : 205918599.26999998\n",
      "Overtime pay is 7.16% of the total pay \n"
     ]
    }
   ],
   "source": [
    "print(f\"Overall overtime pay for 2014 : {ot_2014}\")\n",
    "\n",
    "print(f'Overtime pay is {ot_percentage}% of the total pay ')"
   ]
  },
  {
   "cell_type": "markdown",
   "metadata": {},
   "source": [
    "205918599 could have been save if there was no overtime, which is 7.16% of the salary for 2014"
   ]
  },
  {
   "cell_type": "markdown",
   "metadata": {},
   "source": [
    "4. Which are the top 5 common job in Year 2014 and how much do they cost SFO ?"
   ]
  },
  {
   "cell_type": "code",
   "execution_count": 43,
   "metadata": {},
   "outputs": [
    {
     "data": {
      "text/html": [
       "<div>\n",
       "<style scoped>\n",
       "    .dataframe tbody tr th:only-of-type {\n",
       "        vertical-align: middle;\n",
       "    }\n",
       "\n",
       "    .dataframe tbody tr th {\n",
       "        vertical-align: top;\n",
       "    }\n",
       "\n",
       "    .dataframe thead th {\n",
       "        text-align: right;\n",
       "    }\n",
       "</style>\n",
       "<table border=\"1\" class=\"dataframe\">\n",
       "  <thead>\n",
       "    <tr style=\"text-align: right;\">\n",
       "      <th></th>\n",
       "      <th>TotalPay</th>\n",
       "    </tr>\n",
       "    <tr>\n",
       "      <th>JobTitle</th>\n",
       "      <th></th>\n",
       "    </tr>\n",
       "  </thead>\n",
       "  <tbody>\n",
       "    <tr>\n",
       "      <th>Transit Operator</th>\n",
       "      <td>1.520080e+08</td>\n",
       "    </tr>\n",
       "    <tr>\n",
       "      <th>Registered Nurse</th>\n",
       "      <td>1.444065e+08</td>\n",
       "    </tr>\n",
       "    <tr>\n",
       "      <th>Firefighter</th>\n",
       "      <td>1.132836e+08</td>\n",
       "    </tr>\n",
       "    <tr>\n",
       "      <th>Police Officer 3</th>\n",
       "      <td>1.065347e+08</td>\n",
       "    </tr>\n",
       "    <tr>\n",
       "      <th>Deputy Sheriff</th>\n",
       "      <td>7.108394e+07</td>\n",
       "    </tr>\n",
       "  </tbody>\n",
       "</table>\n",
       "</div>"
      ],
      "text/plain": [
       "                      TotalPay\n",
       "JobTitle                      \n",
       "Transit Operator  1.520080e+08\n",
       "Registered Nurse  1.444065e+08\n",
       "Firefighter       1.132836e+08\n",
       "Police Officer 3  1.065347e+08\n",
       "Deputy Sheriff    7.108394e+07"
      ]
     },
     "execution_count": 43,
     "metadata": {},
     "output_type": "execute_result"
    }
   ],
   "source": [
    "top_5 = df[df['Year'] == 2014].groupby(['JobTitle']).agg({'TotalPay':np.sum}).sort_values(['TotalPay'], ascending=False).iloc[:5,:]\n",
    "top_5"
   ]
  },
  {
   "cell_type": "code",
   "execution_count": 61,
   "metadata": {},
   "outputs": [
    {
     "name": "stdout",
     "output_type": "stream",
     "text": [
      "Top 5 jobs in 2014 with highest spend are below\n",
      "------------------------------------------------\n",
      "Transit Operator  :  152007977.8\n",
      "Registered Nurse  :  144406501.3\n",
      "Firefighter  :  113283574.6\n",
      "Police Officer 3  :  106534680.8\n",
      "Deputy Sheriff  :  71083944.1\n"
     ]
    }
   ],
   "source": [
    "print('Top 5 jobs in 2014 with highest spend are below')\n",
    "print('------------------------------------------------')\n",
    "\n",
    "for i in top_5.reset_index().values:\n",
    "    print(f'{i[0]}  :  {round(i[1],1)}')"
   ]
  },
  {
   "cell_type": "markdown",
   "metadata": {},
   "source": [
    "5. Who was the top earning employee across all the years?"
   ]
  },
  {
   "cell_type": "code",
   "execution_count": 64,
   "metadata": {},
   "outputs": [
    {
     "data": {
      "text/html": [
       "<div>\n",
       "<style scoped>\n",
       "    .dataframe tbody tr th:only-of-type {\n",
       "        vertical-align: middle;\n",
       "    }\n",
       "\n",
       "    .dataframe tbody tr th {\n",
       "        vertical-align: top;\n",
       "    }\n",
       "\n",
       "    .dataframe thead th {\n",
       "        text-align: right;\n",
       "    }\n",
       "</style>\n",
       "<table border=\"1\" class=\"dataframe\">\n",
       "  <thead>\n",
       "    <tr style=\"text-align: right;\">\n",
       "      <th></th>\n",
       "      <th>TotalPay</th>\n",
       "    </tr>\n",
       "    <tr>\n",
       "      <th>EmployeeName</th>\n",
       "      <th></th>\n",
       "    </tr>\n",
       "  </thead>\n",
       "  <tbody>\n",
       "    <tr>\n",
       "      <th>Kevin Lee</th>\n",
       "      <td>1318767.63</td>\n",
       "    </tr>\n",
       "  </tbody>\n",
       "</table>\n",
       "</div>"
      ],
      "text/plain": [
       "                TotalPay\n",
       "EmployeeName            \n",
       "Kevin Lee     1318767.63"
      ]
     },
     "execution_count": 64,
     "metadata": {},
     "output_type": "execute_result"
    }
   ],
   "source": [
    "df.groupby(['EmployeeName']).agg({'TotalPay':np.sum}).sort_values(['TotalPay'], ascending=False).iloc[:1,:]"
   ]
  },
  {
   "cell_type": "markdown",
   "metadata": {},
   "source": [
    "Kevin Lee\tis the highest salary employee within all year"
   ]
  },
  {
   "cell_type": "code",
   "execution_count": 134,
   "metadata": {},
   "outputs": [
    {
     "name": "stdout",
     "output_type": "stream",
     "text": [
      "Top salaried employees on each year are as below:  \n",
      "2011 KEVIN LEE 809424.8400000001\n",
      "2012 Kevin Lee 882994.24\n",
      "2013 Steven  Lee 581524.38\n",
      "2014 Steven Lee 561356.09\n"
     ]
    }
   ],
   "source": [
    "print('Top salaried employees on each year are as below:  ')\n",
    "\n",
    "for i in range(2011,2015):\n",
    "    print(i, df[df['Year']==i].groupby(['EmployeeName']).agg({'TotalPay':sum}).reset_index().sort_values(['TotalPay'], ascending=False).iloc[:1,:].values[0][0],\n",
    "         df[df['Year']==i].groupby(['EmployeeName']).agg({'TotalPay':sum}).reset_index().sort_values(['TotalPay'], ascending=False).iloc[:1,:].values[0][1])"
   ]
  },
  {
   "cell_type": "markdown",
   "metadata": {},
   "source": [
    "### Enhancements"
   ]
  },
  {
   "cell_type": "markdown",
   "metadata": {},
   "source": [
    "1. Which are the last 5 common job in Year 2014 and how much do they cost SFO?"
   ]
  },
  {
   "cell_type": "code",
   "execution_count": 145,
   "metadata": {},
   "outputs": [
    {
     "data": {
      "text/html": [
       "<div>\n",
       "<style scoped>\n",
       "    .dataframe tbody tr th:only-of-type {\n",
       "        vertical-align: middle;\n",
       "    }\n",
       "\n",
       "    .dataframe tbody tr th {\n",
       "        vertical-align: top;\n",
       "    }\n",
       "\n",
       "    .dataframe thead th {\n",
       "        text-align: right;\n",
       "    }\n",
       "</style>\n",
       "<table border=\"1\" class=\"dataframe\">\n",
       "  <thead>\n",
       "    <tr style=\"text-align: right;\">\n",
       "      <th></th>\n",
       "      <th>JobTitle</th>\n",
       "      <th>count_2014</th>\n",
       "    </tr>\n",
       "  </thead>\n",
       "  <tbody>\n",
       "    <tr>\n",
       "      <th>0</th>\n",
       "      <td>Transit Operator</td>\n",
       "      <td>2479</td>\n",
       "    </tr>\n",
       "    <tr>\n",
       "      <th>1</th>\n",
       "      <td>Special Nurse</td>\n",
       "      <td>1478</td>\n",
       "    </tr>\n",
       "    <tr>\n",
       "      <th>2</th>\n",
       "      <td>Registered Nurse</td>\n",
       "      <td>1234</td>\n",
       "    </tr>\n",
       "    <tr>\n",
       "      <th>3</th>\n",
       "      <td>Public Svc Aide-Public Works</td>\n",
       "      <td>916</td>\n",
       "    </tr>\n",
       "    <tr>\n",
       "      <th>4</th>\n",
       "      <td>Firefighter</td>\n",
       "      <td>815</td>\n",
       "    </tr>\n",
       "  </tbody>\n",
       "</table>\n",
       "</div>"
      ],
      "text/plain": [
       "                       JobTitle  count_2014\n",
       "0              Transit Operator        2479\n",
       "1                 Special Nurse        1478\n",
       "2              Registered Nurse        1234\n",
       "3  Public Svc Aide-Public Works         916\n",
       "4                   Firefighter         815"
      ]
     },
     "execution_count": 145,
     "metadata": {},
     "output_type": "execute_result"
    }
   ],
   "source": [
    "common_2014 = df[df['Year']==2014].groupby(['JobTitle']).agg({'Id':'count'}).sort_values(['Id'], ascending=False).reset_index()\n",
    "common_2014.columns = ['JobTitle', 'count_2014']\n",
    "common_2014.iloc[:5,:]"
   ]
  },
  {
   "cell_type": "markdown",
   "metadata": {},
   "source": [
    "2. In year 2014 OverTimePay was what percentage of TotalPayBenefits"
   ]
  },
  {
   "cell_type": "code",
   "execution_count": 157,
   "metadata": {},
   "outputs": [],
   "source": [
    "percentage_df = df.groupby(['Year']).agg({'TotalPay':'sum', 'OvertimePay':'sum'}).reset_index()\n",
    "\n",
    "percentage_df['OT_pay_percentage'] = percentage_df['OvertimePay']/percentage_df['TotalPay']*100"
   ]
  },
  {
   "cell_type": "code",
   "execution_count": 158,
   "metadata": {},
   "outputs": [
    {
     "data": {
      "text/html": [
       "<div>\n",
       "<style scoped>\n",
       "    .dataframe tbody tr th:only-of-type {\n",
       "        vertical-align: middle;\n",
       "    }\n",
       "\n",
       "    .dataframe tbody tr th {\n",
       "        vertical-align: top;\n",
       "    }\n",
       "\n",
       "    .dataframe thead th {\n",
       "        text-align: right;\n",
       "    }\n",
       "</style>\n",
       "<table border=\"1\" class=\"dataframe\">\n",
       "  <thead>\n",
       "    <tr style=\"text-align: right;\">\n",
       "      <th></th>\n",
       "      <th>Year</th>\n",
       "      <th>TotalPay</th>\n",
       "      <th>OvertimePay</th>\n",
       "      <th>OT_pay_percentage</th>\n",
       "    </tr>\n",
       "  </thead>\n",
       "  <tbody>\n",
       "    <tr>\n",
       "      <th>0</th>\n",
       "      <td>2011</td>\n",
       "      <td>2.594113e+09</td>\n",
       "      <td>1.638191e+08</td>\n",
       "      <td>6.315034</td>\n",
       "    </tr>\n",
       "    <tr>\n",
       "      <th>1</th>\n",
       "      <td>2012</td>\n",
       "      <td>2.724736e+09</td>\n",
       "      <td>1.846650e+08</td>\n",
       "      <td>6.777355</td>\n",
       "    </tr>\n",
       "    <tr>\n",
       "      <th>2</th>\n",
       "      <td>2013</td>\n",
       "      <td>2.918656e+09</td>\n",
       "      <td>1.986214e+08</td>\n",
       "      <td>6.805236</td>\n",
       "    </tr>\n",
       "    <tr>\n",
       "      <th>3</th>\n",
       "      <td>2014</td>\n",
       "      <td>2.876911e+09</td>\n",
       "      <td>2.059186e+08</td>\n",
       "      <td>7.157629</td>\n",
       "    </tr>\n",
       "  </tbody>\n",
       "</table>\n",
       "</div>"
      ],
      "text/plain": [
       "   Year      TotalPay   OvertimePay  OT_pay_percentage\n",
       "0  2011  2.594113e+09  1.638191e+08           6.315034\n",
       "1  2012  2.724736e+09  1.846650e+08           6.777355\n",
       "2  2013  2.918656e+09  1.986214e+08           6.805236\n",
       "3  2014  2.876911e+09  2.059186e+08           7.157629"
      ]
     },
     "execution_count": 158,
     "metadata": {},
     "output_type": "execute_result"
    }
   ],
   "source": [
    "percentage_df"
   ]
  },
  {
   "cell_type": "markdown",
   "metadata": {},
   "source": [
    "3. Which Job Title in Year 2014 has lowest mean salary?"
   ]
  },
  {
   "cell_type": "code",
   "execution_count": 164,
   "metadata": {},
   "outputs": [
    {
     "data": {
      "text/html": [
       "<div>\n",
       "<style scoped>\n",
       "    .dataframe tbody tr th:only-of-type {\n",
       "        vertical-align: middle;\n",
       "    }\n",
       "\n",
       "    .dataframe tbody tr th {\n",
       "        vertical-align: top;\n",
       "    }\n",
       "\n",
       "    .dataframe thead th {\n",
       "        text-align: right;\n",
       "    }\n",
       "</style>\n",
       "<table border=\"1\" class=\"dataframe\">\n",
       "  <thead>\n",
       "    <tr style=\"text-align: right;\">\n",
       "      <th></th>\n",
       "      <th>JobTitle</th>\n",
       "      <th>TotalPay</th>\n",
       "    </tr>\n",
       "  </thead>\n",
       "  <tbody>\n",
       "    <tr>\n",
       "      <th>836</th>\n",
       "      <td>Special Assistant 15</td>\n",
       "      <td>0.0</td>\n",
       "    </tr>\n",
       "    <tr>\n",
       "      <th>118</th>\n",
       "      <td>BdComm Mbr, Grp2,M=$25/Mtg</td>\n",
       "      <td>325.0</td>\n",
       "    </tr>\n",
       "  </tbody>\n",
       "</table>\n",
       "</div>"
      ],
      "text/plain": [
       "                       JobTitle  TotalPay\n",
       "836        Special Assistant 15       0.0\n",
       "118  BdComm Mbr, Grp2,M=$25/Mtg     325.0"
      ]
     },
     "execution_count": 164,
     "metadata": {},
     "output_type": "execute_result"
    }
   ],
   "source": [
    "df[df['Year']==2014].groupby(['JobTitle']).agg({'TotalPay':np.mean}).reset_index().sort_values(['TotalPay']).iloc[:2,:]"
   ]
  },
  {
   "cell_type": "markdown",
   "metadata": {},
   "source": [
    "Special Assistant 15 has lowest mean salary in 2014"
   ]
  }
 ],
 "metadata": {
  "kernelspec": {
   "display_name": "Python 3",
   "language": "python",
   "name": "python3"
  },
  "language_info": {
   "codemirror_mode": {
    "name": "ipython",
    "version": 3
   },
   "file_extension": ".py",
   "mimetype": "text/x-python",
   "name": "python",
   "nbconvert_exporter": "python",
   "pygments_lexer": "ipython3",
   "version": "3.7.4"
  }
 },
 "nbformat": 4,
 "nbformat_minor": 2
}
