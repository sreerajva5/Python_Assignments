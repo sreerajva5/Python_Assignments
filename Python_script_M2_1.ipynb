{
 "cells": [
  {
   "cell_type": "code",
   "execution_count": 1,
   "metadata": {},
   "outputs": [],
   "source": [
    "# 1. What is the output of the following code?\n",
    "# nums = set([1,1,2,3,3,3,4,4])\n",
    "# print(len(nums))\n",
    "# Hint: Set consists unique element.\n",
    "\n",
    "\n",
    "# Answer - 4"
   ]
  },
  {
   "cell_type": "code",
   "execution_count": 2,
   "metadata": {},
   "outputs": [
    {
     "name": "stdout",
     "output_type": "stream",
     "text": [
      "4\n"
     ]
    }
   ],
   "source": [
    "nums = set([1,1,2,3,3,3,4,4])\n",
    "print(len(nums))"
   ]
  },
  {
   "cell_type": "code",
   "execution_count": 3,
   "metadata": {},
   "outputs": [],
   "source": [
    "# 2. What will be the output?\n",
    "# d = {\"john\":40, \"peter\":45}\n",
    "# print(list(d.keys()))\n",
    "# Hint: d.keys() is the function which will show keys.\n",
    "\n",
    "\n",
    "# Answer - ['john', 'peter']"
   ]
  },
  {
   "cell_type": "code",
   "execution_count": 4,
   "metadata": {},
   "outputs": [
    {
     "name": "stdout",
     "output_type": "stream",
     "text": [
      "['john', 'peter']\n"
     ]
    }
   ],
   "source": [
    "d = {\"john\":40, \"peter\":45}\n",
    "print(list(d.keys()))"
   ]
  },
  {
   "cell_type": "code",
   "execution_count": 7,
   "metadata": {},
   "outputs": [
    {
     "name": "stdout",
     "output_type": "stream",
     "text": [
      "Enter password: Abcd123$\n",
      "valid password\n"
     ]
    }
   ],
   "source": [
    "# 3. A website requires a user to input username and password to register. Write a program\n",
    "# to check the validity of password given by user. Following are the criteria for checking\n",
    "# password:\n",
    "# 1. At least 1 letter between [a-z]\n",
    "# 2. At least 1 number between [0-9]\n",
    "# 1. At least 1 letter between [A-Z]\n",
    "# 3. At least 1 character from [$#@]\n",
    "# 4. Minimum length of transaction password: 6\n",
    "# 5. Maximum length of transaction password: 12\n",
    "# Hint: In case of input data being supplied to the question, it should be assumed to be a console input.\n",
    "\n",
    "\n",
    "import re\n",
    "\n",
    "p = input('Enter password: ')\n",
    "\n",
    "if not re.search(r'[a-z]', p):\n",
    "    print('invalid password')\n",
    "elif not re.search(r'[A-Z]', p):\n",
    "    print('invalid password')\n",
    "elif not re.search(r'[0-9]', p):\n",
    "    print('invalid password')\n",
    "elif not re.search(r'[$#@]', p):\n",
    "    print('invalid password')\n",
    "elif not 6 <= len(p) <= 12:\n",
    "    print('invalid password')\n",
    "else:\n",
    "    print('valid password')"
   ]
  },
  {
   "cell_type": "code",
   "execution_count": 8,
   "metadata": {},
   "outputs": [
    {
     "name": "stdout",
     "output_type": "stream",
     "text": [
      "index item\n",
      "0 4\n",
      "1 7\n",
      "2 3\n",
      "3 2\n",
      "4 5\n",
      "5 9\n"
     ]
    }
   ],
   "source": [
    "# 4. Write a for loop that prints all elements of a list and their position in the list.\n",
    "#  a = [4,7,3,2,5,9]\n",
    "# Hint: Use Loop to iterate through list elements\n",
    "\n",
    "a = [4,7,3,2,5,9]\n",
    "print('index', 'item')\n",
    "for i in range(len(a)):\n",
    "    print(i, a[i])"
   ]
  },
  {
   "cell_type": "code",
   "execution_count": 9,
   "metadata": {},
   "outputs": [
    {
     "name": "stdout",
     "output_type": "stream",
     "text": [
      "H1e2l3l4o5w6o7r8l9d\n",
      "Helloworld"
     ]
    }
   ],
   "source": [
    "# 5. Please write a program which accepts a string from console and print the\n",
    "# characters that have even indexes.\n",
    "#  Example: If the following string is given as input to the program:\n",
    "#  H1e2l3l4o5w6o7r8l9d\n",
    "#  Then, the output of the program should be:\n",
    "#  Helloworld\n",
    "\n",
    "s = input()\n",
    "for i in range(len(s)):\n",
    "    if i%2 == 0:\n",
    "        print(s[i], end='')"
   ]
  },
  {
   "cell_type": "code",
   "execution_count": 10,
   "metadata": {},
   "outputs": [
    {
     "name": "stdout",
     "output_type": "stream",
     "text": [
      "rise to vote sir\n",
      "ris etov ot esir\n"
     ]
    }
   ],
   "source": [
    "# 6. Please write a program which accepts a string from console and print it in reverse order.\n",
    "#  Example: If the following string is given as input to the program:\n",
    "#  rise to vote sir\n",
    "#  Then, the output of the program should be:\n",
    "#  ris etov ot esir\n",
    "\n",
    "s = input()\n",
    "print(s[::-1])"
   ]
  },
  {
   "cell_type": "code",
   "execution_count": 11,
   "metadata": {},
   "outputs": [
    {
     "name": "stdout",
     "output_type": "stream",
     "text": [
      "abcdefgabc\n",
      "{'a': 2, 'b': 2, 'c': 2, 'd': 1, 'e': 1, 'f': 1, 'g': 1}\n"
     ]
    }
   ],
   "source": [
    "# 7. Please write a program which count and print the numbers of each character in a\n",
    "# string input by console.\n",
    "#  Example: If the following string is given as input to the program:\n",
    "#  abcdefgabc\n",
    "#  Then, the output of the program should be:\n",
    "# a,2\n",
    "# c,2\n",
    "# b,2\n",
    "# e,1\n",
    "# d,1\n",
    "# g,1\n",
    "# f,1\n",
    "\n",
    "s = input()\n",
    "count = {}\n",
    "for i in s:\n",
    "    if i not in count:\n",
    "        count[i] = 1\n",
    "    else:\n",
    "        count[i] += 1\n",
    "print(count)"
   ]
  },
  {
   "cell_type": "code",
   "execution_count": 12,
   "metadata": {},
   "outputs": [
    {
     "name": "stdout",
     "output_type": "stream",
     "text": [
      "[35]\n"
     ]
    }
   ],
   "source": [
    "# 8. With two given lists [1,3,6,78,35,55] and [12,24,35,24,88,120,155], write a\n",
    "# program to make a list whose elements are intersection of the above given lists.\n",
    "\n",
    "a = [1,3,6,78,35,55]\n",
    "b = [12,24,35,24,88,120,155]\n",
    "\n",
    "print(list(set(a) & set(b)))"
   ]
  },
  {
   "cell_type": "code",
   "execution_count": 2,
   "metadata": {},
   "outputs": [
    {
     "name": "stdout",
     "output_type": "stream",
     "text": [
      "[155, 120, 88, 35, 24, 12]\n"
     ]
    }
   ],
   "source": [
    "# 9. With a given list [12,24,35,24,88,120,155,88,120,155], write a program to print this\n",
    "# list after removing all duplicate values with original order reserved.\n",
    "\n",
    "a = [12,24,35,24,88,120,155,88,120,155]\n",
    "a2 = []\n",
    "for i in a:\n",
    "    if i not in a2:\n",
    "        a2.append(i)\n",
    "a2_rev = a2[::-1]\n",
    "print(a2_rev)"
   ]
  },
  {
   "cell_type": "code",
   "execution_count": 3,
   "metadata": {},
   "outputs": [
    {
     "name": "stdout",
     "output_type": "stream",
     "text": [
      "[12, 35, 88, 120, 155]\n"
     ]
    }
   ],
   "source": [
    "# 10. By using list comprehension, please write a program to print the list after removing the value 24 in [12,24,35,24,88,120,155].\n",
    "\n",
    "a = [12,24,35,24,88,120,155]\n",
    "\n",
    "print([i for i in a if i != 24])"
   ]
  },
  {
   "cell_type": "code",
   "execution_count": 4,
   "metadata": {},
   "outputs": [
    {
     "name": "stdout",
     "output_type": "stream",
     "text": [
      "[24, 35, 70, 155]\n"
     ]
    }
   ],
   "source": [
    "# 11. By using list comprehension, please write a program to print the list after removing the 0th,4th,5th numbers in [12,24,35,70,88,120,155].\n",
    "\n",
    "a = [12,24,35,70,88,120,155]\n",
    "\n",
    "print([a[i] for i in range(len(a)) if i not in [0,4,5]])"
   ]
  },
  {
   "cell_type": "code",
   "execution_count": 8,
   "metadata": {},
   "outputs": [
    {
     "name": "stdout",
     "output_type": "stream",
     "text": [
      "[12, 24, 88, 120, 155]\n"
     ]
    }
   ],
   "source": [
    "# 12. By using list comprehension, please write a program to print the list after removing delete numbers \n",
    "# which are divisible by 5 and 7 in [12,24,35,70,88,120,155].\n",
    "\n",
    "a = [12,24,35,70,88,120,155]\n",
    "\n",
    "print([i for i in a if (i%5 != 0 or i%7 != 0)])"
   ]
  },
  {
   "cell_type": "code",
   "execution_count": 13,
   "metadata": {},
   "outputs": [
    {
     "name": "stdout",
     "output_type": "stream",
     "text": [
      "[665, 735, 315, 490, 525]\n"
     ]
    }
   ],
   "source": [
    "# 13. Please write a program to randomly generate a list with 5 numbers, which are divisible by 5 and 7 , \n",
    "# between 1 and 1000 inclusive.\n",
    "\n",
    "a = [i for i in range(1,1001) if (i%5 == 0 and i%7 == 0)]\n",
    "\n",
    "import random\n",
    "print(random.choices(a, k=5))"
   ]
  },
  {
   "cell_type": "code",
   "execution_count": 15,
   "metadata": {},
   "outputs": [
    {
     "name": "stdout",
     "output_type": "stream",
     "text": [
      "5\n",
      "3.55\n"
     ]
    }
   ],
   "source": [
    "# 14. Write a program to compute 1/2+2/3+3/4+...+n/n+1 with a given n input by console (n>0).\n",
    "# Example:\n",
    "# If the following n is given as input to the program:\n",
    "# 5\n",
    "# Then, the output of the program should be:\n",
    "# 3.55\n",
    "\n",
    "n = int(input())\n",
    "s = 0\n",
    "for i in range(1,n+1):\n",
    "    s += (i/(i+1))\n",
    "\n",
    "s = round(s, 2)\n",
    "print(s)"
   ]
  },
  {
   "cell_type": "code",
   "execution_count": null,
   "metadata": {},
   "outputs": [],
   "source": []
  }
 ],
 "metadata": {
  "kernelspec": {
   "display_name": "Python 3",
   "language": "python",
   "name": "python3"
  },
  "language_info": {
   "codemirror_mode": {
    "name": "ipython",
    "version": 3
   },
   "file_extension": ".py",
   "mimetype": "text/x-python",
   "name": "python",
   "nbconvert_exporter": "python",
   "pygments_lexer": "ipython3",
   "version": "3.8.5"
  }
 },
 "nbformat": 4,
 "nbformat_minor": 4
}
