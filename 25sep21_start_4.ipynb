{
 "cells": [
  {
   "cell_type": "raw",
   "metadata": {},
   "source": [
    "1. A Robot moves in a Plane starting from the origin point (0,0). The robot can move\n",
    "toward UP, DOWN, LEFT, RIGHT. The trace of Robot movement is as given\n",
    "following:\n",
    "UP 5\n",
    "DOWN 3\n",
    "LEFT 3\n",
    "RIGHT 2\n",
    "(The numbers after directions are steps)\n",
    "Write a program to compute the current distance from the origin point after\n",
    "sequencing of movements.\n",
    "Hint: Use math module."
   ]
  },
  {
   "cell_type": "code",
   "execution_count": 14,
   "metadata": {},
   "outputs": [
    {
     "name": "stdout",
     "output_type": "stream",
     "text": [
      "current position is :  [-1, 2]\n",
      "distance from initial prosition to current position is 2.24 units\n"
     ]
    }
   ],
   "source": [
    "import math\n",
    "\n",
    "start = [0,0]\n",
    "stop = [0,0]\n",
    "moves = ['UP 5', 'DOWN 3', 'LEFT 3', 'RIGHT 2']\n",
    "\n",
    "for i in moves:\n",
    "    j = i.split()[0]\n",
    "    k = int(i.split()[1])\n",
    "    if j == 'UP':\n",
    "        stop[1] += k\n",
    "    elif j == 'DOWN':\n",
    "        stop[1] -= k\n",
    "    elif j == 'RIGHT':\n",
    "        stop[0] += k\n",
    "    elif j == 'LEFT':\n",
    "        stop[0] -= k\n",
    "\n",
    "print('current position is : ', stop)\n",
    "\n",
    "d = math.sqrt(((stop[0]-start[0])**2 + (stop[1]-start[1])**2))\n",
    "d = round(d,2)\n",
    "print(f'distance from initial prosition to current position is {d} units')"
   ]
  },
  {
   "cell_type": "raw",
   "metadata": {},
   "source": [
    "2. Data of XYZ company is stored in a sorted list. Write a program to search for\n",
    "specific data from that list.\n",
    "Hint: Use if/elif to deal with conditions."
   ]
  },
  {
   "cell_type": "code",
   "execution_count": 20,
   "metadata": {},
   "outputs": [],
   "source": [
    "l = [1,2,3,4,5,6,7,8,9,10]   #sorted list to search for data"
   ]
  },
  {
   "cell_type": "code",
   "execution_count": 21,
   "metadata": {},
   "outputs": [],
   "source": [
    "# search function to search data inside list\n",
    "def search(l,n):\n",
    "    for i in range(len(l)):\n",
    "        if l[i] == n:\n",
    "            postion = i\n",
    "            print(f'The value {n} is at position {i} inside the list')\n",
    "            break\n",
    "    else:\n",
    "        print(f'The value {n} is not inside the list')"
   ]
  },
  {
   "cell_type": "code",
   "execution_count": 22,
   "metadata": {},
   "outputs": [
    {
     "name": "stdout",
     "output_type": "stream",
     "text": [
      "The value 8 is at position 7 inside the list\n"
     ]
    }
   ],
   "source": [
    "# searching for 8 inside list 'l' using search function defined above\n",
    "\n",
    "search(l, 8)"
   ]
  },
  {
   "cell_type": "code",
   "execution_count": 23,
   "metadata": {},
   "outputs": [
    {
     "name": "stdout",
     "output_type": "stream",
     "text": [
      "The value 100 is not inside the list\n"
     ]
    }
   ],
   "source": [
    "# searching for 100 inside list 'l' using search function defined above\n",
    "\n",
    "search(l, 100)"
   ]
  },
  {
   "cell_type": "raw",
   "metadata": {},
   "source": [
    "3. A weather forecasting organization wants to show whether it is day or night.\n",
    "Write a program to find whether is it dark outside or not based on the local\n",
    "system time.\n",
    "Hint: Use time module."
   ]
  },
  {
   "cell_type": "code",
   "execution_count": 18,
   "metadata": {},
   "outputs": [
    {
     "name": "stdout",
     "output_type": "stream",
     "text": [
      "Its not dark outside\n"
     ]
    }
   ],
   "source": [
    "# assume after 7 PM and till 7 AM it will be dark\n",
    "\n",
    "import time\n",
    "\n",
    "curr_time = time.asctime()\n",
    "if int(curr_time[11:13]) >= 19 or int(curr_time[11:13]) <= 6:\n",
    "    print('Its dark outside')\n",
    "else:\n",
    "    print('Its not dark outside')"
   ]
  },
  {
   "cell_type": "raw",
   "metadata": {},
   "source": [
    "4. Write a program to find distance between two locations when their latitude and\n",
    "longitudes are given.\n",
    "Hint: Use math module."
   ]
  },
  {
   "cell_type": "code",
   "execution_count": 19,
   "metadata": {},
   "outputs": [
    {
     "name": "stdout",
     "output_type": "stream",
     "text": [
      "Input coordinates of two points:\n",
      "Starting latitude: 12\n",
      "Starting longitude: 77\n",
      "ending latitude: 9\n",
      "Ending longitude: 76\n",
      "The distance is 351.04 km.\n"
     ]
    }
   ],
   "source": [
    "from math import radians, sin, cos, acos\n",
    "\n",
    "print(\"Input coordinates of two points:\")\n",
    "slat = radians(float(input(\"Starting latitude: \")))\n",
    "slon = radians(float(input(\"Starting longitude: \")))\n",
    "elat = radians(float(input(\"ending latitude: \")))\n",
    "elon = radians(float(input(\"Ending longitude: \")))\n",
    "\n",
    "dist = round(6371.01 * acos(sin(slat)*sin(elat) + cos(slat)*cos(elat)*cos(slon - elon)),2)\n",
    "print(f\"The distance is {dist} km.\")"
   ]
  },
  {
   "cell_type": "raw",
   "metadata": {},
   "source": [
    "5. Design a banking system software with options like cash withdraw, cash credit\n",
    "and change password. The software must display appropriate results based on\n",
    "user inputs.\n",
    "Hint: Use if else statements and functions"
   ]
  },
  {
   "cell_type": "code",
   "execution_count": 24,
   "metadata": {},
   "outputs": [],
   "source": [
    "class Account:\n",
    "    def __init__(self, name, balance, min_balance, password = 'welcome'):\n",
    "        self.name = name\n",
    "        self.balance = balance\n",
    "        self.min_balance = min_balance\n",
    "        self.password = password\n",
    "        \n",
    "    def credit(self, amount):\n",
    "        x = input('Enter the password: \\n')\n",
    "        if x == self.password:\n",
    "            self.balance += amount\n",
    "            print(f'Deposit successful. You account balance is {self.balance}')\n",
    "        else:\n",
    "            print('Sorry! wrong password. Please retry with right password.')\n",
    "    def withdrawal(self, amount):\n",
    "        x = input('Enter the password: \\n')\n",
    "        if x == self.password:\n",
    "            if amount <= self.balance:\n",
    "                self.balance -= amount\n",
    "                print(f'Withdrawal successful. You account balance is {self.balance}')\n",
    "            else:\n",
    "                print('Sorry! Insufficient balance.')\n",
    "        else:\n",
    "            print('Sorry! wrong password. Please retry with right password.')\n",
    "    def password_change(self):\n",
    "        p = input('Enter the new password: \\n')\n",
    "        self.password = p"
   ]
  },
  {
   "cell_type": "code",
   "execution_count": 25,
   "metadata": {},
   "outputs": [],
   "source": [
    "sre = Account('Sreeraj', 100, 0)"
   ]
  },
  {
   "cell_type": "code",
   "execution_count": 26,
   "metadata": {},
   "outputs": [
    {
     "name": "stdout",
     "output_type": "stream",
     "text": [
      "Enter the new password: \n",
      "abcd1\n"
     ]
    }
   ],
   "source": [
    "sre.password_change()"
   ]
  },
  {
   "cell_type": "code",
   "execution_count": 27,
   "metadata": {},
   "outputs": [
    {
     "name": "stdout",
     "output_type": "stream",
     "text": [
      "Enter the password: \n",
      "10\n",
      "Sorry! wrong password. Please retry with right password.\n"
     ]
    }
   ],
   "source": [
    "sre.credit(10)"
   ]
  },
  {
   "cell_type": "code",
   "execution_count": 28,
   "metadata": {},
   "outputs": [
    {
     "name": "stdout",
     "output_type": "stream",
     "text": [
      "Enter the password: \n",
      "abcd1\n",
      "Deposit successful. You account balance is 110\n"
     ]
    }
   ],
   "source": [
    "sre.credit(10)"
   ]
  },
  {
   "cell_type": "code",
   "execution_count": 29,
   "metadata": {},
   "outputs": [
    {
     "data": {
      "text/plain": [
       "110"
      ]
     },
     "execution_count": 29,
     "metadata": {},
     "output_type": "execute_result"
    }
   ],
   "source": [
    "sre.balance"
   ]
  },
  {
   "cell_type": "raw",
   "metadata": {},
   "source": [
    "6. Write a program which will find all numbers which are divisible by 7 but are not a\n",
    "multiple of 5, between 2000 and 3200 (both included). The numbers obtained\n",
    "should be printed in a comma-separated sequence on a single line."
   ]
  },
  {
   "cell_type": "code",
   "execution_count": 30,
   "metadata": {},
   "outputs": [],
   "source": [
    "# defining a functon should run with upper limit and lower limit numbers, \n",
    "# will give the numbers which are divisible by 7 but are not a multiple of 5 as output\n",
    "\n",
    "def find_numbers(upper,lower):\n",
    "    l = []\n",
    "    for i in range(upper,lower+1):\n",
    "        if i%7 == 0 and i%5 != 0:\n",
    "            l.append(str(i))\n",
    "    print(', '.join(l))"
   ]
  },
  {
   "cell_type": "code",
   "execution_count": 31,
   "metadata": {},
   "outputs": [
    {
     "name": "stdout",
     "output_type": "stream",
     "text": [
      "2002, 2009, 2016, 2023, 2037, 2044, 2051, 2058, 2072, 2079, 2086, 2093, 2107, 2114, 2121, 2128, 2142, 2149, 2156, 2163, 2177, 2184, 2191, 2198, 2212, 2219, 2226, 2233, 2247, 2254, 2261, 2268, 2282, 2289, 2296, 2303, 2317, 2324, 2331, 2338, 2352, 2359, 2366, 2373, 2387, 2394, 2401, 2408, 2422, 2429, 2436, 2443, 2457, 2464, 2471, 2478, 2492, 2499, 2506, 2513, 2527, 2534, 2541, 2548, 2562, 2569, 2576, 2583, 2597, 2604, 2611, 2618, 2632, 2639, 2646, 2653, 2667, 2674, 2681, 2688, 2702, 2709, 2716, 2723, 2737, 2744, 2751, 2758, 2772, 2779, 2786, 2793, 2807, 2814, 2821, 2828, 2842, 2849, 2856, 2863, 2877, 2884, 2891, 2898, 2912, 2919, 2926, 2933, 2947, 2954, 2961, 2968, 2982, 2989, 2996, 3003, 3017, 3024, 3031, 3038, 3052, 3059, 3066, 3073, 3087, 3094, 3101, 3108, 3122, 3129, 3136, 3143, 3157, 3164, 3171, 3178, 3192, 3199\n"
     ]
    }
   ],
   "source": [
    "find_numbers(2000, 3200)"
   ]
  },
  {
   "cell_type": "raw",
   "metadata": {},
   "source": [
    "7. Write a program which can compute the factorial of a given numbers. Use recursion\n",
    "to find it."
   ]
  },
  {
   "cell_type": "code",
   "execution_count": 34,
   "metadata": {},
   "outputs": [],
   "source": [
    "def factorial(n):\n",
    "    if n==0:\n",
    "        return 1\n",
    "    else:\n",
    "        return n*factorial(n-1)"
   ]
  },
  {
   "cell_type": "code",
   "execution_count": 35,
   "metadata": {},
   "outputs": [
    {
     "data": {
      "text/plain": [
       "120"
      ]
     },
     "execution_count": 35,
     "metadata": {},
     "output_type": "execute_result"
    }
   ],
   "source": [
    "factorial(5)"
   ]
  },
  {
   "cell_type": "raw",
   "metadata": {},
   "source": [
    "8. Write a program that calculates and prints the value according to the given formula:\n",
    "Q = Square root of [(2 * C * D)/H]\n",
    "Following are the fixed values of C and H: C is 50. H is 30.\n",
    "D is the variable whose values should be input to your program in a commaseparated sequence.\n",
    " Example:\n",
    "Let us assume the following comma separated input sequence is given to the\n",
    "program:\n",
    "100,150,180\n",
    "The output of the program should be:\n",
    "18,22,24"
   ]
  },
  {
   "cell_type": "code",
   "execution_count": 36,
   "metadata": {},
   "outputs": [],
   "source": [
    "import math\n",
    "\n",
    "def number_out():\n",
    "    l = input('Enter the numbers seperated by comma: \\n').split(',')\n",
    "    o = []\n",
    "    for i in l:\n",
    "        o.append(str(int(math.sqrt(10*int(i)/3))))\n",
    "    print(','.join(o))"
   ]
  },
  {
   "cell_type": "code",
   "execution_count": 37,
   "metadata": {},
   "outputs": [
    {
     "name": "stdout",
     "output_type": "stream",
     "text": [
      "Enter the numbers seperated by comma: \n",
      "100,150,180\n",
      "18,22,24\n"
     ]
    }
   ],
   "source": [
    "number_out()"
   ]
  },
  {
   "cell_type": "raw",
   "metadata": {},
   "source": [
    "9. Write a program which takes 2 digits, X, Y as input and generates a 2-dimensional\n",
    "array. The element value in the i-th row and j-th column of the array should be i*j.\n",
    "Note: i=0,1.., X-1; j=0,1,¡-Y-1.\n",
    "Example:\n",
    "Suppose the following inputs are given to the program:\n",
    "3,5\n",
    "Then, the output of the program should be:\n",
    "[[0, 0, 0, 0, 0], [0, 1, 2, 3, 4], [0, 2, 4, 6, 8]]"
   ]
  },
  {
   "cell_type": "code",
   "execution_count": 38,
   "metadata": {},
   "outputs": [
    {
     "name": "stdout",
     "output_type": "stream",
     "text": [
      "Enter the number of rows: \n",
      "3\n",
      "Enter the number of columns: \n",
      "5\n",
      "[[0 0 0 0 0]\n",
      " [0 1 2 3 4]\n",
      " [0 2 4 6 8]]\n",
      "<class 'numpy.ndarray'>\n"
     ]
    }
   ],
   "source": [
    "import numpy as np\n",
    "\n",
    "r = int(input('Enter the number of rows: \\n'))\n",
    "c = int(input('Enter the number of columns: \\n'))\n",
    "l =[]\n",
    "for i in range(r):\n",
    "    l.append([])\n",
    "\n",
    "for i in range(r):\n",
    "    for j in range(c):\n",
    "        l[i].append(i*j)\n",
    "a = np.array(l)\n",
    "print(a)\n",
    "print(type(a))"
   ]
  },
  {
   "cell_type": "raw",
   "metadata": {},
   "source": [
    "10. Write a program that accepts a comma separated sequence of words as input and\n",
    "prints the words in a comma-separated sequence after sorting them alphabetically.\n",
    "Suppose the following input is supplied to the program:\n",
    " without, hello, bag, world\n",
    " Then, the output should be:\n",
    " bag, hello, without, world"
   ]
  },
  {
   "cell_type": "code",
   "execution_count": 39,
   "metadata": {},
   "outputs": [],
   "source": [
    "def word_sort():\n",
    "    l = input('Enter the words separated by comma: \\n').split(',')\n",
    "    l.sort()\n",
    "    print(','.join(l))"
   ]
  },
  {
   "cell_type": "code",
   "execution_count": 40,
   "metadata": {},
   "outputs": [
    {
     "name": "stdout",
     "output_type": "stream",
     "text": [
      "Enter the words separated by comma: \n",
      "without, hello, bag, world\n",
      " bag, hello, world,without\n"
     ]
    }
   ],
   "source": [
    "word_sort()"
   ]
  },
  {
   "cell_type": "raw",
   "metadata": {},
   "source": [
    "11.Write a program that accepts sequence of lines as input and prints the lines after\n",
    "making all characters in the sentence capitalized.\n",
    "Suppose the following input is supplied to the program:\n",
    "• Hello world\n",
    "• Practice makes perfect\n",
    " Then, the output should be:\n",
    "• HELLO WORLD\n",
    "• PRACTICE MAKES PERFECT"
   ]
  },
  {
   "cell_type": "code",
   "execution_count": 41,
   "metadata": {},
   "outputs": [],
   "source": [
    "def caps():\n",
    "    s = input('Enter the sentance: \\n')\n",
    "    print(s.upper())"
   ]
  },
  {
   "cell_type": "code",
   "execution_count": 42,
   "metadata": {},
   "outputs": [
    {
     "name": "stdout",
     "output_type": "stream",
     "text": [
      "Enter the sentance: \n",
      "Hello world\n",
      "HELLO WORLD\n"
     ]
    }
   ],
   "source": [
    "caps()"
   ]
  },
  {
   "cell_type": "raw",
   "metadata": {},
   "source": [
    "12.Write a program that accepts a sequence of whitespace separated words as input\n",
    "and prints the words after removing all duplicate words and sorting them\n",
    "alphanumerically.\n",
    "Suppose the following input is supplied to the program:\n",
    " hello world and practice makes perfect and hello world again\n",
    " Then, the output should be:\n",
    " again and hello makes perfect practice world"
   ]
  },
  {
   "cell_type": "code",
   "execution_count": 43,
   "metadata": {},
   "outputs": [],
   "source": [
    "def word_order():\n",
    "    l = input('Enter the words seperated by space: \\n').split()\n",
    "    l = list(set(l))\n",
    "    l.sort()\n",
    "    print(' '.join(l))"
   ]
  },
  {
   "cell_type": "code",
   "execution_count": 44,
   "metadata": {},
   "outputs": [
    {
     "name": "stdout",
     "output_type": "stream",
     "text": [
      "Enter the words seperated by space: \n",
      "hello world and practice makes perfect and hello world again\n",
      "again and hello makes perfect practice world\n"
     ]
    }
   ],
   "source": [
    "word_order()"
   ]
  },
  {
   "cell_type": "raw",
   "metadata": {},
   "source": [
    "13.Write a program which accepts a sequence of comma separated 4-digit binary\n",
    "numbers as its input and then check whether they are divisible by 5 or not. The\n",
    "numbers that are divisible by 5 are to be printed in a comma separated sequence.\n",
    "Example:\n",
    "0100,0011,1010,1001\n",
    "Then the output should be:\n",
    "1010"
   ]
  },
  {
   "cell_type": "code",
   "execution_count": 45,
   "metadata": {},
   "outputs": [],
   "source": [
    "#binary to decimal converter (b should be given as a string)\n",
    "\n",
    "def binary_to_decimal(b):\n",
    "    l = list(b)\n",
    "    d = 0\n",
    "    for i in range(len(b)):\n",
    "        x = l.pop()\n",
    "        if x == '1':\n",
    "            d += pow(2,i)\n",
    "    return(d)\n",
    "\n",
    "# function to take binary numbers and output multiples of 5\n",
    "\n",
    "def div_check():\n",
    "    m = input('Enter 4 binary numbers seperated by comma: \\n').split(',')\n",
    "    a = list(map(binary_to_decimal, m))\n",
    "    for i in a:\n",
    "        if i%5 == 0:\n",
    "            print(m[a.index(i)])"
   ]
  },
  {
   "cell_type": "code",
   "execution_count": 46,
   "metadata": {},
   "outputs": [
    {
     "name": "stdout",
     "output_type": "stream",
     "text": [
      "Enter 4 binary numbers seperated by comma: \n",
      "0100,0011,1010,1001\n",
      "1010\n"
     ]
    }
   ],
   "source": [
    "div_check()"
   ]
  },
  {
   "cell_type": "raw",
   "metadata": {},
   "source": [
    "14.Write a program that accepts a sentence and calculate the number of upper-case\n",
    "letters and lower case letters.\n",
    " Suppose the following input is supplied to the program:\n",
    " Hello world!\n",
    " Then, the output should be:\n",
    " UPPER CASE 1\n",
    " LOWER CASE 9"
   ]
  },
  {
   "cell_type": "code",
   "execution_count": 47,
   "metadata": {},
   "outputs": [],
   "source": [
    "def case_check():\n",
    "    s = input('Enter the sentence: \\n')\n",
    "    u = 0\n",
    "    l = 0\n",
    "    for i in s:\n",
    "        if i.isupper():\n",
    "            u += 1\n",
    "        elif i.islower():\n",
    "            l += 1\n",
    "    print(f'UPPER CASE : {u} & LOWER CASE : {l}')"
   ]
  },
  {
   "cell_type": "code",
   "execution_count": 48,
   "metadata": {},
   "outputs": [
    {
     "name": "stdout",
     "output_type": "stream",
     "text": [
      "Enter the sentence: \n",
      "Hello world!\n",
      "UPPER CASE : 1 & LOWER CASE : 9\n"
     ]
    }
   ],
   "source": [
    "case_check()"
   ]
  },
  {
   "cell_type": "raw",
   "metadata": {},
   "source": [
    "15. Give example of fsum and sum function of math library"
   ]
  },
  {
   "cell_type": "code",
   "execution_count": 49,
   "metadata": {},
   "outputs": [],
   "source": [
    "import math\n",
    "\n",
    "l = [0.1, 0.1, 0.1, 0.1, 0.1, 0.1, 0.1, 0.1, 0.1, 0.1]"
   ]
  },
  {
   "cell_type": "code",
   "execution_count": 50,
   "metadata": {},
   "outputs": [
    {
     "data": {
      "text/plain": [
       "1.0"
      ]
     },
     "execution_count": 50,
     "metadata": {},
     "output_type": "execute_result"
    }
   ],
   "source": [
    "math.fsum(l)  # fsum function in math module"
   ]
  },
  {
   "cell_type": "code",
   "execution_count": 51,
   "metadata": {},
   "outputs": [
    {
     "data": {
      "text/plain": [
       "0.9999999999999999"
      ]
     },
     "execution_count": 51,
     "metadata": {},
     "output_type": "execute_result"
    }
   ],
   "source": [
    "sum(l)  # sum function"
   ]
  },
  {
   "cell_type": "code",
   "execution_count": null,
   "metadata": {},
   "outputs": [],
   "source": []
  }
 ],
 "metadata": {
  "kernelspec": {
   "display_name": "Python 3",
   "language": "python",
   "name": "python3"
  },
  "language_info": {
   "codemirror_mode": {
    "name": "ipython",
    "version": 3
   },
   "file_extension": ".py",
   "mimetype": "text/x-python",
   "name": "python",
   "nbconvert_exporter": "python",
   "pygments_lexer": "ipython3",
   "version": "3.8.5"
  }
 },
 "nbformat": 4,
 "nbformat_minor": 4
}
