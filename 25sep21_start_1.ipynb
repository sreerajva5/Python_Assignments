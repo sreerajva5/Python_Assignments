{
 "cells": [
  {
   "cell_type": "raw",
   "metadata": {},
   "source": [
    "1. Write a program to find the factors of a given number and check whether the\n",
    "factor is even or odd.\n",
    "Hint: Use Loop with if-else statements"
   ]
  },
  {
   "cell_type": "code",
   "execution_count": 1,
   "metadata": {},
   "outputs": [
    {
     "name": "stdout",
     "output_type": "stream",
     "text": [
      "10\n",
      "{1: 'odd', 2: 'even', 5: 'odd', 10: 'even'}\n"
     ]
    }
   ],
   "source": [
    "n = int(input())\n",
    "factors = {}\n",
    "for i in range(1,n+1):\n",
    "    if n%i == 0:\n",
    "        if i%2 == 0:\n",
    "            factors[i] = 'even'\n",
    "        else:\n",
    "            factors[i] = 'odd'\n",
    "            \n",
    "print(factors)"
   ]
  },
  {
   "cell_type": "raw",
   "metadata": {},
   "source": [
    "2. Write a code that accepts a sequence of words as input and prints the words in\n",
    "a sequence after sorting them alphabetically.\n",
    " Hint: Use split() to split the string into a list and then apply sort()"
   ]
  },
  {
   "cell_type": "code",
   "execution_count": 5,
   "metadata": {},
   "outputs": [
    {
     "name": "stdout",
     "output_type": "stream",
     "text": [
      "hi hello how are you\n",
      "['are', 'hello', 'hi', 'how', 'you']\n",
      "are\n",
      "hello\n",
      "hi\n",
      "how\n",
      "you\n"
     ]
    }
   ],
   "source": [
    "seq = input()\n",
    "words = seq.split()\n",
    "words.sort()\n",
    "\n",
    "print(words)\n",
    "\n",
    "for i in words:\n",
    "    print(i)"
   ]
  },
  {
   "cell_type": "raw",
   "metadata": {},
   "source": [
    "3. Write a program that will find all the numbers between 1000 and 3000 (both\n",
    "excluded) such that each digit of a number is an odd number. Print the number\n",
    "of such elements"
   ]
  },
  {
   "cell_type": "code",
   "execution_count": 9,
   "metadata": {},
   "outputs": [
    {
     "name": "stdout",
     "output_type": "stream",
     "text": [
      "[1111, 1113, 1115, 1117, 1119, 1131, 1133, 1135, 1137, 1139, 1151, 1153, 1155, 1157, 1159, 1171, 1173, 1175, 1177, 1179, 1191, 1193, 1195, 1197, 1199, 1311, 1313, 1315, 1317, 1319, 1331, 1333, 1335, 1337, 1339, 1351, 1353, 1355, 1357, 1359, 1371, 1373, 1375, 1377, 1379, 1391, 1393, 1395, 1397, 1399, 1511, 1513, 1515, 1517, 1519, 1531, 1533, 1535, 1537, 1539, 1551, 1553, 1555, 1557, 1559, 1571, 1573, 1575, 1577, 1579, 1591, 1593, 1595, 1597, 1599, 1711, 1713, 1715, 1717, 1719, 1731, 1733, 1735, 1737, 1739, 1751, 1753, 1755, 1757, 1759, 1771, 1773, 1775, 1777, 1779, 1791, 1793, 1795, 1797, 1799, 1911, 1913, 1915, 1917, 1919, 1931, 1933, 1935, 1937, 1939, 1951, 1953, 1955, 1957, 1959, 1971, 1973, 1975, 1977, 1979, 1991, 1993, 1995, 1997, 1999]\n",
      "Count of numbers with only odd digits :  125\n"
     ]
    }
   ],
   "source": [
    "odds = []\n",
    "\n",
    "for i in range(1001,3000):\n",
    "    i = str(i)\n",
    "    for j in i:\n",
    "        if int(j)%2 == 0:\n",
    "            break\n",
    "    else:\n",
    "        odds.append(int(i))\n",
    "print(odds)\n",
    "print('Count of numbers with only odd digits : ', len(odds))"
   ]
  },
  {
   "cell_type": "raw",
   "metadata": {},
   "source": [
    "4. Write a program that accepts a string and calculates the number of letters\n",
    "and digits.\n",
    "Suppose if the entered string is: Edureka123\n",
    "Then the output will be:\n",
    "LETTERS: - 7\n",
    "DIGITS: - 3"
   ]
  },
  {
   "cell_type": "code",
   "execution_count": 10,
   "metadata": {},
   "outputs": [
    {
     "name": "stdout",
     "output_type": "stream",
     "text": [
      "Edureka123\n",
      "LETTERS: -  7\n",
      "DIGITS: -  3\n"
     ]
    }
   ],
   "source": [
    "s = input()\n",
    "l = 0\n",
    "d = 0\n",
    "\n",
    "for i in s:\n",
    "    if i.isdigit():\n",
    "        d += 1\n",
    "    elif i.isalpha():\n",
    "        l += 1\n",
    "        \n",
    "print('LETTERS: - ', l)\n",
    "print('DIGITS: - ', d)"
   ]
  },
  {
   "cell_type": "raw",
   "metadata": {},
   "source": [
    "5. Design a code which will find whether the given number is Palindrome\n",
    "number or not."
   ]
  },
  {
   "cell_type": "code",
   "execution_count": 12,
   "metadata": {},
   "outputs": [
    {
     "name": "stdout",
     "output_type": "stream",
     "text": [
      "Enter number121\n",
      "Palindrome\n"
     ]
    }
   ],
   "source": [
    "n = input('Enter number')\n",
    "\n",
    "if n == n[::-1]:\n",
    "    print('Palindrome')\n",
    "else:\n",
    "    print('Not Palindrome')"
   ]
  },
  {
   "cell_type": "code",
   "execution_count": null,
   "metadata": {},
   "outputs": [],
   "source": []
  }
 ],
 "metadata": {
  "kernelspec": {
   "display_name": "Python 3",
   "language": "python",
   "name": "python3"
  },
  "language_info": {
   "codemirror_mode": {
    "name": "ipython",
    "version": 3
   },
   "file_extension": ".py",
   "mimetype": "text/x-python",
   "name": "python",
   "nbconvert_exporter": "python",
   "pygments_lexer": "ipython3",
   "version": "3.8.5"
  }
 },
 "nbformat": 4,
 "nbformat_minor": 4
}
