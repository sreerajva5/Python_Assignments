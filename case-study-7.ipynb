{
 "cells": [
  {
   "cell_type": "markdown",
   "metadata": {},
   "source": [
    "##### 1.Extract data from the givenSalaryGender CSV file and store the data from each column in a separate NumPy array"
   ]
  },
  {
   "cell_type": "code",
   "execution_count": 22,
   "metadata": {},
   "outputs": [],
   "source": [
    "import pandas as pd\n",
    "import numpy as np\n",
    "import seaborn as sns\n",
    "import matplotlib.pyplot as plt"
   ]
  },
  {
   "cell_type": "code",
   "execution_count": 2,
   "metadata": {},
   "outputs": [],
   "source": [
    "df = pd.read_csv(r'D:\\Edureka\\dataset\\SalaryGender.csv')"
   ]
  },
  {
   "cell_type": "code",
   "execution_count": 3,
   "metadata": {},
   "outputs": [
    {
     "data": {
      "text/html": [
       "<div>\n",
       "<style scoped>\n",
       "    .dataframe tbody tr th:only-of-type {\n",
       "        vertical-align: middle;\n",
       "    }\n",
       "\n",
       "    .dataframe tbody tr th {\n",
       "        vertical-align: top;\n",
       "    }\n",
       "\n",
       "    .dataframe thead th {\n",
       "        text-align: right;\n",
       "    }\n",
       "</style>\n",
       "<table border=\"1\" class=\"dataframe\">\n",
       "  <thead>\n",
       "    <tr style=\"text-align: right;\">\n",
       "      <th></th>\n",
       "      <th>Salary</th>\n",
       "      <th>Gender</th>\n",
       "      <th>Age</th>\n",
       "      <th>PhD</th>\n",
       "    </tr>\n",
       "  </thead>\n",
       "  <tbody>\n",
       "    <tr>\n",
       "      <th>0</th>\n",
       "      <td>140.0</td>\n",
       "      <td>1</td>\n",
       "      <td>47</td>\n",
       "      <td>1</td>\n",
       "    </tr>\n",
       "    <tr>\n",
       "      <th>1</th>\n",
       "      <td>30.0</td>\n",
       "      <td>0</td>\n",
       "      <td>65</td>\n",
       "      <td>1</td>\n",
       "    </tr>\n",
       "  </tbody>\n",
       "</table>\n",
       "</div>"
      ],
      "text/plain": [
       "   Salary  Gender  Age  PhD\n",
       "0   140.0       1   47    1\n",
       "1    30.0       0   65    1"
      ]
     },
     "execution_count": 3,
     "metadata": {},
     "output_type": "execute_result"
    }
   ],
   "source": [
    "df.head(2)"
   ]
  },
  {
   "cell_type": "code",
   "execution_count": 4,
   "metadata": {},
   "outputs": [],
   "source": [
    "#Answer - method-1\n",
    "\n",
    "salary_array = np.array(df['Salary'])\n",
    "gender_array = np.array(df['Gender'])\n",
    "age_array = np.array(df['Age'])\n",
    "phd_array = np.array(df['PhD'])"
   ]
  },
  {
   "cell_type": "code",
   "execution_count": 5,
   "metadata": {},
   "outputs": [
    {
     "name": "stdout",
     "output_type": "stream",
     "text": [
      "[140.    30.    35.1   30.    80.    30.    60.    31.1  125.    51.\n",
      "   3.    46.   150.     3.   130.    15.   130.    84.   190.    74.\n",
      "  73.    10.    50.     7.     9.5   15.2   28.6   20.    72.    81.\n",
      " 100.    90.    90.    35.    30.    25.    52.     9.    63.    72.\n",
      "  16.    92.   106.     2.5    9.    32.    32.    55.    52.    28.\n",
      "  20.    14.7   22.3   34.8   84.    19.   160.    65.    55.     4.6\n",
      " 102.    20.    62.    55.    45.6   40.    24.    35.    48.    20.\n",
      "  40.7   15.     0.25 152.    39.8   12.    30.   120.     1.7   36.\n",
      "  96.    38.    90.     9.    25.8   22.    38.8   72.    89.    41.\n",
      "  89.    25.    52.   115.    66.    18.6  152.     1.8   35.     4.  ]\n",
      "[1 0 0 1 0 0 1 0 1 1 1 1 1 1 1 0 1 0 1 1 0 0 0 0 0 1 1 0 0 1 0 0 0 1 0 1 0\n",
      " 0 1 1 1 0 1 1 0 0 0 1 1 0 0 0 1 0 0 1 1 0 0 1 1 1 0 1 1 0 0 1 0 0 0 1 0 1\n",
      " 0 0 1 1 1 1 1 0 1 1 0 0 0 1 1 0 1 0 1 0 0 1 1 1 0 0]\n",
      "[47 65 56 23 53 27 53 30 44 63 22 59 60 28 65 25 65 47 66 45 46 24 60 63\n",
      " 27 66 36 30 51 65 45 52 54 30 52 26 49 22 34 60 28 58 77 67 27 48 45 49\n",
      " 36 65 32 49 67 22 49 43 61 43 52 51 66 29 62 56 61 56 41 24 60 43 57 23\n",
      " 53 71 20 27 69 58 37 32 33 32 60 71 30 62 54 42 62 51 71 29 55 54 55 26\n",
      " 56 28 44 24]\n",
      "[1 1 0 0 1 0 0 0 1 1 0 0 1 0 0 0 0 1 1 1 0 0 0 0 0 1 1 0 1 1 1 1 1 0 0 0 0\n",
      " 0 1 0 0 1 1 0 0 1 0 1 0 1 0 0 0 0 1 0 1 1 0 0 1 0 0 1 0 0 0 0 0 0 0 0 0 1\n",
      " 0 0 1 1 0 1 1 1 0 0 0 0 0 1 0 1 1 0 1 0 1 0 1 0 0 0]\n"
     ]
    }
   ],
   "source": [
    "print(salary_array)\n",
    "print(gender_array)\n",
    "print(age_array)\n",
    "print(phd_array)"
   ]
  },
  {
   "cell_type": "code",
   "execution_count": 6,
   "metadata": {},
   "outputs": [],
   "source": [
    "#Answer - method-2\n",
    "\n",
    "salary_array2 = df.iloc[:,0:1].values\n",
    "gender_array2 = df.iloc[:,1:2].values\n",
    "age_array2 = df.iloc[:,2:3].values\n",
    "phd_array2 = df.iloc[:,-1:].values"
   ]
  },
  {
   "cell_type": "code",
   "execution_count": 7,
   "metadata": {},
   "outputs": [
    {
     "name": "stdout",
     "output_type": "stream",
     "text": [
      "[[140.  ]\n",
      " [ 30.  ]\n",
      " [ 35.1 ]\n",
      " [ 30.  ]\n",
      " [ 80.  ]\n",
      " [ 30.  ]\n",
      " [ 60.  ]\n",
      " [ 31.1 ]\n",
      " [125.  ]\n",
      " [ 51.  ]\n",
      " [  3.  ]\n",
      " [ 46.  ]\n",
      " [150.  ]\n",
      " [  3.  ]\n",
      " [130.  ]\n",
      " [ 15.  ]\n",
      " [130.  ]\n",
      " [ 84.  ]\n",
      " [190.  ]\n",
      " [ 74.  ]\n",
      " [ 73.  ]\n",
      " [ 10.  ]\n",
      " [ 50.  ]\n",
      " [  7.  ]\n",
      " [  9.5 ]\n",
      " [ 15.2 ]\n",
      " [ 28.6 ]\n",
      " [ 20.  ]\n",
      " [ 72.  ]\n",
      " [ 81.  ]\n",
      " [100.  ]\n",
      " [ 90.  ]\n",
      " [ 90.  ]\n",
      " [ 35.  ]\n",
      " [ 30.  ]\n",
      " [ 25.  ]\n",
      " [ 52.  ]\n",
      " [  9.  ]\n",
      " [ 63.  ]\n",
      " [ 72.  ]\n",
      " [ 16.  ]\n",
      " [ 92.  ]\n",
      " [106.  ]\n",
      " [  2.5 ]\n",
      " [  9.  ]\n",
      " [ 32.  ]\n",
      " [ 32.  ]\n",
      " [ 55.  ]\n",
      " [ 52.  ]\n",
      " [ 28.  ]\n",
      " [ 20.  ]\n",
      " [ 14.7 ]\n",
      " [ 22.3 ]\n",
      " [ 34.8 ]\n",
      " [ 84.  ]\n",
      " [ 19.  ]\n",
      " [160.  ]\n",
      " [ 65.  ]\n",
      " [ 55.  ]\n",
      " [  4.6 ]\n",
      " [102.  ]\n",
      " [ 20.  ]\n",
      " [ 62.  ]\n",
      " [ 55.  ]\n",
      " [ 45.6 ]\n",
      " [ 40.  ]\n",
      " [ 24.  ]\n",
      " [ 35.  ]\n",
      " [ 48.  ]\n",
      " [ 20.  ]\n",
      " [ 40.7 ]\n",
      " [ 15.  ]\n",
      " [  0.25]\n",
      " [152.  ]\n",
      " [ 39.8 ]\n",
      " [ 12.  ]\n",
      " [ 30.  ]\n",
      " [120.  ]\n",
      " [  1.7 ]\n",
      " [ 36.  ]\n",
      " [ 96.  ]\n",
      " [ 38.  ]\n",
      " [ 90.  ]\n",
      " [  9.  ]\n",
      " [ 25.8 ]\n",
      " [ 22.  ]\n",
      " [ 38.8 ]\n",
      " [ 72.  ]\n",
      " [ 89.  ]\n",
      " [ 41.  ]\n",
      " [ 89.  ]\n",
      " [ 25.  ]\n",
      " [ 52.  ]\n",
      " [115.  ]\n",
      " [ 66.  ]\n",
      " [ 18.6 ]\n",
      " [152.  ]\n",
      " [  1.8 ]\n",
      " [ 35.  ]\n",
      " [  4.  ]]\n",
      "-----------------\n",
      "[[1]\n",
      " [0]\n",
      " [0]\n",
      " [1]\n",
      " [0]\n",
      " [0]\n",
      " [1]\n",
      " [0]\n",
      " [1]\n",
      " [1]\n",
      " [1]\n",
      " [1]\n",
      " [1]\n",
      " [1]\n",
      " [1]\n",
      " [0]\n",
      " [1]\n",
      " [0]\n",
      " [1]\n",
      " [1]\n",
      " [0]\n",
      " [0]\n",
      " [0]\n",
      " [0]\n",
      " [0]\n",
      " [1]\n",
      " [1]\n",
      " [0]\n",
      " [0]\n",
      " [1]\n",
      " [0]\n",
      " [0]\n",
      " [0]\n",
      " [1]\n",
      " [0]\n",
      " [1]\n",
      " [0]\n",
      " [0]\n",
      " [1]\n",
      " [1]\n",
      " [1]\n",
      " [0]\n",
      " [1]\n",
      " [1]\n",
      " [0]\n",
      " [0]\n",
      " [0]\n",
      " [1]\n",
      " [1]\n",
      " [0]\n",
      " [0]\n",
      " [0]\n",
      " [1]\n",
      " [0]\n",
      " [0]\n",
      " [1]\n",
      " [1]\n",
      " [0]\n",
      " [0]\n",
      " [1]\n",
      " [1]\n",
      " [1]\n",
      " [0]\n",
      " [1]\n",
      " [1]\n",
      " [0]\n",
      " [0]\n",
      " [1]\n",
      " [0]\n",
      " [0]\n",
      " [0]\n",
      " [1]\n",
      " [0]\n",
      " [1]\n",
      " [0]\n",
      " [0]\n",
      " [1]\n",
      " [1]\n",
      " [1]\n",
      " [1]\n",
      " [1]\n",
      " [0]\n",
      " [1]\n",
      " [1]\n",
      " [0]\n",
      " [0]\n",
      " [0]\n",
      " [1]\n",
      " [1]\n",
      " [0]\n",
      " [1]\n",
      " [0]\n",
      " [1]\n",
      " [0]\n",
      " [0]\n",
      " [1]\n",
      " [1]\n",
      " [1]\n",
      " [0]\n",
      " [0]]\n",
      "-----------------\n",
      "[[47]\n",
      " [65]\n",
      " [56]\n",
      " [23]\n",
      " [53]\n",
      " [27]\n",
      " [53]\n",
      " [30]\n",
      " [44]\n",
      " [63]\n",
      " [22]\n",
      " [59]\n",
      " [60]\n",
      " [28]\n",
      " [65]\n",
      " [25]\n",
      " [65]\n",
      " [47]\n",
      " [66]\n",
      " [45]\n",
      " [46]\n",
      " [24]\n",
      " [60]\n",
      " [63]\n",
      " [27]\n",
      " [66]\n",
      " [36]\n",
      " [30]\n",
      " [51]\n",
      " [65]\n",
      " [45]\n",
      " [52]\n",
      " [54]\n",
      " [30]\n",
      " [52]\n",
      " [26]\n",
      " [49]\n",
      " [22]\n",
      " [34]\n",
      " [60]\n",
      " [28]\n",
      " [58]\n",
      " [77]\n",
      " [67]\n",
      " [27]\n",
      " [48]\n",
      " [45]\n",
      " [49]\n",
      " [36]\n",
      " [65]\n",
      " [32]\n",
      " [49]\n",
      " [67]\n",
      " [22]\n",
      " [49]\n",
      " [43]\n",
      " [61]\n",
      " [43]\n",
      " [52]\n",
      " [51]\n",
      " [66]\n",
      " [29]\n",
      " [62]\n",
      " [56]\n",
      " [61]\n",
      " [56]\n",
      " [41]\n",
      " [24]\n",
      " [60]\n",
      " [43]\n",
      " [57]\n",
      " [23]\n",
      " [53]\n",
      " [71]\n",
      " [20]\n",
      " [27]\n",
      " [69]\n",
      " [58]\n",
      " [37]\n",
      " [32]\n",
      " [33]\n",
      " [32]\n",
      " [60]\n",
      " [71]\n",
      " [30]\n",
      " [62]\n",
      " [54]\n",
      " [42]\n",
      " [62]\n",
      " [51]\n",
      " [71]\n",
      " [29]\n",
      " [55]\n",
      " [54]\n",
      " [55]\n",
      " [26]\n",
      " [56]\n",
      " [28]\n",
      " [44]\n",
      " [24]]\n",
      "-----------------\n",
      "[[1]\n",
      " [1]\n",
      " [0]\n",
      " [0]\n",
      " [1]\n",
      " [0]\n",
      " [0]\n",
      " [0]\n",
      " [1]\n",
      " [1]\n",
      " [0]\n",
      " [0]\n",
      " [1]\n",
      " [0]\n",
      " [0]\n",
      " [0]\n",
      " [0]\n",
      " [1]\n",
      " [1]\n",
      " [1]\n",
      " [0]\n",
      " [0]\n",
      " [0]\n",
      " [0]\n",
      " [0]\n",
      " [1]\n",
      " [1]\n",
      " [0]\n",
      " [1]\n",
      " [1]\n",
      " [1]\n",
      " [1]\n",
      " [1]\n",
      " [0]\n",
      " [0]\n",
      " [0]\n",
      " [0]\n",
      " [0]\n",
      " [1]\n",
      " [0]\n",
      " [0]\n",
      " [1]\n",
      " [1]\n",
      " [0]\n",
      " [0]\n",
      " [1]\n",
      " [0]\n",
      " [1]\n",
      " [0]\n",
      " [1]\n",
      " [0]\n",
      " [0]\n",
      " [0]\n",
      " [0]\n",
      " [1]\n",
      " [0]\n",
      " [1]\n",
      " [1]\n",
      " [0]\n",
      " [0]\n",
      " [1]\n",
      " [0]\n",
      " [0]\n",
      " [1]\n",
      " [0]\n",
      " [0]\n",
      " [0]\n",
      " [0]\n",
      " [0]\n",
      " [0]\n",
      " [0]\n",
      " [0]\n",
      " [0]\n",
      " [1]\n",
      " [0]\n",
      " [0]\n",
      " [1]\n",
      " [1]\n",
      " [0]\n",
      " [1]\n",
      " [1]\n",
      " [1]\n",
      " [0]\n",
      " [0]\n",
      " [0]\n",
      " [0]\n",
      " [0]\n",
      " [1]\n",
      " [0]\n",
      " [1]\n",
      " [1]\n",
      " [0]\n",
      " [1]\n",
      " [0]\n",
      " [1]\n",
      " [0]\n",
      " [1]\n",
      " [0]\n",
      " [0]\n",
      " [0]]\n"
     ]
    }
   ],
   "source": [
    "print(salary_array2)\n",
    "print('-----------------')\n",
    "print(gender_array2)\n",
    "print('-----------------')\n",
    "print(age_array2)\n",
    "print('-----------------')\n",
    "print(phd_array2)"
   ]
  },
  {
   "cell_type": "markdown",
   "metadata": {},
   "source": [
    "##### 2.Find:\n",
    "1. The number of men with a PhD\n",
    "2. The number of women with a PhD"
   ]
  },
  {
   "cell_type": "code",
   "execution_count": 8,
   "metadata": {},
   "outputs": [
    {
     "data": {
      "text/html": [
       "<div>\n",
       "<style scoped>\n",
       "    .dataframe tbody tr th:only-of-type {\n",
       "        vertical-align: middle;\n",
       "    }\n",
       "\n",
       "    .dataframe tbody tr th {\n",
       "        vertical-align: top;\n",
       "    }\n",
       "\n",
       "    .dataframe thead th {\n",
       "        text-align: right;\n",
       "    }\n",
       "</style>\n",
       "<table border=\"1\" class=\"dataframe\">\n",
       "  <thead>\n",
       "    <tr style=\"text-align: right;\">\n",
       "      <th></th>\n",
       "      <th>PhD</th>\n",
       "    </tr>\n",
       "    <tr>\n",
       "      <th>Gender</th>\n",
       "      <th></th>\n",
       "    </tr>\n",
       "  </thead>\n",
       "  <tbody>\n",
       "    <tr>\n",
       "      <th>0</th>\n",
       "      <td>15</td>\n",
       "    </tr>\n",
       "    <tr>\n",
       "      <th>1</th>\n",
       "      <td>24</td>\n",
       "    </tr>\n",
       "  </tbody>\n",
       "</table>\n",
       "</div>"
      ],
      "text/plain": [
       "        PhD\n",
       "Gender     \n",
       "0        15\n",
       "1        24"
      ]
     },
     "execution_count": 8,
     "metadata": {},
     "output_type": "execute_result"
    }
   ],
   "source": [
    "df1 = df[df['PhD'] == 1]\n",
    "df1.groupby(['Gender']).agg({'PhD':'count'})"
   ]
  },
  {
   "cell_type": "markdown",
   "metadata": {},
   "source": [
    "##### 3.Use SalaryGender CSV file. Store the “Age” and “PhD” columns in one DataFrame and delete the data of all people who don’t have a PhD"
   ]
  },
  {
   "cell_type": "code",
   "execution_count": 9,
   "metadata": {},
   "outputs": [
    {
     "data": {
      "text/html": [
       "<div>\n",
       "<style scoped>\n",
       "    .dataframe tbody tr th:only-of-type {\n",
       "        vertical-align: middle;\n",
       "    }\n",
       "\n",
       "    .dataframe tbody tr th {\n",
       "        vertical-align: top;\n",
       "    }\n",
       "\n",
       "    .dataframe thead th {\n",
       "        text-align: right;\n",
       "    }\n",
       "</style>\n",
       "<table border=\"1\" class=\"dataframe\">\n",
       "  <thead>\n",
       "    <tr style=\"text-align: right;\">\n",
       "      <th></th>\n",
       "      <th>Age</th>\n",
       "      <th>PhD</th>\n",
       "    </tr>\n",
       "  </thead>\n",
       "  <tbody>\n",
       "    <tr>\n",
       "      <th>0</th>\n",
       "      <td>47</td>\n",
       "      <td>1</td>\n",
       "    </tr>\n",
       "    <tr>\n",
       "      <th>1</th>\n",
       "      <td>65</td>\n",
       "      <td>1</td>\n",
       "    </tr>\n",
       "  </tbody>\n",
       "</table>\n",
       "</div>"
      ],
      "text/plain": [
       "   Age  PhD\n",
       "0   47    1\n",
       "1   65    1"
      ]
     },
     "execution_count": 9,
     "metadata": {},
     "output_type": "execute_result"
    }
   ],
   "source": [
    "# answer - method1\n",
    "\n",
    "df2 = df[['Age', 'PhD']]  # selecting only age & phd and saving as 'df2'.\n",
    "df2.head(2)"
   ]
  },
  {
   "cell_type": "code",
   "execution_count": 10,
   "metadata": {},
   "outputs": [],
   "source": [
    "df2 = df2[df2.PhD != 0]  #selecting lines only 'PhD' equals 1."
   ]
  },
  {
   "cell_type": "code",
   "execution_count": 11,
   "metadata": {},
   "outputs": [
    {
     "data": {
      "text/plain": [
       "(39, 2)"
      ]
     },
     "execution_count": 11,
     "metadata": {},
     "output_type": "execute_result"
    }
   ],
   "source": [
    "df2.shape  # 39 out of 100 people have phd."
   ]
  },
  {
   "cell_type": "code",
   "execution_count": 12,
   "metadata": {},
   "outputs": [
    {
     "name": "stderr",
     "output_type": "stream",
     "text": [
      "C:\\Users\\sreeraj.va\\AppData\\Local\\Continuum\\anaconda3\\lib\\site-packages\\pandas\\core\\frame.py:4117: SettingWithCopyWarning: \n",
      "A value is trying to be set on a copy of a slice from a DataFrame\n",
      "\n",
      "See the caveats in the documentation: http://pandas.pydata.org/pandas-docs/stable/user_guide/indexing.html#returning-a-view-versus-a-copy\n",
      "  errors=errors,\n"
     ]
    }
   ],
   "source": [
    "# answer - method2\n",
    "\n",
    "df3 = df[['Age', 'PhD']]\n",
    "df3.drop(df3.loc[df3['PhD'] == 0].index, inplace=True)"
   ]
  },
  {
   "cell_type": "code",
   "execution_count": 13,
   "metadata": {},
   "outputs": [
    {
     "data": {
      "text/plain": [
       "(39, 2)"
      ]
     },
     "execution_count": 13,
     "metadata": {},
     "output_type": "execute_result"
    }
   ],
   "source": [
    "df3.shape"
   ]
  },
  {
   "cell_type": "markdown",
   "metadata": {},
   "source": [
    "##### 4.Calculate the total number of people who have a PhD degree from SalaryGender CSV file."
   ]
  },
  {
   "cell_type": "code",
   "execution_count": 14,
   "metadata": {},
   "outputs": [
    {
     "name": "stdout",
     "output_type": "stream",
     "text": [
      "39\n"
     ]
    }
   ],
   "source": [
    "print(df[df['PhD'] == 1].shape[0])"
   ]
  },
  {
   "cell_type": "markdown",
   "metadata": {},
   "source": [
    "##### 5.How  do  you  Count  The  Number  Of  Times  Each  Value  Appears  In  An  Array  Of Integers?\n",
    "[0, 5, 4, 0, 4, 4, 3, 0, 0, 5, 2, 1, 1, 9]Answer should be array([4, 2, 1, 1, 3, 2, 0, 0, 0, 1]) which means 0 comes 4 times, 1 comes 2 times, 2 comes 1 time, 3 comes 1 time and so on."
   ]
  },
  {
   "cell_type": "code",
   "execution_count": 15,
   "metadata": {},
   "outputs": [],
   "source": [
    "import numpy as np\n",
    "a = np.array([0, 5, 4, 0, 4, 4, 3, 0, 0, 5, 2, 1, 1, 9])"
   ]
  },
  {
   "cell_type": "code",
   "execution_count": 16,
   "metadata": {},
   "outputs": [
    {
     "data": {
      "text/plain": [
       "array([4, 2, 1, 1, 3, 2, 0, 0, 0, 1])"
      ]
     },
     "execution_count": 16,
     "metadata": {},
     "output_type": "execute_result"
    }
   ],
   "source": [
    "l = []\n",
    "for i in range(min(a), max(a)+1):\n",
    "    l.append(np.sum(a==i))\n",
    "\n",
    "c = np.array(l)\n",
    "c"
   ]
  },
  {
   "cell_type": "markdown",
   "metadata": {},
   "source": [
    "##### 6.Create a numpyarray [[0, 1, 2],[ 3, 4, 5],[ 6, 7, 8],[ 9,10, 11]]) and filter the elements greater than 5."
   ]
  },
  {
   "cell_type": "code",
   "execution_count": 17,
   "metadata": {},
   "outputs": [],
   "source": [
    "arr1 = np.arange(12).reshape(4,3)"
   ]
  },
  {
   "cell_type": "code",
   "execution_count": 18,
   "metadata": {},
   "outputs": [
    {
     "data": {
      "text/plain": [
       "array([[ 0,  1,  2],\n",
       "       [ 3,  4,  5],\n",
       "       [ 6,  7,  8],\n",
       "       [ 9, 10, 11]])"
      ]
     },
     "execution_count": 18,
     "metadata": {},
     "output_type": "execute_result"
    }
   ],
   "source": [
    "arr1"
   ]
  },
  {
   "cell_type": "code",
   "execution_count": 19,
   "metadata": {},
   "outputs": [
    {
     "name": "stderr",
     "output_type": "stream",
     "text": [
      "C:\\Users\\sreeraj.va\\AppData\\Local\\Continuum\\anaconda3\\lib\\site-packages\\ipykernel_launcher.py:1: FutureWarning: Using a non-tuple sequence for multidimensional indexing is deprecated; use `arr[tuple(seq)]` instead of `arr[seq]`. In the future this will be interpreted as an array index, `arr[np.array(seq)]`, which will result either in an error or a different result.\n",
      "  \"\"\"Entry point for launching an IPython kernel.\n"
     ]
    }
   ],
   "source": [
    "arr1_2 = arr1[[arr1 > 5]]"
   ]
  },
  {
   "cell_type": "code",
   "execution_count": 20,
   "metadata": {},
   "outputs": [
    {
     "data": {
      "text/plain": [
       "array([ 6,  7,  8,  9, 10, 11])"
      ]
     },
     "execution_count": 20,
     "metadata": {},
     "output_type": "execute_result"
    }
   ],
   "source": [
    "arr1_2"
   ]
  },
  {
   "cell_type": "markdown",
   "metadata": {},
   "source": [
    "##### 7.Create a numpy array having NaN (Not a Number) and print it.array([ nan,   1.,   2.,  nan,   3.,   4.,   5.])\n",
    "Print the same array omitting all elements which are nan"
   ]
  },
  {
   "cell_type": "code",
   "execution_count": 21,
   "metadata": {},
   "outputs": [
    {
     "data": {
      "text/plain": [
       "array([1., 2., 3., 4., 5.])"
      ]
     },
     "execution_count": 21,
     "metadata": {},
     "output_type": "execute_result"
    }
   ],
   "source": [
    "arr2 = np.array(range(1, 6), dtype=float)\n",
    "arr2"
   ]
  },
  {
   "cell_type": "code",
   "execution_count": 22,
   "metadata": {
    "scrolled": true
   },
   "outputs": [],
   "source": [
    "arr2 = np.insert(arr2, 0, np.nan)"
   ]
  },
  {
   "cell_type": "code",
   "execution_count": 23,
   "metadata": {},
   "outputs": [
    {
     "data": {
      "text/plain": [
       "array([nan,  1.,  2.,  3.,  4.,  5.])"
      ]
     },
     "execution_count": 23,
     "metadata": {},
     "output_type": "execute_result"
    }
   ],
   "source": [
    "arr2"
   ]
  },
  {
   "cell_type": "code",
   "execution_count": 24,
   "metadata": {},
   "outputs": [
    {
     "data": {
      "text/plain": [
       "array([nan,  1.,  2., nan,  3.,  4.,  5.])"
      ]
     },
     "execution_count": 24,
     "metadata": {},
     "output_type": "execute_result"
    }
   ],
   "source": [
    "arr2 = np.insert(arr2, 3, np.nan)\n",
    "arr2"
   ]
  },
  {
   "cell_type": "code",
   "execution_count": 25,
   "metadata": {},
   "outputs": [],
   "source": [
    "x = arr2[np.logical_not(np.isnan(arr2))]"
   ]
  },
  {
   "cell_type": "code",
   "execution_count": 26,
   "metadata": {},
   "outputs": [
    {
     "data": {
      "text/plain": [
       "array([1., 2., 3., 4., 5.])"
      ]
     },
     "execution_count": 26,
     "metadata": {},
     "output_type": "execute_result"
    }
   ],
   "source": [
    "x"
   ]
  },
  {
   "cell_type": "markdown",
   "metadata": {},
   "source": [
    "##### 8.Create  a  10x10  array  with  random  values  and  find  the  minimum  and  maximum values."
   ]
  },
  {
   "cell_type": "code",
   "execution_count": 27,
   "metadata": {},
   "outputs": [
    {
     "data": {
      "text/plain": [
       "array([[18, 22, 68, 64, 77, 84, 89, 27, 27, 14],\n",
       "       [30, 82, 25, 28, 17, 55, 13, 34, 33, 29],\n",
       "       [15, 33, 76, 11, 45, 30, 28, 45,  4,  4],\n",
       "       [54, 48, 52,  2, 45,  6, 95,  7, 24, 69],\n",
       "       [ 0, 55, 57, 24, 28, 46, 83, 33, 37,  3],\n",
       "       [ 2, 48, 24, 64, 67, 83, 76,  4, 94,  1],\n",
       "       [25, 68, 75, 80, 65, 30, 50, 37, 34, 80],\n",
       "       [29, 26, 34,  8, 61, 58, 68, 40, 87, 33],\n",
       "       [46, 66, 37, 59, 66, 22, 40,  9, 94, 15],\n",
       "       [54, 69, 69, 29, 48, 12, 79, 50, 53,  4]])"
      ]
     },
     "execution_count": 27,
     "metadata": {},
     "output_type": "execute_result"
    }
   ],
   "source": [
    "import random\n",
    "\n",
    "a = np.random.randint(0,100, (10,10))\n",
    "a"
   ]
  },
  {
   "cell_type": "code",
   "execution_count": 28,
   "metadata": {},
   "outputs": [
    {
     "name": "stdout",
     "output_type": "stream",
     "text": [
      "Minimum value of array : 0, Maximum value of array : 95\n"
     ]
    }
   ],
   "source": [
    "# to print max and min values\n",
    "\n",
    "b = a.reshape(1,a.shape[0]*a.shape[1])\n",
    "b.sort()\n",
    "print(f'Minimum value of array : {b[0][0]}, Maximum value of array : {b[0][-1]}')"
   ]
  },
  {
   "cell_type": "markdown",
   "metadata": {},
   "source": [
    "##### 9.Create a random vector of size 30 and find the mean value."
   ]
  },
  {
   "cell_type": "code",
   "execution_count": 29,
   "metadata": {},
   "outputs": [
    {
     "data": {
      "text/plain": [
       "array([[0.57066126, 0.44272677, 0.87137927, 0.1116414 , 0.98713614,\n",
       "        0.60048211, 0.6999828 , 0.2939058 , 0.00802591, 0.64328081],\n",
       "       [0.7680317 , 0.43708549, 0.97690089, 0.14473792, 0.96964649,\n",
       "        0.62787117, 0.39379568, 0.64053239, 0.31150788, 0.15573432],\n",
       "       [0.51526707, 0.75474322, 0.51438755, 0.16125386, 0.09166388,\n",
       "        0.27517422, 0.72356467, 0.97860968, 0.46558605, 0.51732749]])"
      ]
     },
     "execution_count": 29,
     "metadata": {},
     "output_type": "execute_result"
    }
   ],
   "source": [
    "arr5 = np.random.rand(3,10)\n",
    "arr5"
   ]
  },
  {
   "cell_type": "code",
   "execution_count": 30,
   "metadata": {},
   "outputs": [
    {
     "data": {
      "text/plain": [
       "0.5217547968863238"
      ]
     },
     "execution_count": 30,
     "metadata": {},
     "output_type": "execute_result"
    }
   ],
   "source": [
    "arr5.mean()"
   ]
  },
  {
   "cell_type": "markdown",
   "metadata": {},
   "source": [
    "##### 10.Create numpy array having elements 0 to 10 And negate all the elements between 3 and 9"
   ]
  },
  {
   "cell_type": "code",
   "execution_count": 31,
   "metadata": {},
   "outputs": [
    {
     "data": {
      "text/plain": [
       "array([0, 1, 2, 3, 4, 5, 6, 7, 8, 9])"
      ]
     },
     "execution_count": 31,
     "metadata": {},
     "output_type": "execute_result"
    }
   ],
   "source": [
    "arr6 = np.arange(10)\n",
    "arr6"
   ]
  },
  {
   "cell_type": "code",
   "execution_count": 32,
   "metadata": {},
   "outputs": [
    {
     "data": {
      "text/plain": [
       "array([4, 5, 6, 7, 8])"
      ]
     },
     "execution_count": 32,
     "metadata": {},
     "output_type": "execute_result"
    }
   ],
   "source": [
    "#method1\n",
    "arr6[np.logical_and(3<arr6, arr6<9)]"
   ]
  },
  {
   "cell_type": "code",
   "execution_count": 33,
   "metadata": {},
   "outputs": [
    {
     "data": {
      "text/plain": [
       "array([4, 5, 6, 7, 8])"
      ]
     },
     "execution_count": 33,
     "metadata": {},
     "output_type": "execute_result"
    }
   ],
   "source": [
    "#method2\n",
    "arr6[(3<arr6) & (arr6<9)]"
   ]
  },
  {
   "cell_type": "markdown",
   "metadata": {},
   "source": [
    "##### 11.Create a random array of 3 rows and 3 columns and sort it according to 1stcolumn, 2ndcolumn or 3rdcolumn."
   ]
  },
  {
   "cell_type": "code",
   "execution_count": 34,
   "metadata": {},
   "outputs": [
    {
     "data": {
      "text/plain": [
       "array([[4, 3, 1],\n",
       "       [2, 4, 1],\n",
       "       [5, 3, 3]])"
      ]
     },
     "execution_count": 34,
     "metadata": {},
     "output_type": "execute_result"
    }
   ],
   "source": [
    "arr7 =  np.random.randint(0,10, (3,3))\n",
    "arr7"
   ]
  },
  {
   "cell_type": "code",
   "execution_count": 35,
   "metadata": {},
   "outputs": [],
   "source": [
    "arr7.sort(axis=0)  # sorting by columns"
   ]
  },
  {
   "cell_type": "code",
   "execution_count": 36,
   "metadata": {},
   "outputs": [
    {
     "data": {
      "text/plain": [
       "array([[2, 3, 1],\n",
       "       [4, 3, 1],\n",
       "       [5, 4, 3]])"
      ]
     },
     "execution_count": 36,
     "metadata": {},
     "output_type": "execute_result"
    }
   ],
   "source": [
    "arr7"
   ]
  },
  {
   "cell_type": "markdown",
   "metadata": {},
   "source": [
    "##### 12.Create a four dimensions array get sum over the last two axis at once."
   ]
  },
  {
   "cell_type": "code",
   "execution_count": 37,
   "metadata": {},
   "outputs": [],
   "source": [
    "arr8 = np.random.randint(0,20, (3,3,3,3))"
   ]
  },
  {
   "cell_type": "code",
   "execution_count": 38,
   "metadata": {},
   "outputs": [
    {
     "data": {
      "text/plain": [
       "array([[[[ 7,  4, 15],\n",
       "         [17,  5, 14],\n",
       "         [17, 12,  3]],\n",
       "\n",
       "        [[ 5,  8, 19],\n",
       "         [ 2, 19, 15],\n",
       "         [11, 12, 15]],\n",
       "\n",
       "        [[12, 11,  7],\n",
       "         [18, 15,  9],\n",
       "         [16, 18,  8]]],\n",
       "\n",
       "\n",
       "       [[[19,  9,  2],\n",
       "         [ 5, 11, 18],\n",
       "         [17, 17, 14]],\n",
       "\n",
       "        [[ 6,  9, 18],\n",
       "         [15, 11, 12],\n",
       "         [13, 10,  0]],\n",
       "\n",
       "        [[ 2,  1, 16],\n",
       "         [ 5,  0, 14],\n",
       "         [ 1, 11, 14]]],\n",
       "\n",
       "\n",
       "       [[[ 5,  3, 14],\n",
       "         [ 4,  3,  4],\n",
       "         [ 0,  9,  8]],\n",
       "\n",
       "        [[18,  4,  9],\n",
       "         [ 6,  2, 19],\n",
       "         [18, 15,  8]],\n",
       "\n",
       "        [[15, 13, 19],\n",
       "         [14,  9,  1],\n",
       "         [ 4,  8,  8]]]])"
      ]
     },
     "execution_count": 38,
     "metadata": {},
     "output_type": "execute_result"
    }
   ],
   "source": [
    "arr8"
   ]
  },
  {
   "cell_type": "code",
   "execution_count": 39,
   "metadata": {},
   "outputs": [
    {
     "name": "stdout",
     "output_type": "stream",
     "text": [
      "[[[41 21 32]\n",
      "  [18 39 49]\n",
      "  [46 44 24]]\n",
      "\n",
      " [[41 37 34]\n",
      "  [34 30 30]\n",
      "  [ 8 12 44]]\n",
      "\n",
      " [[ 9 15 26]\n",
      "  [42 21 36]\n",
      "  [33 30 28]]]\n",
      "---------------\n",
      "[[[26 36 32]\n",
      "  [32 36 38]\n",
      "  [30 42 42]]\n",
      "\n",
      " [[30 34 48]\n",
      "  [33 38 23]\n",
      "  [19 19 26]]\n",
      "\n",
      " [[22 11 17]\n",
      "  [31 27 41]\n",
      "  [47 24 20]]]\n",
      "---------------\n"
     ]
    }
   ],
   "source": [
    "for i in range(2,4):\n",
    "    print(arr8.sum(axis=i))\n",
    "    print('---------------')"
   ]
  },
  {
   "cell_type": "markdown",
   "metadata": {},
   "source": [
    "##### 13.Create a random array and swap two rows of an array."
   ]
  },
  {
   "cell_type": "code",
   "execution_count": 40,
   "metadata": {},
   "outputs": [
    {
     "data": {
      "text/plain": [
       "array([[ 5,  4,  0,  9],\n",
       "       [18,  5, 24, 15],\n",
       "       [11,  9, 23, 19]])"
      ]
     },
     "execution_count": 40,
     "metadata": {},
     "output_type": "execute_result"
    }
   ],
   "source": [
    "arr9 = np.random.randint(0,25, (3,4))\n",
    "\n",
    "arr9"
   ]
  },
  {
   "cell_type": "code",
   "execution_count": 41,
   "metadata": {},
   "outputs": [],
   "source": [
    "arr9[[0,2]] = arr9[[2,0]]   #swapping rows 1 & 3"
   ]
  },
  {
   "cell_type": "code",
   "execution_count": 42,
   "metadata": {},
   "outputs": [
    {
     "data": {
      "text/plain": [
       "array([[11,  9, 23, 19],\n",
       "       [18,  5, 24, 15],\n",
       "       [ 5,  4,  0,  9]])"
      ]
     },
     "execution_count": 42,
     "metadata": {},
     "output_type": "execute_result"
    }
   ],
   "source": [
    "arr9"
   ]
  },
  {
   "cell_type": "markdown",
   "metadata": {},
   "source": [
    "##### 14.Create a randommatrix and Compute a matrix rank."
   ]
  },
  {
   "cell_type": "code",
   "execution_count": 43,
   "metadata": {},
   "outputs": [
    {
     "data": {
      "text/plain": [
       "array([[7, 0, 7],\n",
       "       [4, 1, 4],\n",
       "       [3, 1, 5]])"
      ]
     },
     "execution_count": 43,
     "metadata": {},
     "output_type": "execute_result"
    }
   ],
   "source": [
    "arr10 = np.random.randint(0,10, (3,3))\n",
    "arr10"
   ]
  },
  {
   "cell_type": "code",
   "execution_count": 44,
   "metadata": {},
   "outputs": [
    {
     "data": {
      "text/plain": [
       "matrix([[7, 0, 7],\n",
       "        [4, 1, 4],\n",
       "        [3, 1, 5]])"
      ]
     },
     "execution_count": 44,
     "metadata": {},
     "output_type": "execute_result"
    }
   ],
   "source": [
    "m10 = np.matrix(arr10)\n",
    "m10"
   ]
  },
  {
   "cell_type": "code",
   "execution_count": 45,
   "metadata": {},
   "outputs": [
    {
     "data": {
      "text/plain": [
       "3"
      ]
     },
     "execution_count": 45,
     "metadata": {},
     "output_type": "execute_result"
    }
   ],
   "source": [
    "np.linalg.matrix_rank(m10)"
   ]
  },
  {
   "cell_type": "markdown",
   "metadata": {},
   "source": [
    "15.Analyse  various  school  outcomes  in  Tennessee  using  pandas.  Suppose  you  are  a public   schooladministrator.   Some   schools   in   your   state   of   Tennessee   are performing  below  average  academically.  Your  superintendent,  under  pressure from frustrated parents and voters, approached you with the task of understanding why  these  schools  are  under-performing.To  improve  school  performance,  you need to learn more about these schools and their students, just as a business needs to understand its own strengths and weaknesses and its customers. Though you is eager  to  build  an  impressive  explanatory  model,  you  knowthe  importance  of conducting  preliminary  research  to  prevent  possible  pitfalls  orblind  spots.  Thus, you engages in a thorough exploratory analysis, which includes: a lit review, data collection, descriptive and inferential statistics, and data visualization.\n",
    "\n",
    "Phase 1 -Data CollectionHere  is  a  data  of  every  public  school  in  middle  Tennessee.  The  data  also  includes various  demographic,  school  faculty,  and  income  variables.  You  need  to  convert  the data into useful information.•Read the data in pandas data frame•Describe the data to find more details\n",
    "\n",
    "Phase 2 -Group data by school ratingsChooses  indicators  that  describe  the  student  body  (for  example,reduced_lunch)  or school administration (stu_teach_ratio) hoping they will explainschool_rating.reduced_lunchis  a  variable  measuring  the  average  percentage of students per school enrolled in a federal program that provides lunches for students from lower-income households. In short,reduced_lunchis a good proxy for household income.\n",
    "Isolates‘reduced_lunch’and groups the data by‘school_rating’using pandasgroupby method and then usesdescribeon the re-shaped data\n",
    "\n",
    "Phase 3 –Correlation analysisFind the correlation between ‘reduced_lunch’and‘school_rating’. The values in the correlation matrix table will be between -1 and 1. A value of -1 indicates the strongest possible negative correlation, meaning as one variable decreases the other increases. And a value of 1 indicates the opposite.\n",
    "\n",
    "Phase 4 –Scatter PlotFind the relationship betweenschool_ratingandreduced_lunch, Plot a graph with the two variables on a scatter plot. Each dot represents a school. The placement of the dot represents that school's rating (Y-axis) and the percentageof its students on reduced lunch    (x-axis).    The    downward    trend    line    shows    the    negative    correlation betweenschool_ratingandreduced_lunch(as one increases, the other decreases). The slope of the trend line indicates how muchschool_ratingdecreases asreduced_lunchincreases.  A  steeper  slope  would  indicate  that  a  small  change inreduced_lunchhas  a  big  impact  onschool_ratingwhile  a  more  horizontal  slope would  indicate  that  the  same  small  change  inreduced_lunchhas  a  smaller  impact onschool_rating.\n",
    "\n",
    "Phase 5 –Correlation MatrixAn efficient graph for assessing relationships is the correlation matrix, as seen below; its  color-coded  cells  make  it  easier  to  interpret  than  the  tabular  correlation  matrix above. Red cells indicate positive correlation; blue cells indicate negative correlation; white cells indicate no correlation. The darker the colors, the stronger the correlation (positive or negative) between those two variables. Draw a graph of correlation matrix having all important fields of data frame."
   ]
  },
  {
   "cell_type": "code",
   "execution_count": 5,
   "metadata": {},
   "outputs": [],
   "source": [
    "df_school = pd.read_csv(r'D:\\Edureka\\dataset\\middle_tn_schools.csv')"
   ]
  },
  {
   "cell_type": "code",
   "execution_count": 6,
   "metadata": {},
   "outputs": [
    {
     "name": "stdout",
     "output_type": "stream",
     "text": [
      "(347, 15)\n"
     ]
    },
    {
     "data": {
      "text/html": [
       "<div>\n",
       "<style scoped>\n",
       "    .dataframe tbody tr th:only-of-type {\n",
       "        vertical-align: middle;\n",
       "    }\n",
       "\n",
       "    .dataframe tbody tr th {\n",
       "        vertical-align: top;\n",
       "    }\n",
       "\n",
       "    .dataframe thead th {\n",
       "        text-align: right;\n",
       "    }\n",
       "</style>\n",
       "<table border=\"1\" class=\"dataframe\">\n",
       "  <thead>\n",
       "    <tr style=\"text-align: right;\">\n",
       "      <th></th>\n",
       "      <th>name</th>\n",
       "      <th>school_rating</th>\n",
       "      <th>size</th>\n",
       "      <th>reduced_lunch</th>\n",
       "      <th>state_percentile_16</th>\n",
       "      <th>state_percentile_15</th>\n",
       "      <th>stu_teach_ratio</th>\n",
       "      <th>school_type</th>\n",
       "      <th>avg_score_15</th>\n",
       "      <th>avg_score_16</th>\n",
       "      <th>full_time_teachers</th>\n",
       "      <th>percent_black</th>\n",
       "      <th>percent_white</th>\n",
       "      <th>percent_asian</th>\n",
       "      <th>percent_hispanic</th>\n",
       "    </tr>\n",
       "  </thead>\n",
       "  <tbody>\n",
       "    <tr>\n",
       "      <th>0</th>\n",
       "      <td>Allendale Elementary School</td>\n",
       "      <td>5.0</td>\n",
       "      <td>851.0</td>\n",
       "      <td>10.0</td>\n",
       "      <td>90.2</td>\n",
       "      <td>95.8</td>\n",
       "      <td>15.7</td>\n",
       "      <td>Public</td>\n",
       "      <td>89.4</td>\n",
       "      <td>85.2</td>\n",
       "      <td>54.0</td>\n",
       "      <td>2.9</td>\n",
       "      <td>85.5</td>\n",
       "      <td>1.6</td>\n",
       "      <td>5.6</td>\n",
       "    </tr>\n",
       "    <tr>\n",
       "      <th>1</th>\n",
       "      <td>Anderson Elementary</td>\n",
       "      <td>2.0</td>\n",
       "      <td>412.0</td>\n",
       "      <td>71.0</td>\n",
       "      <td>32.8</td>\n",
       "      <td>37.3</td>\n",
       "      <td>12.8</td>\n",
       "      <td>Public</td>\n",
       "      <td>43.0</td>\n",
       "      <td>38.3</td>\n",
       "      <td>32.0</td>\n",
       "      <td>3.9</td>\n",
       "      <td>86.7</td>\n",
       "      <td>1.0</td>\n",
       "      <td>4.9</td>\n",
       "    </tr>\n",
       "    <tr>\n",
       "      <th>2</th>\n",
       "      <td>Avoca Elementary</td>\n",
       "      <td>4.0</td>\n",
       "      <td>482.0</td>\n",
       "      <td>43.0</td>\n",
       "      <td>78.4</td>\n",
       "      <td>83.6</td>\n",
       "      <td>16.6</td>\n",
       "      <td>Public</td>\n",
       "      <td>75.7</td>\n",
       "      <td>73.0</td>\n",
       "      <td>29.0</td>\n",
       "      <td>1.0</td>\n",
       "      <td>91.5</td>\n",
       "      <td>1.2</td>\n",
       "      <td>4.4</td>\n",
       "    </tr>\n",
       "    <tr>\n",
       "      <th>3</th>\n",
       "      <td>Bailey Middle</td>\n",
       "      <td>0.0</td>\n",
       "      <td>394.0</td>\n",
       "      <td>91.0</td>\n",
       "      <td>1.6</td>\n",
       "      <td>1.0</td>\n",
       "      <td>13.1</td>\n",
       "      <td>Public Magnet</td>\n",
       "      <td>2.1</td>\n",
       "      <td>4.4</td>\n",
       "      <td>30.0</td>\n",
       "      <td>80.7</td>\n",
       "      <td>11.7</td>\n",
       "      <td>2.3</td>\n",
       "      <td>4.3</td>\n",
       "    </tr>\n",
       "    <tr>\n",
       "      <th>4</th>\n",
       "      <td>Barfield Elementary</td>\n",
       "      <td>4.0</td>\n",
       "      <td>948.0</td>\n",
       "      <td>26.0</td>\n",
       "      <td>85.3</td>\n",
       "      <td>89.2</td>\n",
       "      <td>14.8</td>\n",
       "      <td>Public</td>\n",
       "      <td>81.3</td>\n",
       "      <td>79.6</td>\n",
       "      <td>64.0</td>\n",
       "      <td>11.8</td>\n",
       "      <td>71.2</td>\n",
       "      <td>7.1</td>\n",
       "      <td>6.0</td>\n",
       "    </tr>\n",
       "  </tbody>\n",
       "</table>\n",
       "</div>"
      ],
      "text/plain": [
       "                          name  school_rating   size  reduced_lunch  \\\n",
       "0  Allendale Elementary School            5.0  851.0           10.0   \n",
       "1          Anderson Elementary            2.0  412.0           71.0   \n",
       "2             Avoca Elementary            4.0  482.0           43.0   \n",
       "3                Bailey Middle            0.0  394.0           91.0   \n",
       "4          Barfield Elementary            4.0  948.0           26.0   \n",
       "\n",
       "   state_percentile_16  state_percentile_15  stu_teach_ratio    school_type  \\\n",
       "0                 90.2                 95.8             15.7         Public   \n",
       "1                 32.8                 37.3             12.8         Public   \n",
       "2                 78.4                 83.6             16.6         Public   \n",
       "3                  1.6                  1.0             13.1  Public Magnet   \n",
       "4                 85.3                 89.2             14.8         Public   \n",
       "\n",
       "   avg_score_15  avg_score_16  full_time_teachers  percent_black  \\\n",
       "0          89.4          85.2                54.0            2.9   \n",
       "1          43.0          38.3                32.0            3.9   \n",
       "2          75.7          73.0                29.0            1.0   \n",
       "3           2.1           4.4                30.0           80.7   \n",
       "4          81.3          79.6                64.0           11.8   \n",
       "\n",
       "   percent_white  percent_asian  percent_hispanic  \n",
       "0           85.5            1.6               5.6  \n",
       "1           86.7            1.0               4.9  \n",
       "2           91.5            1.2               4.4  \n",
       "3           11.7            2.3               4.3  \n",
       "4           71.2            7.1               6.0  "
      ]
     },
     "execution_count": 6,
     "metadata": {},
     "output_type": "execute_result"
    }
   ],
   "source": [
    "print(df_school.shape)\n",
    "df_school.head(5)"
   ]
  },
  {
   "cell_type": "code",
   "execution_count": 7,
   "metadata": {},
   "outputs": [
    {
     "data": {
      "text/html": [
       "<div>\n",
       "<style scoped>\n",
       "    .dataframe tbody tr th:only-of-type {\n",
       "        vertical-align: middle;\n",
       "    }\n",
       "\n",
       "    .dataframe tbody tr th {\n",
       "        vertical-align: top;\n",
       "    }\n",
       "\n",
       "    .dataframe thead th {\n",
       "        text-align: right;\n",
       "    }\n",
       "</style>\n",
       "<table border=\"1\" class=\"dataframe\">\n",
       "  <thead>\n",
       "    <tr style=\"text-align: right;\">\n",
       "      <th></th>\n",
       "      <th>school_rating</th>\n",
       "      <th>size</th>\n",
       "      <th>reduced_lunch</th>\n",
       "      <th>state_percentile_16</th>\n",
       "      <th>state_percentile_15</th>\n",
       "      <th>stu_teach_ratio</th>\n",
       "      <th>avg_score_15</th>\n",
       "      <th>avg_score_16</th>\n",
       "      <th>full_time_teachers</th>\n",
       "      <th>percent_black</th>\n",
       "      <th>percent_white</th>\n",
       "      <th>percent_asian</th>\n",
       "      <th>percent_hispanic</th>\n",
       "    </tr>\n",
       "  </thead>\n",
       "  <tbody>\n",
       "    <tr>\n",
       "      <th>count</th>\n",
       "      <td>347.000000</td>\n",
       "      <td>347.000000</td>\n",
       "      <td>347.000000</td>\n",
       "      <td>347.000000</td>\n",
       "      <td>341.000000</td>\n",
       "      <td>347.000000</td>\n",
       "      <td>341.000000</td>\n",
       "      <td>347.000000</td>\n",
       "      <td>347.000000</td>\n",
       "      <td>347.000000</td>\n",
       "      <td>347.000000</td>\n",
       "      <td>347.000000</td>\n",
       "      <td>347.000000</td>\n",
       "    </tr>\n",
       "    <tr>\n",
       "      <th>mean</th>\n",
       "      <td>2.968300</td>\n",
       "      <td>699.472622</td>\n",
       "      <td>50.279539</td>\n",
       "      <td>58.801729</td>\n",
       "      <td>58.249267</td>\n",
       "      <td>15.461671</td>\n",
       "      <td>57.004692</td>\n",
       "      <td>57.049856</td>\n",
       "      <td>44.939481</td>\n",
       "      <td>21.197983</td>\n",
       "      <td>61.673487</td>\n",
       "      <td>2.642651</td>\n",
       "      <td>11.164553</td>\n",
       "    </tr>\n",
       "    <tr>\n",
       "      <th>std</th>\n",
       "      <td>1.690377</td>\n",
       "      <td>400.598636</td>\n",
       "      <td>25.480236</td>\n",
       "      <td>32.540747</td>\n",
       "      <td>32.702630</td>\n",
       "      <td>5.725170</td>\n",
       "      <td>26.696450</td>\n",
       "      <td>27.968974</td>\n",
       "      <td>22.053386</td>\n",
       "      <td>23.562538</td>\n",
       "      <td>27.274859</td>\n",
       "      <td>3.109629</td>\n",
       "      <td>12.030608</td>\n",
       "    </tr>\n",
       "    <tr>\n",
       "      <th>min</th>\n",
       "      <td>0.000000</td>\n",
       "      <td>53.000000</td>\n",
       "      <td>2.000000</td>\n",
       "      <td>0.200000</td>\n",
       "      <td>0.600000</td>\n",
       "      <td>4.700000</td>\n",
       "      <td>1.500000</td>\n",
       "      <td>0.100000</td>\n",
       "      <td>2.000000</td>\n",
       "      <td>0.000000</td>\n",
       "      <td>1.100000</td>\n",
       "      <td>0.000000</td>\n",
       "      <td>0.000000</td>\n",
       "    </tr>\n",
       "    <tr>\n",
       "      <th>25%</th>\n",
       "      <td>2.000000</td>\n",
       "      <td>420.500000</td>\n",
       "      <td>30.000000</td>\n",
       "      <td>30.950000</td>\n",
       "      <td>27.100000</td>\n",
       "      <td>13.700000</td>\n",
       "      <td>37.600000</td>\n",
       "      <td>37.000000</td>\n",
       "      <td>30.000000</td>\n",
       "      <td>3.600000</td>\n",
       "      <td>40.600000</td>\n",
       "      <td>0.750000</td>\n",
       "      <td>3.800000</td>\n",
       "    </tr>\n",
       "    <tr>\n",
       "      <th>50%</th>\n",
       "      <td>3.000000</td>\n",
       "      <td>595.000000</td>\n",
       "      <td>51.000000</td>\n",
       "      <td>66.400000</td>\n",
       "      <td>65.800000</td>\n",
       "      <td>15.000000</td>\n",
       "      <td>61.800000</td>\n",
       "      <td>60.700000</td>\n",
       "      <td>40.000000</td>\n",
       "      <td>13.500000</td>\n",
       "      <td>68.700000</td>\n",
       "      <td>1.600000</td>\n",
       "      <td>6.400000</td>\n",
       "    </tr>\n",
       "    <tr>\n",
       "      <th>75%</th>\n",
       "      <td>4.000000</td>\n",
       "      <td>851.000000</td>\n",
       "      <td>71.500000</td>\n",
       "      <td>88.000000</td>\n",
       "      <td>88.600000</td>\n",
       "      <td>16.700000</td>\n",
       "      <td>79.600000</td>\n",
       "      <td>80.250000</td>\n",
       "      <td>54.000000</td>\n",
       "      <td>28.350000</td>\n",
       "      <td>85.950000</td>\n",
       "      <td>3.100000</td>\n",
       "      <td>13.800000</td>\n",
       "    </tr>\n",
       "    <tr>\n",
       "      <th>max</th>\n",
       "      <td>5.000000</td>\n",
       "      <td>2314.000000</td>\n",
       "      <td>98.000000</td>\n",
       "      <td>99.800000</td>\n",
       "      <td>99.800000</td>\n",
       "      <td>111.000000</td>\n",
       "      <td>99.000000</td>\n",
       "      <td>98.900000</td>\n",
       "      <td>140.000000</td>\n",
       "      <td>97.400000</td>\n",
       "      <td>99.700000</td>\n",
       "      <td>21.100000</td>\n",
       "      <td>65.200000</td>\n",
       "    </tr>\n",
       "  </tbody>\n",
       "</table>\n",
       "</div>"
      ],
      "text/plain": [
       "       school_rating         size  reduced_lunch  state_percentile_16  \\\n",
       "count     347.000000   347.000000     347.000000           347.000000   \n",
       "mean        2.968300   699.472622      50.279539            58.801729   \n",
       "std         1.690377   400.598636      25.480236            32.540747   \n",
       "min         0.000000    53.000000       2.000000             0.200000   \n",
       "25%         2.000000   420.500000      30.000000            30.950000   \n",
       "50%         3.000000   595.000000      51.000000            66.400000   \n",
       "75%         4.000000   851.000000      71.500000            88.000000   \n",
       "max         5.000000  2314.000000      98.000000            99.800000   \n",
       "\n",
       "       state_percentile_15  stu_teach_ratio  avg_score_15  avg_score_16  \\\n",
       "count           341.000000       347.000000    341.000000    347.000000   \n",
       "mean             58.249267        15.461671     57.004692     57.049856   \n",
       "std              32.702630         5.725170     26.696450     27.968974   \n",
       "min               0.600000         4.700000      1.500000      0.100000   \n",
       "25%              27.100000        13.700000     37.600000     37.000000   \n",
       "50%              65.800000        15.000000     61.800000     60.700000   \n",
       "75%              88.600000        16.700000     79.600000     80.250000   \n",
       "max              99.800000       111.000000     99.000000     98.900000   \n",
       "\n",
       "       full_time_teachers  percent_black  percent_white  percent_asian  \\\n",
       "count          347.000000     347.000000     347.000000     347.000000   \n",
       "mean            44.939481      21.197983      61.673487       2.642651   \n",
       "std             22.053386      23.562538      27.274859       3.109629   \n",
       "min              2.000000       0.000000       1.100000       0.000000   \n",
       "25%             30.000000       3.600000      40.600000       0.750000   \n",
       "50%             40.000000      13.500000      68.700000       1.600000   \n",
       "75%             54.000000      28.350000      85.950000       3.100000   \n",
       "max            140.000000      97.400000      99.700000      21.100000   \n",
       "\n",
       "       percent_hispanic  \n",
       "count        347.000000  \n",
       "mean          11.164553  \n",
       "std           12.030608  \n",
       "min            0.000000  \n",
       "25%            3.800000  \n",
       "50%            6.400000  \n",
       "75%           13.800000  \n",
       "max           65.200000  "
      ]
     },
     "execution_count": 7,
     "metadata": {},
     "output_type": "execute_result"
    }
   ],
   "source": [
    "df_school.describe()"
   ]
  },
  {
   "cell_type": "code",
   "execution_count": 8,
   "metadata": {},
   "outputs": [
    {
     "data": {
      "text/plain": [
       "Index(['name', 'school_rating', 'size', 'reduced_lunch', 'state_percentile_16',\n",
       "       'state_percentile_15', 'stu_teach_ratio', 'school_type', 'avg_score_15',\n",
       "       'avg_score_16', 'full_time_teachers', 'percent_black', 'percent_white',\n",
       "       'percent_asian', 'percent_hispanic'],\n",
       "      dtype='object')"
      ]
     },
     "execution_count": 8,
     "metadata": {},
     "output_type": "execute_result"
    }
   ],
   "source": [
    "df_school.columns"
   ]
  },
  {
   "cell_type": "code",
   "execution_count": 9,
   "metadata": {},
   "outputs": [
    {
     "data": {
      "text/html": [
       "<div>\n",
       "<style scoped>\n",
       "    .dataframe tbody tr th:only-of-type {\n",
       "        vertical-align: middle;\n",
       "    }\n",
       "\n",
       "    .dataframe tbody tr th {\n",
       "        vertical-align: top;\n",
       "    }\n",
       "\n",
       "    .dataframe thead th {\n",
       "        text-align: right;\n",
       "    }\n",
       "</style>\n",
       "<table border=\"1\" class=\"dataframe\">\n",
       "  <thead>\n",
       "    <tr style=\"text-align: right;\">\n",
       "      <th></th>\n",
       "      <th>reduced_lunch</th>\n",
       "      <th>state_percentile_16</th>\n",
       "      <th>state_percentile_15</th>\n",
       "    </tr>\n",
       "    <tr>\n",
       "      <th>school_rating</th>\n",
       "      <th></th>\n",
       "      <th></th>\n",
       "      <th></th>\n",
       "    </tr>\n",
       "  </thead>\n",
       "  <tbody>\n",
       "    <tr>\n",
       "      <th>0.0</th>\n",
       "      <td>83.581395</td>\n",
       "      <td>4.288372</td>\n",
       "      <td>6.500000</td>\n",
       "    </tr>\n",
       "    <tr>\n",
       "      <th>1.0</th>\n",
       "      <td>74.950000</td>\n",
       "      <td>18.575000</td>\n",
       "      <td>17.939474</td>\n",
       "    </tr>\n",
       "    <tr>\n",
       "      <th>2.0</th>\n",
       "      <td>64.272727</td>\n",
       "      <td>39.150000</td>\n",
       "      <td>39.888372</td>\n",
       "    </tr>\n",
       "    <tr>\n",
       "      <th>3.0</th>\n",
       "      <td>50.285714</td>\n",
       "      <td>59.466071</td>\n",
       "      <td>58.192857</td>\n",
       "    </tr>\n",
       "    <tr>\n",
       "      <th>4.0</th>\n",
       "      <td>41.000000</td>\n",
       "      <td>81.118605</td>\n",
       "      <td>79.354118</td>\n",
       "    </tr>\n",
       "    <tr>\n",
       "      <th>5.0</th>\n",
       "      <td>21.602564</td>\n",
       "      <td>95.485897</td>\n",
       "      <td>93.366234</td>\n",
       "    </tr>\n",
       "  </tbody>\n",
       "</table>\n",
       "</div>"
      ],
      "text/plain": [
       "               reduced_lunch  state_percentile_16  state_percentile_15\n",
       "school_rating                                                         \n",
       "0.0                83.581395             4.288372             6.500000\n",
       "1.0                74.950000            18.575000            17.939474\n",
       "2.0                64.272727            39.150000            39.888372\n",
       "3.0                50.285714            59.466071            58.192857\n",
       "4.0                41.000000            81.118605            79.354118\n",
       "5.0                21.602564            95.485897            93.366234"
      ]
     },
     "execution_count": 9,
     "metadata": {},
     "output_type": "execute_result"
    }
   ],
   "source": [
    "df_school.groupby(['school_rating']).agg({'reduced_lunch':np.mean, 'state_percentile_16':np.mean, 'state_percentile_15':np.mean})\n",
    "\n",
    "# as the lunch reduced, school rating decreased and they are lesser in state percentile"
   ]
  },
  {
   "cell_type": "code",
   "execution_count": 10,
   "metadata": {},
   "outputs": [],
   "source": [
    "corrmat = df_school.corr()"
   ]
  },
  {
   "cell_type": "code",
   "execution_count": 12,
   "metadata": {},
   "outputs": [
    {
     "data": {
      "text/html": [
       "<div>\n",
       "<style scoped>\n",
       "    .dataframe tbody tr th:only-of-type {\n",
       "        vertical-align: middle;\n",
       "    }\n",
       "\n",
       "    .dataframe tbody tr th {\n",
       "        vertical-align: top;\n",
       "    }\n",
       "\n",
       "    .dataframe thead th {\n",
       "        text-align: right;\n",
       "    }\n",
       "</style>\n",
       "<table border=\"1\" class=\"dataframe\">\n",
       "  <thead>\n",
       "    <tr style=\"text-align: right;\">\n",
       "      <th></th>\n",
       "      <th>school_rating</th>\n",
       "      <th>size</th>\n",
       "      <th>reduced_lunch</th>\n",
       "      <th>state_percentile_16</th>\n",
       "      <th>state_percentile_15</th>\n",
       "      <th>stu_teach_ratio</th>\n",
       "      <th>avg_score_15</th>\n",
       "      <th>avg_score_16</th>\n",
       "      <th>full_time_teachers</th>\n",
       "      <th>percent_black</th>\n",
       "      <th>percent_white</th>\n",
       "      <th>percent_asian</th>\n",
       "      <th>percent_hispanic</th>\n",
       "    </tr>\n",
       "  </thead>\n",
       "  <tbody>\n",
       "    <tr>\n",
       "      <th>school_rating</th>\n",
       "      <td>1.000000</td>\n",
       "      <td>0.181428</td>\n",
       "      <td>-0.815757</td>\n",
       "      <td>0.985545</td>\n",
       "      <td>0.937817</td>\n",
       "      <td>0.203459</td>\n",
       "      <td>0.941336</td>\n",
       "      <td>0.982390</td>\n",
       "      <td>0.122910</td>\n",
       "      <td>-0.593869</td>\n",
       "      <td>0.639014</td>\n",
       "      <td>0.161469</td>\n",
       "      <td>-0.376288</td>\n",
       "    </tr>\n",
       "    <tr>\n",
       "      <th>size</th>\n",
       "      <td>0.181428</td>\n",
       "      <td>1.000000</td>\n",
       "      <td>-0.277807</td>\n",
       "      <td>0.171060</td>\n",
       "      <td>0.162887</td>\n",
       "      <td>0.143173</td>\n",
       "      <td>0.161788</td>\n",
       "      <td>0.143289</td>\n",
       "      <td>0.966880</td>\n",
       "      <td>-0.148405</td>\n",
       "      <td>0.102904</td>\n",
       "      <td>0.193491</td>\n",
       "      <td>-0.017660</td>\n",
       "    </tr>\n",
       "    <tr>\n",
       "      <th>reduced_lunch</th>\n",
       "      <td>-0.815757</td>\n",
       "      <td>-0.277807</td>\n",
       "      <td>1.000000</td>\n",
       "      <td>-0.815720</td>\n",
       "      <td>-0.825085</td>\n",
       "      <td>-0.197428</td>\n",
       "      <td>-0.839536</td>\n",
       "      <td>-0.816479</td>\n",
       "      <td>-0.214848</td>\n",
       "      <td>0.562921</td>\n",
       "      <td>-0.668327</td>\n",
       "      <td>-0.226385</td>\n",
       "      <td>0.490446</td>\n",
       "    </tr>\n",
       "    <tr>\n",
       "      <th>state_percentile_16</th>\n",
       "      <td>0.985545</td>\n",
       "      <td>0.171060</td>\n",
       "      <td>-0.815720</td>\n",
       "      <td>1.000000</td>\n",
       "      <td>0.949694</td>\n",
       "      <td>0.186893</td>\n",
       "      <td>0.949197</td>\n",
       "      <td>0.994085</td>\n",
       "      <td>0.117061</td>\n",
       "      <td>-0.573810</td>\n",
       "      <td>0.625374</td>\n",
       "      <td>0.151021</td>\n",
       "      <td>-0.383017</td>\n",
       "    </tr>\n",
       "    <tr>\n",
       "      <th>state_percentile_15</th>\n",
       "      <td>0.937817</td>\n",
       "      <td>0.162887</td>\n",
       "      <td>-0.825085</td>\n",
       "      <td>0.949694</td>\n",
       "      <td>1.000000</td>\n",
       "      <td>0.141066</td>\n",
       "      <td>0.991847</td>\n",
       "      <td>0.946101</td>\n",
       "      <td>0.109569</td>\n",
       "      <td>-0.564929</td>\n",
       "      <td>0.612183</td>\n",
       "      <td>0.181822</td>\n",
       "      <td>-0.371708</td>\n",
       "    </tr>\n",
       "    <tr>\n",
       "      <th>stu_teach_ratio</th>\n",
       "      <td>0.203459</td>\n",
       "      <td>0.143173</td>\n",
       "      <td>-0.197428</td>\n",
       "      <td>0.186893</td>\n",
       "      <td>0.141066</td>\n",
       "      <td>1.000000</td>\n",
       "      <td>0.147963</td>\n",
       "      <td>0.175880</td>\n",
       "      <td>0.019594</td>\n",
       "      <td>-0.122307</td>\n",
       "      <td>0.134595</td>\n",
       "      <td>0.089211</td>\n",
       "      <td>-0.089307</td>\n",
       "    </tr>\n",
       "    <tr>\n",
       "      <th>avg_score_15</th>\n",
       "      <td>0.941336</td>\n",
       "      <td>0.161788</td>\n",
       "      <td>-0.839536</td>\n",
       "      <td>0.949197</td>\n",
       "      <td>0.991847</td>\n",
       "      <td>0.147963</td>\n",
       "      <td>1.000000</td>\n",
       "      <td>0.953714</td>\n",
       "      <td>0.105186</td>\n",
       "      <td>-0.595062</td>\n",
       "      <td>0.637500</td>\n",
       "      <td>0.192656</td>\n",
       "      <td>-0.374300</td>\n",
       "    </tr>\n",
       "    <tr>\n",
       "      <th>avg_score_16</th>\n",
       "      <td>0.982390</td>\n",
       "      <td>0.143289</td>\n",
       "      <td>-0.816479</td>\n",
       "      <td>0.994085</td>\n",
       "      <td>0.946101</td>\n",
       "      <td>0.175880</td>\n",
       "      <td>0.953714</td>\n",
       "      <td>1.000000</td>\n",
       "      <td>0.089338</td>\n",
       "      <td>-0.592876</td>\n",
       "      <td>0.635201</td>\n",
       "      <td>0.172739</td>\n",
       "      <td>-0.373618</td>\n",
       "    </tr>\n",
       "    <tr>\n",
       "      <th>full_time_teachers</th>\n",
       "      <td>0.122910</td>\n",
       "      <td>0.966880</td>\n",
       "      <td>-0.214848</td>\n",
       "      <td>0.117061</td>\n",
       "      <td>0.109569</td>\n",
       "      <td>0.019594</td>\n",
       "      <td>0.105186</td>\n",
       "      <td>0.089338</td>\n",
       "      <td>1.000000</td>\n",
       "      <td>-0.113515</td>\n",
       "      <td>0.055672</td>\n",
       "      <td>0.146726</td>\n",
       "      <td>0.026130</td>\n",
       "    </tr>\n",
       "    <tr>\n",
       "      <th>percent_black</th>\n",
       "      <td>-0.593869</td>\n",
       "      <td>-0.148405</td>\n",
       "      <td>0.562921</td>\n",
       "      <td>-0.573810</td>\n",
       "      <td>-0.564929</td>\n",
       "      <td>-0.122307</td>\n",
       "      <td>-0.595062</td>\n",
       "      <td>-0.592876</td>\n",
       "      <td>-0.113515</td>\n",
       "      <td>1.000000</td>\n",
       "      <td>-0.874202</td>\n",
       "      <td>-0.112274</td>\n",
       "      <td>0.086627</td>\n",
       "    </tr>\n",
       "    <tr>\n",
       "      <th>percent_white</th>\n",
       "      <td>0.639014</td>\n",
       "      <td>0.102904</td>\n",
       "      <td>-0.668327</td>\n",
       "      <td>0.625374</td>\n",
       "      <td>0.612183</td>\n",
       "      <td>0.134595</td>\n",
       "      <td>0.637500</td>\n",
       "      <td>0.635201</td>\n",
       "      <td>0.055672</td>\n",
       "      <td>-0.874202</td>\n",
       "      <td>1.000000</td>\n",
       "      <td>-0.092287</td>\n",
       "      <td>-0.537571</td>\n",
       "    </tr>\n",
       "    <tr>\n",
       "      <th>percent_asian</th>\n",
       "      <td>0.161469</td>\n",
       "      <td>0.193491</td>\n",
       "      <td>-0.226385</td>\n",
       "      <td>0.151021</td>\n",
       "      <td>0.181822</td>\n",
       "      <td>0.089211</td>\n",
       "      <td>0.192656</td>\n",
       "      <td>0.172739</td>\n",
       "      <td>0.146726</td>\n",
       "      <td>-0.112274</td>\n",
       "      <td>-0.092287</td>\n",
       "      <td>1.000000</td>\n",
       "      <td>0.187277</td>\n",
       "    </tr>\n",
       "    <tr>\n",
       "      <th>percent_hispanic</th>\n",
       "      <td>-0.376288</td>\n",
       "      <td>-0.017660</td>\n",
       "      <td>0.490446</td>\n",
       "      <td>-0.383017</td>\n",
       "      <td>-0.371708</td>\n",
       "      <td>-0.089307</td>\n",
       "      <td>-0.374300</td>\n",
       "      <td>-0.373618</td>\n",
       "      <td>0.026130</td>\n",
       "      <td>0.086627</td>\n",
       "      <td>-0.537571</td>\n",
       "      <td>0.187277</td>\n",
       "      <td>1.000000</td>\n",
       "    </tr>\n",
       "  </tbody>\n",
       "</table>\n",
       "</div>"
      ],
      "text/plain": [
       "                     school_rating      size  reduced_lunch  \\\n",
       "school_rating             1.000000  0.181428      -0.815757   \n",
       "size                      0.181428  1.000000      -0.277807   \n",
       "reduced_lunch            -0.815757 -0.277807       1.000000   \n",
       "state_percentile_16       0.985545  0.171060      -0.815720   \n",
       "state_percentile_15       0.937817  0.162887      -0.825085   \n",
       "stu_teach_ratio           0.203459  0.143173      -0.197428   \n",
       "avg_score_15              0.941336  0.161788      -0.839536   \n",
       "avg_score_16              0.982390  0.143289      -0.816479   \n",
       "full_time_teachers        0.122910  0.966880      -0.214848   \n",
       "percent_black            -0.593869 -0.148405       0.562921   \n",
       "percent_white             0.639014  0.102904      -0.668327   \n",
       "percent_asian             0.161469  0.193491      -0.226385   \n",
       "percent_hispanic         -0.376288 -0.017660       0.490446   \n",
       "\n",
       "                     state_percentile_16  state_percentile_15  \\\n",
       "school_rating                   0.985545             0.937817   \n",
       "size                            0.171060             0.162887   \n",
       "reduced_lunch                  -0.815720            -0.825085   \n",
       "state_percentile_16             1.000000             0.949694   \n",
       "state_percentile_15             0.949694             1.000000   \n",
       "stu_teach_ratio                 0.186893             0.141066   \n",
       "avg_score_15                    0.949197             0.991847   \n",
       "avg_score_16                    0.994085             0.946101   \n",
       "full_time_teachers              0.117061             0.109569   \n",
       "percent_black                  -0.573810            -0.564929   \n",
       "percent_white                   0.625374             0.612183   \n",
       "percent_asian                   0.151021             0.181822   \n",
       "percent_hispanic               -0.383017            -0.371708   \n",
       "\n",
       "                     stu_teach_ratio  avg_score_15  avg_score_16  \\\n",
       "school_rating               0.203459      0.941336      0.982390   \n",
       "size                        0.143173      0.161788      0.143289   \n",
       "reduced_lunch              -0.197428     -0.839536     -0.816479   \n",
       "state_percentile_16         0.186893      0.949197      0.994085   \n",
       "state_percentile_15         0.141066      0.991847      0.946101   \n",
       "stu_teach_ratio             1.000000      0.147963      0.175880   \n",
       "avg_score_15                0.147963      1.000000      0.953714   \n",
       "avg_score_16                0.175880      0.953714      1.000000   \n",
       "full_time_teachers          0.019594      0.105186      0.089338   \n",
       "percent_black              -0.122307     -0.595062     -0.592876   \n",
       "percent_white               0.134595      0.637500      0.635201   \n",
       "percent_asian               0.089211      0.192656      0.172739   \n",
       "percent_hispanic           -0.089307     -0.374300     -0.373618   \n",
       "\n",
       "                     full_time_teachers  percent_black  percent_white  \\\n",
       "school_rating                  0.122910      -0.593869       0.639014   \n",
       "size                           0.966880      -0.148405       0.102904   \n",
       "reduced_lunch                 -0.214848       0.562921      -0.668327   \n",
       "state_percentile_16            0.117061      -0.573810       0.625374   \n",
       "state_percentile_15            0.109569      -0.564929       0.612183   \n",
       "stu_teach_ratio                0.019594      -0.122307       0.134595   \n",
       "avg_score_15                   0.105186      -0.595062       0.637500   \n",
       "avg_score_16                   0.089338      -0.592876       0.635201   \n",
       "full_time_teachers             1.000000      -0.113515       0.055672   \n",
       "percent_black                 -0.113515       1.000000      -0.874202   \n",
       "percent_white                  0.055672      -0.874202       1.000000   \n",
       "percent_asian                  0.146726      -0.112274      -0.092287   \n",
       "percent_hispanic               0.026130       0.086627      -0.537571   \n",
       "\n",
       "                     percent_asian  percent_hispanic  \n",
       "school_rating             0.161469         -0.376288  \n",
       "size                      0.193491         -0.017660  \n",
       "reduced_lunch            -0.226385          0.490446  \n",
       "state_percentile_16       0.151021         -0.383017  \n",
       "state_percentile_15       0.181822         -0.371708  \n",
       "stu_teach_ratio           0.089211         -0.089307  \n",
       "avg_score_15              0.192656         -0.374300  \n",
       "avg_score_16              0.172739         -0.373618  \n",
       "full_time_teachers        0.146726          0.026130  \n",
       "percent_black            -0.112274          0.086627  \n",
       "percent_white            -0.092287         -0.537571  \n",
       "percent_asian             1.000000          0.187277  \n",
       "percent_hispanic          0.187277          1.000000  "
      ]
     },
     "execution_count": 12,
     "metadata": {},
     "output_type": "execute_result"
    }
   ],
   "source": [
    "corrmat"
   ]
  },
  {
   "cell_type": "code",
   "execution_count": 32,
   "metadata": {},
   "outputs": [
    {
     "data": {
      "text/plain": [
       "<matplotlib.axes._subplots.AxesSubplot at 0x11065ff1c88>"
      ]
     },
     "execution_count": 32,
     "metadata": {},
     "output_type": "execute_result"
    },
    {
     "data": {
      "image/png": "[encoded data removed]",
      "text/plain": [
       "<Figure size 432x288 with 1 Axes>"
      ]
     },
     "metadata": {
      "needs_background": "light"
     },
     "output_type": "display_data"
    }
   ],
   "source": [
    "df_school.plot.scatter(x='school_rating', y='reduced_lunch')  # its a scattered data"
   ]
  },
  {
   "cell_type": "code",
   "execution_count": 33,
   "metadata": {},
   "outputs": [
    {
     "data": {
      "text/plain": [
       "Text(0.5,1,'correlation.corr()')"
      ]
     },
     "execution_count": 33,
     "metadata": {},
     "output_type": "execute_result"
    },
    {
     "data": {
      "image/png": "[encoded data removed]",
      "text/plain": [
       "<Figure size 432x288 with 2 Axes>"
      ]
     },
     "metadata": {
      "needs_background": "light"
     },
     "output_type": "display_data"
    }
   ],
   "source": [
    "sns.heatmap(corrmat.corr(),cmap='coolwarm')\n",
    "plt.title('correlation.corr()')"
   ]
  },
  {
   "cell_type": "code",
   "execution_count": null,
   "metadata": {},
   "outputs": [],
   "source": []
  }
 ],
 "metadata": {
  "kernelspec": {
   "display_name": "Python 3",
   "language": "python",
   "name": "python3"
  },
  "language_info": {
   "codemirror_mode": {
    "name": "ipython",
    "version": 3
   },
   "file_extension": ".py",
   "mimetype": "text/x-python",
   "name": "python",
   "nbconvert_exporter": "python",
   "pygments_lexer": "ipython3",
   "version": "3.6.9"
  }
 },
 "nbformat": 4,
 "nbformat_minor": 2
}
