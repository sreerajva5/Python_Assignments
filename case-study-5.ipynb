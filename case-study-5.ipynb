{
 "cells": [
  {
   "cell_type": "markdown",
   "metadata": {},
   "source": [
    "#### Case Study\n",
    "Domain – Banking Marketing\n",
    "focus – Optimization\n",
    "Business challenge/requirement\n",
    "Bank of Portugal runs marketing campaign to offer loans to clients. Loan is offered to\n",
    "only clients with particular professions. List of successful campaigns (with client\n",
    "data) is given in attached dataset. You have to come up with program which reads\n",
    "the file and builds a set of unique profession list and given input profession of client –\n",
    "system tells whether client is eligible to be approached for marketing campaign.\n",
    "\n",
    "Data volume : 447 records in bank-data.csv\n",
    "Approach to Solve : You have to use fundamentals of Python taught in module 2\n",
    "1. Read file bank-data.csv\n",
    "2. Build a set of unique jobs\n",
    "3. Read the input from command line –profession\n",
    "4. Check if profession is in list\n",
    "5. Print whether client is eligible\n",
    "\n",
    "You can try these enhancements in code\n",
    "1. Compute max and min age for loan eligibility based on data in csv file\n",
    "2. Store max and min age in dictionary\n",
    "3. Make the profession check case insensitive\n",
    "4. Currently program ends after the check. Take the input in while loop and end\n",
    "only if user types \"END\" for profession"
   ]
  },
  {
   "cell_type": "code",
   "execution_count": 21,
   "metadata": {},
   "outputs": [],
   "source": [
    "import pandas as pd\n",
    "import re"
   ]
  },
  {
   "cell_type": "code",
   "execution_count": 4,
   "metadata": {},
   "outputs": [
    {
     "name": "stdout",
     "output_type": "stream",
     "text": [
      "(447, 4)\n"
     ]
    },
    {
     "data": {
      "text/html": [
       "<div>\n",
       "<style scoped>\n",
       "    .dataframe tbody tr th:only-of-type {\n",
       "        vertical-align: middle;\n",
       "    }\n",
       "\n",
       "    .dataframe tbody tr th {\n",
       "        vertical-align: top;\n",
       "    }\n",
       "\n",
       "    .dataframe thead th {\n",
       "        text-align: right;\n",
       "    }\n",
       "</style>\n",
       "<table border=\"1\" class=\"dataframe\">\n",
       "  <thead>\n",
       "    <tr style=\"text-align: right;\">\n",
       "      <th></th>\n",
       "      <th>age</th>\n",
       "      <th>job</th>\n",
       "      <th>marital</th>\n",
       "      <th>y</th>\n",
       "    </tr>\n",
       "  </thead>\n",
       "  <tbody>\n",
       "    <tr>\n",
       "      <th>0</th>\n",
       "      <td>20</td>\n",
       "      <td>student</td>\n",
       "      <td>single</td>\n",
       "      <td>yes</td>\n",
       "    </tr>\n",
       "    <tr>\n",
       "      <th>1</th>\n",
       "      <td>32</td>\n",
       "      <td>management</td>\n",
       "      <td>single</td>\n",
       "      <td>yes</td>\n",
       "    </tr>\n",
       "  </tbody>\n",
       "</table>\n",
       "</div>"
      ],
      "text/plain": [
       "   age         job marital    y\n",
       "0   20     student  single  yes\n",
       "1   32  management  single  yes"
      ]
     },
     "execution_count": 4,
     "metadata": {},
     "output_type": "execute_result"
    }
   ],
   "source": [
    "df = pd.read_csv(r'D:\\Edureka\\bank-data.csv')\n",
    "print(df.shape)\n",
    "df.head(2)"
   ]
  },
  {
   "cell_type": "code",
   "execution_count": 37,
   "metadata": {},
   "outputs": [
    {
     "name": "stdout",
     "output_type": "stream",
     "text": [
      "['student', 'management', 'technician', 'blue-collar', 'admin', 'services', 'self-employed', 'entrepreneur', 'housemaid']\n"
     ]
    }
   ],
   "source": [
    "l = list(df.job.unique())\n",
    "\n",
    "m = []\n",
    "for i in l:\n",
    "    m.append(re.sub(r'\\.', '', i.strip()))\n",
    "print(m)"
   ]
  },
  {
   "cell_type": "code",
   "execution_count": 46,
   "metadata": {},
   "outputs": [],
   "source": [
    "def job_check():\n",
    "    j = input('Enter the job of the client to cross check: \\n').strip().lower()\n",
    "    if j in m:\n",
    "        print('The client is eligible for loan with job criteria. Please make your call!')\n",
    "    else:\n",
    "        print('The client is not eligible for loan with job criteria. Check for next client!')"
   ]
  },
  {
   "cell_type": "code",
   "execution_count": 41,
   "metadata": {},
   "outputs": [
    {
     "name": "stdout",
     "output_type": "stream",
     "text": [
      "Enter the job of the client to cross check: \n",
      "ADMIN\n",
      "The client is eligible for loan with job criteria. Please make your call!\n"
     ]
    }
   ],
   "source": [
    "job_check()"
   ]
  },
  {
   "cell_type": "code",
   "execution_count": 14,
   "metadata": {},
   "outputs": [
    {
     "name": "stdout",
     "output_type": "stream",
     "text": [
      "Enter the job of the client to cross check: \n",
      "technician\n",
      "The client is eligible for loan with job criteria. Please make your call!\n"
     ]
    }
   ],
   "source": [
    "job_check()"
   ]
  },
  {
   "cell_type": "code",
   "execution_count": 15,
   "metadata": {
    "scrolled": true
   },
   "outputs": [
    {
     "name": "stdout",
     "output_type": "stream",
     "text": [
      "Enter the job of the client to cross check: \n",
      "Data Analyst\n",
      "The client is not eligible for loan with job criteria. Check for next client!\n"
     ]
    }
   ],
   "source": [
    "job_check()"
   ]
  },
  {
   "cell_type": "markdown",
   "metadata": {},
   "source": [
    "### adding optional items (age check & while loop)"
   ]
  },
  {
   "cell_type": "code",
   "execution_count": 49,
   "metadata": {},
   "outputs": [],
   "source": [
    "def job_check1():\n",
    "    while True:\n",
    "        j = input('Enter the job of the client to cross check. Enter \"END\" to stop process: \\n').strip().lower()\n",
    "        if j == 'end':\n",
    "            print('Eligibility checking process stopped. See you again!')\n",
    "            break\n",
    "        else:\n",
    "            z = int(input('Enter the client age: \\n'))\n",
    "            if j not in m:\n",
    "                print('The client is not eligible for loan with job criteria. Check for next client!')\n",
    "                continue\n",
    "            elif df['age'].max() < z or df['age'].min() > z :\n",
    "                print('The client is not eligible for loan with age criteria. Check for next client!')\n",
    "                continue\n",
    "            else:\n",
    "                print('The client is eligible for loan with job criteria. Please make your call!')\n",
    "                continue"
   ]
  },
  {
   "cell_type": "code",
   "execution_count": 50,
   "metadata": {},
   "outputs": [
    {
     "name": "stdout",
     "output_type": "stream",
     "text": [
      "Enter the job of the client to cross check. Enter \"END\" to stop process: \n",
      "sales exe\n",
      "Enter the client age: \n",
      "30\n",
      "The client is not eligible for loan with job criteria. Check for next client!\n",
      "Enter the job of the client to cross check. Enter \"END\" to stop process: \n",
      "ADMIN\n",
      "Enter the client age: \n",
      "30\n",
      "The client is eligible for loan with job criteria. Please make your call!\n",
      "Enter the job of the client to cross check. Enter \"END\" to stop process: \n",
      "ADMIN\n",
      "Enter the client age: \n",
      "100\n",
      "The client is not eligible for loan with age criteria. Check for next client!\n",
      "Enter the job of the client to cross check. Enter \"END\" to stop process: \n",
      "end\n",
      "Eligibility checking process stopped. See you again!\n"
     ]
    }
   ],
   "source": [
    "job_check1()"
   ]
  },
  {
   "cell_type": "code",
   "execution_count": null,
   "metadata": {},
   "outputs": [],
   "source": []
  }
 ],
 "metadata": {
  "kernelspec": {
   "display_name": "Python 3",
   "language": "python",
   "name": "python3"
  },
  "language_info": {
   "codemirror_mode": {
    "name": "ipython",
    "version": 3
   },
   "file_extension": ".py",
   "mimetype": "text/x-python",
   "name": "python",
   "nbconvert_exporter": "python",
   "pygments_lexer": "ipython3",
   "version": "3.6.9"
  }
 },
 "nbformat": 4,
 "nbformat_minor": 2
}
