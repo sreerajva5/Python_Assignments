{
 "cells": [
  {
   "cell_type": "code",
   "execution_count": 1,
   "metadata": {},
   "outputs": [
    {
     "name": "stdout",
     "output_type": "stream",
     "text": [
      "3.8.5 (default, Sep  3 2020, 21:29:08) [MSC v.1916 64 bit (AMD64)]\n"
     ]
    }
   ],
   "source": [
    "# 1. get python version using sys module\n",
    "\n",
    "import sys\n",
    "print(sys.version)"
   ]
  },
  {
   "cell_type": "code",
   "execution_count": 3,
   "metadata": {},
   "outputs": [
    {
     "name": "stdout",
     "output_type": "stream",
     "text": [
      "3.8.5\n"
     ]
    }
   ],
   "source": [
    "print(sys.version.split()[0])"
   ]
  },
  {
   "cell_type": "code",
   "execution_count": 4,
   "metadata": {},
   "outputs": [
    {
     "name": "stdout",
     "output_type": "stream",
     "text": [
      "1580\n"
     ]
    }
   ],
   "source": [
    "# 2. find sum of numbers from 0 to 99 either divisible by 5 or 7\n",
    "\n",
    "a = [i for i in range(100) if i%5 == 0 or i%7==0]\n",
    "print(sum(a))"
   ]
  },
  {
   "cell_type": "code",
   "execution_count": 9,
   "metadata": {},
   "outputs": [
    {
     "name": "stdout",
     "output_type": "stream",
     "text": [
      "1089154\n"
     ]
    }
   ],
   "source": [
    "# 3. find sum of even numbers in fibanacii series below 1 million.\n",
    "\n",
    "def calculate(n):\n",
    "    fn = []\n",
    "    a = 0\n",
    "    b = 1\n",
    "    while a < n:\n",
    "        if a%2 == 0:\n",
    "            fn.append(a)\n",
    "        a,b = b, a+b\n",
    "    return(sum(fn))\n",
    "\n",
    "print(calculate(1000000))"
   ]
  },
  {
   "cell_type": "code",
   "execution_count": 15,
   "metadata": {},
   "outputs": [
    {
     "name": "stdout",
     "output_type": "stream",
     "text": [
      "[2, 2, 3, 3]\n"
     ]
    }
   ],
   "source": [
    "# 4. prime factorization for an integer\n",
    "\n",
    "def calculate(number):\n",
    "    i = 2\n",
    "    factors = []\n",
    "    while i * i <= number:\n",
    "        if not number % i == 0:\n",
    "            i += 1\n",
    "        else:\n",
    "            number = number // i\n",
    "            factors.append(i)\n",
    "    if number > 1:\n",
    "        factors.append(number)\n",
    "    return factors\n",
    "\n",
    "print(calculate(36))"
   ]
  },
  {
   "cell_type": "code",
   "execution_count": 16,
   "metadata": {},
   "outputs": [],
   "source": [
    "# 5. find largest prime number of an integer\n",
    "\n",
    "def calculate(n):\n",
    "    l = []\n",
    "    for i in range(2, int(n/2+1)):\n",
    "        if n%i == 0:\n",
    "            for j in range(2, i):\n",
    "                if i%j == 0:\n",
    "                    break\n",
    "            else:\n",
    "                l.append(i)\n",
    "    return max(l)"
   ]
  },
  {
   "cell_type": "code",
   "execution_count": 19,
   "metadata": {},
   "outputs": [
    {
     "data": {
      "text/plain": [
       "11"
      ]
     },
     "execution_count": 19,
     "metadata": {},
     "output_type": "execute_result"
    }
   ],
   "source": [
    "print(calculate(36))"
   ]
  },
  {
   "cell_type": "code",
   "execution_count": 20,
   "metadata": {},
   "outputs": [
    {
     "name": "stdout",
     "output_type": "stream",
     "text": [
      "90\n"
     ]
    }
   ],
   "source": [
    "# 6. find number of all 3 digit palindromic numbers\n",
    "l = []\n",
    "for i in range(100,1000):\n",
    "    j = str(i)\n",
    "    k = j[::-1]\n",
    "    if j == k:\n",
    "        l.append(i)\n",
    "print(len(l))"
   ]
  },
  {
   "cell_type": "code",
   "execution_count": 22,
   "metadata": {},
   "outputs": [
    {
     "name": "stdout",
     "output_type": "stream",
     "text": [
      "90\n"
     ]
    }
   ],
   "source": [
    "def calculate():\n",
    "    l = []\n",
    "    for i in range(100,1000):\n",
    "        j = str(i)\n",
    "        k = j[::-1]\n",
    "        if j == k:\n",
    "            l.append(i)\n",
    "    return(len(l))\n",
    "print(calculate())"
   ]
  },
  {
   "cell_type": "code",
   "execution_count": 28,
   "metadata": {},
   "outputs": [
    {
     "name": "stdout",
     "output_type": "stream",
     "text": [
      "9009\n"
     ]
    }
   ],
   "source": [
    "# 7. largest paliandrome number out of the numbers coming as product of 2 digit numbers\n",
    "\n",
    "def calculate():\n",
    "    a = list(set([i*j for i in range(10,100) for j in range(10, 100)]))\n",
    "    b = []\n",
    "    for i in a:\n",
    "        if str(i) == str(i)[::-1]:\n",
    "            b.append(i)\n",
    "    return max(b)\n",
    "print(calculate())"
   ]
  },
  {
   "cell_type": "code",
   "execution_count": 31,
   "metadata": {},
   "outputs": [
    {
     "name": "stdout",
     "output_type": "stream",
     "text": [
      "16\n"
     ]
    }
   ],
   "source": [
    "# 8. greatest common devisor of 2 numbers\n",
    "\n",
    "def greatest_common_devisor(a,b):\n",
    "    l = []\n",
    "    for i in range(1, min(a,b)+1):\n",
    "        if a%i == 0 and b%i == 0:\n",
    "            l.append(i)\n",
    "    return max(l)\n",
    "print(greatest_common_devisor(32,48))"
   ]
  },
  {
   "cell_type": "code",
   "execution_count": 32,
   "metadata": {},
   "outputs": [
    {
     "name": "stdout",
     "output_type": "stream",
     "text": [
      "16\n"
     ]
    }
   ],
   "source": [
    "def greatest_common_divisor(a, b):\n",
    "    while b:\n",
    "        a, b = b, a % b\n",
    "    return a\n",
    "print(greatest_common_devisor(32,48))"
   ]
  },
  {
   "cell_type": "code",
   "execution_count": 33,
   "metadata": {},
   "outputs": [
    {
     "data": {
      "text/plain": [
       "[10, 8, 6, 4, 2]"
      ]
     },
     "execution_count": 33,
     "metadata": {},
     "output_type": "execute_result"
    }
   ],
   "source": [
    "p = 10\n",
    "x = []\n",
    "\n",
    "while p:\n",
    "    x.append(p)\n",
    "    p -= 2\n",
    "x"
   ]
  },
  {
   "cell_type": "code",
   "execution_count": 35,
   "metadata": {},
   "outputs": [
    {
     "name": "stdout",
     "output_type": "stream",
     "text": [
      "True\n"
     ]
    }
   ],
   "source": [
    "# 9. check if a number is prime?\n",
    "\n",
    "def is_prime(n):\n",
    "    if n <= 1:\n",
    "        return False\n",
    "    else:\n",
    "        for i in range(2,int(n/2+1)):\n",
    "            if n%i == 0:\n",
    "                return False\n",
    "        return True\n",
    "print(is_prime(11))"
   ]
  },
  {
   "cell_type": "code",
   "execution_count": 37,
   "metadata": {},
   "outputs": [
    {
     "name": "stdout",
     "output_type": "stream",
     "text": [
      "True\n"
     ]
    }
   ],
   "source": [
    "def is_prime(n):\n",
    "    if n < 2:\n",
    "        return False\n",
    "    if n % 2 == 0:\n",
    "        return n == 2\n",
    "    i = 3\n",
    "    while i * i <= n:\n",
    "        if n % i == 0:\n",
    "            return False\n",
    "        i += 2\n",
    "    return True\n",
    "\n",
    "print(is_prime(11))"
   ]
  },
  {
   "cell_type": "code",
   "execution_count": 39,
   "metadata": {},
   "outputs": [
    {
     "name": "stdout",
     "output_type": "stream",
     "text": [
      "541\n"
     ]
    }
   ],
   "source": [
    "# 10. print prime number at position 100\n",
    "\n",
    "def is_prime(n):\n",
    "    if n < 2:\n",
    "        return False\n",
    "    if n % 2 == 0:\n",
    "        return n == 2\n",
    "    i = 3\n",
    "    while i * i <= n:\n",
    "        if n % i == 0:\n",
    "            return False\n",
    "        i += 2\n",
    "    return True\n",
    "\n",
    "def calculate(n):\n",
    "    l = []\n",
    "    for i in range(2,100000):\n",
    "        if is_prime(i):\n",
    "            l.append(i)\n",
    "        if len(l) == n:\n",
    "            return(l[-1])\n",
    "            break\n",
    "print(calculate(100))"
   ]
  },
  {
   "cell_type": "code",
   "execution_count": 3,
   "metadata": {},
   "outputs": [
    {
     "name": "stdout",
     "output_type": "stream",
     "text": [
      "541\n"
     ]
    }
   ],
   "source": [
    "def is_prime(n):\n",
    "    if n < 2:\n",
    "        return False\n",
    "    if n % 2 == 0:\n",
    "        return n == 2\n",
    "    i = 3\n",
    "    while i * i <= n:\n",
    "        if n % i == 0:\n",
    "            return False\n",
    "        i += 2\n",
    "    return True\n",
    "\n",
    "def calculate():\n",
    "    i = 2\n",
    "    c = 0\n",
    "    while True:\n",
    "        if is_prime(i):\n",
    "            c += 1\n",
    "        if c == 100:\n",
    "            return i\n",
    "        i += 1\n",
    "print(calculate())"
   ]
  },
  {
   "cell_type": "code",
   "execution_count": null,
   "metadata": {},
   "outputs": [],
   "source": []
  }
 ],
 "metadata": {
  "kernelspec": {
   "display_name": "Python 3",
   "language": "python",
   "name": "python3"
  },
  "language_info": {
   "codemirror_mode": {
    "name": "ipython",
    "version": 3
   },
   "file_extension": ".py",
   "mimetype": "text/x-python",
   "name": "python",
   "nbconvert_exporter": "python",
   "pygments_lexer": "ipython3",
   "version": "3.8.5"
  }
 },
 "nbformat": 4,
 "nbformat_minor": 4
}
