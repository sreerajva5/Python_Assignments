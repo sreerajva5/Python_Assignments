{
 "cells": [
  {
   "cell_type": "raw",
   "metadata": {},
   "source": [
    "1. Smith wishes to register in a ticket booking website for booking bus tickets. For\n",
    "authenticate the registration, he needs to provide user-id and password. There are\n",
    "some built-in rules for checking the validity of the passwords entered by the users.\n",
    "Following are the rules for checking the validity of a password:\n",
    "i. At least 1 alphabet\n",
    "ii. At least 1 digit between [0-9]\n",
    "iii. At least 1 character from [@&]\n",
    "iv. Minimum length of transaction password: 5\n",
    "v. Maximum length of transaction password: 10"
   ]
  },
  {
   "cell_type": "code",
   "execution_count": 11,
   "metadata": {},
   "outputs": [
    {
     "name": "stdout",
     "output_type": "stream",
     "text": [
      "Enter password:abcd1@\n",
      "Valid password\n"
     ]
    }
   ],
   "source": [
    "import re\n",
    "p = input('Enter password:')\n",
    "if not re.search(r'[A-Za-z]', p):\n",
    "    print('Invalid password')\n",
    "elif not re.search(r'[0-9]',p):\n",
    "    print('Invalid password')\n",
    "elif not (('@' in p) or ('&' in p)):\n",
    "    print('Invalid password')\n",
    "elif not 5 <= len(p) <= 10:\n",
    "    print('Invalid password')\n",
    "else:\n",
    "    print('Valid password')"
   ]
  },
  {
   "cell_type": "raw",
   "metadata": {},
   "source": [
    "2. Write a program for printing all elements of a list and their indexes in the list.\n",
    "Take the list as a user input."
   ]
  },
  {
   "cell_type": "code",
   "execution_count": 15,
   "metadata": {},
   "outputs": [
    {
     "name": "stdout",
     "output_type": "stream",
     "text": [
      "Enter the list:[10, 20, 30, 40]\n",
      "index item\n",
      "0 10\n",
      "1 20\n",
      "2 30\n",
      "3 40\n"
     ]
    }
   ],
   "source": [
    "list1 = eval(input('Enter the list:'))\n",
    "print('index', 'item')\n",
    "for i in range(len(list1)):\n",
    "    print(i,list1[i])"
   ]
  },
  {
   "cell_type": "raw",
   "metadata": {},
   "source": [
    "3. Write a program which accepts a string from the console and print the characters\n",
    "that have even indexes if the character is an alphabet. Concatenate the characters\n",
    "and print.\n",
    " Example: If the following string is given as input to the program:\n",
    " Ed12ur3ka1Python12\n",
    " Then, the output of the program should be:\n",
    " EuaPto"
   ]
  },
  {
   "cell_type": "code",
   "execution_count": 16,
   "metadata": {},
   "outputs": [
    {
     "name": "stdout",
     "output_type": "stream",
     "text": [
      "Enter string:Ed12ur3ka1Python12\n",
      "EuaPto\n"
     ]
    }
   ],
   "source": [
    "s = input('Enter string:')\n",
    "s_out = ''\n",
    "\n",
    "for i in range(len(s)):\n",
    "    if i%2 == 0 and s[i].isalpha():\n",
    "        s_out += s[i]\n",
    "print(s_out)"
   ]
  },
  {
   "cell_type": "raw",
   "metadata": {},
   "source": [
    "4. Please write a program which accepts a string from console and print it in reverse\n",
    "order.\n",
    " Example: If the following string is given as input to the program:\n",
    " welcome to edureka\n",
    " Then, the output of the program should be:\n",
    " akerude ot emoclew"
   ]
  },
  {
   "cell_type": "code",
   "execution_count": 17,
   "metadata": {},
   "outputs": [
    {
     "name": "stdout",
     "output_type": "stream",
     "text": [
      "Enter string:welcome to edureka\n",
      "akerude ot emoclew\n"
     ]
    }
   ],
   "source": [
    "s = input('Enter string:')\n",
    "print(s[::-1])"
   ]
  },
  {
   "cell_type": "raw",
   "metadata": {},
   "source": [
    "5. Please write a program which counts and prints the numbers of each character in\n",
    "a string input by the console.\n",
    " Example: If the following string is given as input to the program:\n",
    " abcdefgabc\n",
    " Then, the output of the program should be:\n",
    "a,2\n",
    "c,2\n",
    "b,2\n",
    "e,1\n",
    "d,1\n",
    "g,1\n",
    "f,1"
   ]
  },
  {
   "cell_type": "code",
   "execution_count": 20,
   "metadata": {},
   "outputs": [
    {
     "name": "stdout",
     "output_type": "stream",
     "text": [
      "Enter string:abcdefgabc\n",
      "a , 2\n",
      "b , 2\n",
      "c , 2\n",
      "d , 1\n",
      "e , 1\n",
      "f , 1\n",
      "g , 1\n"
     ]
    }
   ],
   "source": [
    "s = input('Enter string:')\n",
    "count = {}\n",
    "\n",
    "for i in s:\n",
    "    if i not in count:\n",
    "        count[i] = 1\n",
    "    else:\n",
    "        count[i] += 1\n",
    "for i,j in count.items():\n",
    "    print(i,',',j)"
   ]
  },
  {
   "cell_type": "raw",
   "metadata": {},
   "source": [
    "6. Given: Lists [1,5,10,12,34,13] and [4,7,8,10,5,13,24].\n",
    "With the above give lists, write a program to create a new list whose elements are\n",
    "intersection of the above given lists."
   ]
  },
  {
   "cell_type": "code",
   "execution_count": 23,
   "metadata": {},
   "outputs": [
    {
     "name": "stdout",
     "output_type": "stream",
     "text": [
      "[10, 13, 5]\n"
     ]
    }
   ],
   "source": [
    "list1 = [1,5,10,12,34,13]\n",
    "list2 = [4,7,8,10,5,13,24]\n",
    "\n",
    "inter_set = list(set(list1) & set(list2))\n",
    "print(inter_set)"
   ]
  },
  {
   "cell_type": "raw",
   "metadata": {},
   "source": [
    "7. By using list comprehension, please write a program to print the list after removing\n",
    "the values which are divisible by 6 in [12,24,35,24,88,120,155]."
   ]
  },
  {
   "cell_type": "code",
   "execution_count": null,
   "metadata": {},
   "outputs": [],
   "source": []
  },
  {
   "cell_type": "raw",
   "metadata": {},
   "source": [
    "8. By using list comprehension, please write a program to print the list after removing\n",
    "the 1st,3rd ,5th numbers in [12,24,35,70,88,120,155]."
   ]
  },
  {
   "cell_type": "code",
   "execution_count": 24,
   "metadata": {},
   "outputs": [
    {
     "name": "stdout",
     "output_type": "stream",
     "text": [
      "[35, 70, 88, 155]\n"
     ]
    }
   ],
   "source": [
    "list1 = [12,24,35,70,88,120,155]\n",
    "\n",
    "new_list = [i for i in list1 if i%6 != 0]\n",
    "print(new_list)"
   ]
  },
  {
   "cell_type": "raw",
   "metadata": {},
   "source": [
    "9. Please write a program to randomly generate a list with 6 numbers, which are\n",
    "divisible by 5 and 7, between 1 and 1500 inclusive."
   ]
  },
  {
   "cell_type": "code",
   "execution_count": 27,
   "metadata": {},
   "outputs": [
    {
     "name": "stdout",
     "output_type": "stream",
     "text": [
      "6 random numbers divisible by 7 & 5 within 1 to 1500\n",
      "[735, 1085, 490, 1295, 490, 1015]\n"
     ]
    }
   ],
   "source": [
    "import random\n",
    "\n",
    "list1 = []\n",
    "for i in range(1,1501):\n",
    "    if i%5 == 0 and i%7 == 0:\n",
    "        list1.append(i)\n",
    "\n",
    "print('6 random numbers divisible by 7 & 5 within 1 to 1500')\n",
    "print(random.choices(list1, k=6))"
   ]
  },
  {
   "cell_type": "raw",
   "metadata": {},
   "source": [
    "10.Write a program to compute 1/2+2/3+3/4+...+n/n+1 with a given n input by\n",
    "console (n>0).\n",
    "Example:\n",
    "If the following n is given as input to the program:\n",
    "5\n",
    "Then, the output of the program should be:\n",
    "3.55"
   ]
  },
  {
   "cell_type": "code",
   "execution_count": 29,
   "metadata": {},
   "outputs": [
    {
     "name": "stdout",
     "output_type": "stream",
     "text": [
      "Enter value of n. Must be grater than zero:5\n",
      "3.55\n"
     ]
    }
   ],
   "source": [
    "n = int(input('Enter value of n. Must be grater than zero:'))\n",
    "\n",
    "s = 0\n",
    "for i in range(1, n+1):\n",
    "    s += (i/(i+1))\n",
    "\n",
    "s = round(s,2)\n",
    "print(s)"
   ]
  },
  {
   "cell_type": "code",
   "execution_count": null,
   "metadata": {},
   "outputs": [],
   "source": []
  }
 ],
 "metadata": {
  "kernelspec": {
   "display_name": "Python 3",
   "language": "python",
   "name": "python3"
  },
  "language_info": {
   "codemirror_mode": {
    "name": "ipython",
    "version": 3
   },
   "file_extension": ".py",
   "mimetype": "text/x-python",
   "name": "python",
   "nbconvert_exporter": "python",
   "pygments_lexer": "ipython3",
   "version": "3.8.5"
  }
 },
 "nbformat": 4,
 "nbformat_minor": 4
}
