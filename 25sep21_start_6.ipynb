{
 "cells": [
  {
   "cell_type": "raw",
   "metadata": {},
   "source": [
    "Business challenge/requirement\n",
    "GoodsKart—largest e-commerce company of Indonesia, with revenue of $2B+ has acquired another e-commerce company FairDeal. FairDeal has its own IT system to maintain the records of customers, sales etc. For ease of maintenance and cost savings, GoodsKart is integrating customer databases of both the organizations hence customer data of FairDeal must be converted in GoodsKart customer data format.\n",
    "Key issues\n",
    "GoodsKart customer data has more fields than in FairDeal customer data. Hence FairDeal data needs to be split and stored in GoodsKart Customer Object-Oriented Data Structure.\n",
    "Considerations\n",
    "System should convert the data at run time\n",
    "\n",
    "Business benefits\n",
    "GoodsKart can eventually restructure IT systems of FairDeal and reduce its cost by 20-30%\n",
    "Approach to Solve\n",
    "You must use fundamentals of Python taught in module 3.\n",
    "1. Read FairDealCustomerData.csv\n",
    "2. Name field contains full name – use regular expression to separate title, first name, last name\n",
    "3. Store the data in Customer Class\n",
    "4. Create Custom Exception – CustomerNotAllowedException\n",
    "5. Pass a customer to function \"createOrder\" and throw CustomerNotAllowedException in case of blacklisted value is 1\n",
    "\n",
    "Enhancements for code\n",
    "You can try these enhancements in code\n",
    "1. Change function createOrder to take productname and product code as input\n",
    "2. Create Class Order\n",
    "Return object of type Order in case customer is eligible"
   ]
  },
  {
   "cell_type": "code",
   "execution_count": 7,
   "metadata": {},
   "outputs": [
    {
     "data": {
      "text/html": [
       "<div>\n",
       "<style scoped>\n",
       "    .dataframe tbody tr th:only-of-type {\n",
       "        vertical-align: middle;\n",
       "    }\n",
       "\n",
       "    .dataframe tbody tr th {\n",
       "        vertical-align: top;\n",
       "    }\n",
       "\n",
       "    .dataframe thead th {\n",
       "        text-align: right;\n",
       "    }\n",
       "</style>\n",
       "<table border=\"1\" class=\"dataframe\">\n",
       "  <thead>\n",
       "    <tr style=\"text-align: right;\">\n",
       "      <th></th>\n",
       "      <th>last_name</th>\n",
       "      <th>name</th>\n",
       "      <th>blacklisted</th>\n",
       "    </tr>\n",
       "  </thead>\n",
       "  <tbody>\n",
       "    <tr>\n",
       "      <th>0</th>\n",
       "      <td>Braund</td>\n",
       "      <td>Mr. Owen Harris</td>\n",
       "      <td>1</td>\n",
       "    </tr>\n",
       "    <tr>\n",
       "      <th>1</th>\n",
       "      <td>Heikkinen</td>\n",
       "      <td>Miss. Laina</td>\n",
       "      <td>0</td>\n",
       "    </tr>\n",
       "    <tr>\n",
       "      <th>2</th>\n",
       "      <td>Allen</td>\n",
       "      <td>Mr. William Henry</td>\n",
       "      <td>0</td>\n",
       "    </tr>\n",
       "    <tr>\n",
       "      <th>3</th>\n",
       "      <td>Moran</td>\n",
       "      <td>Mr. James</td>\n",
       "      <td>0</td>\n",
       "    </tr>\n",
       "    <tr>\n",
       "      <th>4</th>\n",
       "      <td>McCarthy</td>\n",
       "      <td>Mr. Timothy J</td>\n",
       "      <td>0</td>\n",
       "    </tr>\n",
       "  </tbody>\n",
       "</table>\n",
       "</div>"
      ],
      "text/plain": [
       "    last_name                 name  blacklisted\n",
       "0      Braund     Mr. Owen Harris             1\n",
       "1   Heikkinen         Miss. Laina             0\n",
       "2       Allen   Mr. William Henry             0\n",
       "3       Moran           Mr. James             0\n",
       "4    McCarthy       Mr. Timothy J             0"
      ]
     },
     "execution_count": 7,
     "metadata": {},
     "output_type": "execute_result"
    }
   ],
   "source": [
    "# 1. Read FairDealCustomerData.csv\n",
    "\n",
    "import pandas as pd\n",
    "\n",
    "df = pd.read_csv(r'C:\\D\\Python_25Sep21\\M4CS1_dataset\\FairDealCustomerData.csv', header=None)\n",
    "df.columns = ['last_name', 'name', 'blacklisted']\n",
    "df.head()"
   ]
  },
  {
   "cell_type": "code",
   "execution_count": 8,
   "metadata": {},
   "outputs": [],
   "source": [
    "#2. Name field contains full name – use regular expression to separate title, first name, last name\n",
    "\n",
    "import re\n",
    "\n",
    "df['title'] =  df['name'].apply(lambda x : re.split(r'\\.', x)[0])\n",
    "df['first_name'] =  df['name'].apply(lambda x : re.split(r'\\.', x)[1])"
   ]
  },
  {
   "cell_type": "code",
   "execution_count": 9,
   "metadata": {},
   "outputs": [
    {
     "data": {
      "text/html": [
       "<div>\n",
       "<style scoped>\n",
       "    .dataframe tbody tr th:only-of-type {\n",
       "        vertical-align: middle;\n",
       "    }\n",
       "\n",
       "    .dataframe tbody tr th {\n",
       "        vertical-align: top;\n",
       "    }\n",
       "\n",
       "    .dataframe thead th {\n",
       "        text-align: right;\n",
       "    }\n",
       "</style>\n",
       "<table border=\"1\" class=\"dataframe\">\n",
       "  <thead>\n",
       "    <tr style=\"text-align: right;\">\n",
       "      <th></th>\n",
       "      <th>last_name</th>\n",
       "      <th>name</th>\n",
       "      <th>blacklisted</th>\n",
       "      <th>title</th>\n",
       "      <th>first_name</th>\n",
       "    </tr>\n",
       "  </thead>\n",
       "  <tbody>\n",
       "    <tr>\n",
       "      <th>0</th>\n",
       "      <td>Braund</td>\n",
       "      <td>Mr. Owen Harris</td>\n",
       "      <td>1</td>\n",
       "      <td>Mr</td>\n",
       "      <td>Owen Harris</td>\n",
       "    </tr>\n",
       "    <tr>\n",
       "      <th>1</th>\n",
       "      <td>Heikkinen</td>\n",
       "      <td>Miss. Laina</td>\n",
       "      <td>0</td>\n",
       "      <td>Miss</td>\n",
       "      <td>Laina</td>\n",
       "    </tr>\n",
       "    <tr>\n",
       "      <th>2</th>\n",
       "      <td>Allen</td>\n",
       "      <td>Mr. William Henry</td>\n",
       "      <td>0</td>\n",
       "      <td>Mr</td>\n",
       "      <td>William Henry</td>\n",
       "    </tr>\n",
       "    <tr>\n",
       "      <th>3</th>\n",
       "      <td>Moran</td>\n",
       "      <td>Mr. James</td>\n",
       "      <td>0</td>\n",
       "      <td>Mr</td>\n",
       "      <td>James</td>\n",
       "    </tr>\n",
       "    <tr>\n",
       "      <th>4</th>\n",
       "      <td>McCarthy</td>\n",
       "      <td>Mr. Timothy J</td>\n",
       "      <td>0</td>\n",
       "      <td>Mr</td>\n",
       "      <td>Timothy J</td>\n",
       "    </tr>\n",
       "  </tbody>\n",
       "</table>\n",
       "</div>"
      ],
      "text/plain": [
       "    last_name                 name  blacklisted  title       first_name\n",
       "0      Braund     Mr. Owen Harris             1     Mr     Owen Harris \n",
       "1   Heikkinen         Miss. Laina             0   Miss           Laina \n",
       "2       Allen   Mr. William Henry             0     Mr   William Henry \n",
       "3       Moran           Mr. James             0     Mr           James \n",
       "4    McCarthy       Mr. Timothy J             0     Mr       Timothy J "
      ]
     },
     "execution_count": 9,
     "metadata": {},
     "output_type": "execute_result"
    }
   ],
   "source": [
    "df.head()"
   ]
  },
  {
   "cell_type": "code",
   "execution_count": 11,
   "metadata": {},
   "outputs": [],
   "source": [
    "df = df[['title', 'first_name', 'last_name', 'blacklisted']]"
   ]
  },
  {
   "cell_type": "code",
   "execution_count": 12,
   "metadata": {},
   "outputs": [
    {
     "data": {
      "text/html": [
       "<div>\n",
       "<style scoped>\n",
       "    .dataframe tbody tr th:only-of-type {\n",
       "        vertical-align: middle;\n",
       "    }\n",
       "\n",
       "    .dataframe tbody tr th {\n",
       "        vertical-align: top;\n",
       "    }\n",
       "\n",
       "    .dataframe thead th {\n",
       "        text-align: right;\n",
       "    }\n",
       "</style>\n",
       "<table border=\"1\" class=\"dataframe\">\n",
       "  <thead>\n",
       "    <tr style=\"text-align: right;\">\n",
       "      <th></th>\n",
       "      <th>title</th>\n",
       "      <th>first_name</th>\n",
       "      <th>last_name</th>\n",
       "      <th>blacklisted</th>\n",
       "    </tr>\n",
       "  </thead>\n",
       "  <tbody>\n",
       "    <tr>\n",
       "      <th>0</th>\n",
       "      <td>Mr</td>\n",
       "      <td>Owen Harris</td>\n",
       "      <td>Braund</td>\n",
       "      <td>1</td>\n",
       "    </tr>\n",
       "    <tr>\n",
       "      <th>1</th>\n",
       "      <td>Miss</td>\n",
       "      <td>Laina</td>\n",
       "      <td>Heikkinen</td>\n",
       "      <td>0</td>\n",
       "    </tr>\n",
       "    <tr>\n",
       "      <th>2</th>\n",
       "      <td>Mr</td>\n",
       "      <td>William Henry</td>\n",
       "      <td>Allen</td>\n",
       "      <td>0</td>\n",
       "    </tr>\n",
       "    <tr>\n",
       "      <th>3</th>\n",
       "      <td>Mr</td>\n",
       "      <td>James</td>\n",
       "      <td>Moran</td>\n",
       "      <td>0</td>\n",
       "    </tr>\n",
       "    <tr>\n",
       "      <th>4</th>\n",
       "      <td>Mr</td>\n",
       "      <td>Timothy J</td>\n",
       "      <td>McCarthy</td>\n",
       "      <td>0</td>\n",
       "    </tr>\n",
       "  </tbody>\n",
       "</table>\n",
       "</div>"
      ],
      "text/plain": [
       "   title       first_name   last_name  blacklisted\n",
       "0     Mr     Owen Harris       Braund            1\n",
       "1   Miss           Laina    Heikkinen            0\n",
       "2     Mr   William Henry        Allen            0\n",
       "3     Mr           James        Moran            0\n",
       "4     Mr       Timothy J     McCarthy            0"
      ]
     },
     "execution_count": 12,
     "metadata": {},
     "output_type": "execute_result"
    }
   ],
   "source": [
    "df.head()"
   ]
  },
  {
   "cell_type": "code",
   "execution_count": 13,
   "metadata": {},
   "outputs": [],
   "source": [
    "# 3. Store the data in Customer Class\n",
    "\n",
    "class Customer:\n",
    "    \n",
    "    def __init__(self, title, first_name, last_name, blacklisted):\n",
    "        \n",
    "        self.title = title\n",
    "        self.first_name = first_name\n",
    "        self.last_name = last_name\n",
    "        self.blacklisted = blacklisted"
   ]
  },
  {
   "cell_type": "code",
   "execution_count": 15,
   "metadata": {},
   "outputs": [],
   "source": [
    "# 4. Create Custom Exception – CustomerNotAllowedException\n",
    "\n",
    "\n",
    "class CustomerNotAllowedException(Exception):\n",
    "    \"\"\"Raised when the customer is blacklisted\"\"\"\n",
    "    pass"
   ]
  },
  {
   "cell_type": "code",
   "execution_count": 16,
   "metadata": {},
   "outputs": [],
   "source": [
    "# 5. Pass a customer to function \"createOrder\" and throw CustomerNotAllowedException in case of blacklisted value is 1\n",
    "\n",
    "class Customer:\n",
    "    \n",
    "    def __init__(self, title, first_name, last_name, blacklisted):\n",
    "        \n",
    "        self.title = title\n",
    "        self.first_name = first_name\n",
    "        self.last_name = last_name\n",
    "        self.blacklisted = blacklisted\n",
    "        \n",
    "        if self.blacklisted == 1:\n",
    "            raise CustomerNotAllowedException"
   ]
  },
  {
   "cell_type": "code",
   "execution_count": 18,
   "metadata": {},
   "outputs": [],
   "source": [
    "cust_list = df.to_numpy()"
   ]
  },
  {
   "cell_type": "code",
   "execution_count": 19,
   "metadata": {},
   "outputs": [
    {
     "data": {
      "text/plain": [
       "array([' Mr', ' Owen Harris ', ' Braund', 1], dtype=object)"
      ]
     },
     "execution_count": 19,
     "metadata": {},
     "output_type": "execute_result"
    }
   ],
   "source": [
    "cust_list[0]"
   ]
  },
  {
   "cell_type": "code",
   "execution_count": 22,
   "metadata": {},
   "outputs": [
    {
     "ename": "CustomerNotAllowedException",
     "evalue": "",
     "output_type": "error",
     "traceback": [
      "\u001b[1;31m---------------------------------------------------------------------------\u001b[0m",
      "\u001b[1;31mCustomerNotAllowedException\u001b[0m               Traceback (most recent call last)",
      "\u001b[1;32m<ipython-input-22-297e698df9f5>\u001b[0m in \u001b[0;36m<module>\u001b[1;34m\u001b[0m\n\u001b[1;32m----> 1\u001b[1;33m \u001b[0mcust1\u001b[0m \u001b[1;33m=\u001b[0m \u001b[0mCustomer\u001b[0m\u001b[1;33m(\u001b[0m\u001b[0mcust_list\u001b[0m\u001b[1;33m[\u001b[0m\u001b[1;36m0\u001b[0m\u001b[1;33m]\u001b[0m\u001b[1;33m[\u001b[0m\u001b[1;36m0\u001b[0m\u001b[1;33m]\u001b[0m\u001b[1;33m,\u001b[0m \u001b[0mcust_list\u001b[0m\u001b[1;33m[\u001b[0m\u001b[1;36m0\u001b[0m\u001b[1;33m]\u001b[0m\u001b[1;33m[\u001b[0m\u001b[1;36m1\u001b[0m\u001b[1;33m]\u001b[0m\u001b[1;33m,\u001b[0m \u001b[0mcust_list\u001b[0m\u001b[1;33m[\u001b[0m\u001b[1;36m0\u001b[0m\u001b[1;33m]\u001b[0m\u001b[1;33m[\u001b[0m\u001b[1;36m2\u001b[0m\u001b[1;33m]\u001b[0m\u001b[1;33m,\u001b[0m \u001b[0mcust_list\u001b[0m\u001b[1;33m[\u001b[0m\u001b[1;36m0\u001b[0m\u001b[1;33m]\u001b[0m\u001b[1;33m[\u001b[0m\u001b[1;36m3\u001b[0m\u001b[1;33m]\u001b[0m\u001b[1;33m)\u001b[0m\u001b[1;33m\u001b[0m\u001b[1;33m\u001b[0m\u001b[0m\n\u001b[0m",
      "\u001b[1;32m<ipython-input-16-c0ca3fb0e204>\u001b[0m in \u001b[0;36m__init__\u001b[1;34m(self, title, first_name, last_name, blacklisted)\u001b[0m\n\u001b[0;32m     11\u001b[0m \u001b[1;33m\u001b[0m\u001b[0m\n\u001b[0;32m     12\u001b[0m         \u001b[1;32mif\u001b[0m \u001b[0mself\u001b[0m\u001b[1;33m.\u001b[0m\u001b[0mblacklisted\u001b[0m \u001b[1;33m==\u001b[0m \u001b[1;36m1\u001b[0m\u001b[1;33m:\u001b[0m\u001b[1;33m\u001b[0m\u001b[1;33m\u001b[0m\u001b[0m\n\u001b[1;32m---> 13\u001b[1;33m             \u001b[1;32mraise\u001b[0m \u001b[0mCustomerNotAllowedException\u001b[0m\u001b[1;33m\u001b[0m\u001b[1;33m\u001b[0m\u001b[0m\n\u001b[0m",
      "\u001b[1;31mCustomerNotAllowedException\u001b[0m: "
     ]
    }
   ],
   "source": [
    "cust1 = Customer(cust_list[0][0], cust_list[0][1], cust_list[0][2], cust_list[0][3])"
   ]
  },
  {
   "cell_type": "code",
   "execution_count": 23,
   "metadata": {},
   "outputs": [],
   "source": [
    "cust2 = Customer(cust_list[1][0], cust_list[1][1], cust_list[1][2], cust_list[1][3])"
   ]
  },
  {
   "cell_type": "code",
   "execution_count": 35,
   "metadata": {},
   "outputs": [],
   "source": [
    "# Enhancements for code\n",
    "# You can try these enhancements in code\n",
    "# 1. Change function createOrder to take productname and product code as input\n",
    "# 2. Create Class Order\n",
    "# Return object of type Order in case customer is eligible\n",
    "\n",
    "\n",
    "class Customer:\n",
    "    \n",
    "    def __init__(self, title, first_name, last_name, blacklisted):\n",
    "        \n",
    "        self.title = title\n",
    "        self.first_name = first_name\n",
    "        self.last_name = last_name\n",
    "        self.blacklisted = blacklisted\n",
    "        \n",
    "        if self.blacklisted == 1:\n",
    "            raise CustomerNotAllowedException\n",
    "            \n",
    "    def createOrder(self, product_name, product_code):\n",
    "        print(f'Confrats. {product_name} added to your cart.')\n",
    "        \n",
    "\n",
    "class Order:\n",
    "    \n",
    "    def __init__(self, customer, product_name):\n",
    "        \n",
    "        self.customer = customer\n",
    "        self.product_name = product_name\n",
    "        \n",
    "        print(f'Order placed for {self.product_name} for customer {self.customer.first_name}.')"
   ]
  },
  {
   "cell_type": "code",
   "execution_count": 36,
   "metadata": {},
   "outputs": [],
   "source": [
    "cust2 = Customer(cust_list[1][0], cust_list[1][1], cust_list[1][2], cust_list[1][3])"
   ]
  },
  {
   "cell_type": "code",
   "execution_count": 37,
   "metadata": {},
   "outputs": [
    {
     "name": "stdout",
     "output_type": "stream",
     "text": [
      "Confrats. Python Book added to your cart.\n"
     ]
    }
   ],
   "source": [
    "cust2.createOrder('Python Book', 101)"
   ]
  },
  {
   "cell_type": "code",
   "execution_count": 38,
   "metadata": {},
   "outputs": [
    {
     "name": "stdout",
     "output_type": "stream",
     "text": [
      "Order placed for Python Book for customer  Laina .\n"
     ]
    }
   ],
   "source": [
    "ord1 = Order(cust2, 'Python Book')"
   ]
  },
  {
   "cell_type": "code",
   "execution_count": null,
   "metadata": {},
   "outputs": [],
   "source": []
  }
 ],
 "metadata": {
  "kernelspec": {
   "display_name": "Python 3",
   "language": "python",
   "name": "python3"
  },
  "language_info": {
   "codemirror_mode": {
    "name": "ipython",
    "version": 3
   },
   "file_extension": ".py",
   "mimetype": "text/x-python",
   "name": "python",
   "nbconvert_exporter": "python",
   "pygments_lexer": "ipython3",
   "version": "3.8.5"
  }
 },
 "nbformat": 4,
 "nbformat_minor": 4
}
