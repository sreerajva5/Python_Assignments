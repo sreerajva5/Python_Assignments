{
 "cells": [
  {
   "cell_type": "raw",
   "metadata": {},
   "source": [
    "Case Study I\n",
    "Domain –Banking Marketing\n",
    "Focus –Optimization\n",
    "\n",
    "Business challenge/requirement:\n",
    "Bank of Portugal runs a marketing campaign to offer loans to clients.  The loan is offered to only clients in selectiveprofessions. List of successful campaigns (with client data) is given in attached dataset.  You mustcome up with a program which readsthe file and builds a set of unique profession list. Based on the given input professionsof the client, system tells whether the client is eligible to be approached for the marketing campaign.\n",
    "\n",
    "Key issues:\n",
    "Tele Caller can only make x number of cold calls in a day. Hence to increase her effectiveness only eligible customers should be contacted.\n",
    "\n",
    "Considerations\n",
    "Current system does not differentiate clients based on age and profession\n",
    "Data volume\n",
    "447 records in bank-data.csv\n",
    "Additional information\n",
    "- NA\n",
    "Business benefits\n",
    "Company can achieve between 15% to 20% higher conversion by targeting right clients\n",
    "Approach to Solve\n",
    "\n",
    "You must use fundamentals of Python taught in module 3\n",
    "\n",
    "1. Read file bank-data.csv\n",
    "2. Build a set of unique jobs\n",
    "3. Read the input from command line –profession\n",
    "4. Check if profession is in list\n",
    "5. Print whether client is eligible\n",
    "Enhancements for code\n",
    "You can try these enhancements in code\n",
    "1. Compute max and min age for loan eligibility based on data in csv file\n",
    "2. Store max and min age in dictionary\n",
    "3. Make the profession check case insensitive\n",
    "4. Currently program ends after the check. Take the input in while loop and end only if user types \"END\" for profession"
   ]
  },
  {
   "cell_type": "code",
   "execution_count": 2,
   "metadata": {},
   "outputs": [
    {
     "data": {
      "text/html": [
       "<div>\n",
       "<style scoped>\n",
       "    .dataframe tbody tr th:only-of-type {\n",
       "        vertical-align: middle;\n",
       "    }\n",
       "\n",
       "    .dataframe tbody tr th {\n",
       "        vertical-align: top;\n",
       "    }\n",
       "\n",
       "    .dataframe thead th {\n",
       "        text-align: right;\n",
       "    }\n",
       "</style>\n",
       "<table border=\"1\" class=\"dataframe\">\n",
       "  <thead>\n",
       "    <tr style=\"text-align: right;\">\n",
       "      <th></th>\n",
       "      <th>age</th>\n",
       "      <th>job</th>\n",
       "      <th>marital</th>\n",
       "      <th>y</th>\n",
       "    </tr>\n",
       "  </thead>\n",
       "  <tbody>\n",
       "    <tr>\n",
       "      <th>0</th>\n",
       "      <td>20</td>\n",
       "      <td>student</td>\n",
       "      <td>single</td>\n",
       "      <td>yes</td>\n",
       "    </tr>\n",
       "    <tr>\n",
       "      <th>1</th>\n",
       "      <td>32</td>\n",
       "      <td>management</td>\n",
       "      <td>single</td>\n",
       "      <td>yes</td>\n",
       "    </tr>\n",
       "    <tr>\n",
       "      <th>2</th>\n",
       "      <td>49</td>\n",
       "      <td>technician</td>\n",
       "      <td>married</td>\n",
       "      <td>yes</td>\n",
       "    </tr>\n",
       "    <tr>\n",
       "      <th>3</th>\n",
       "      <td>32</td>\n",
       "      <td>blue-collar</td>\n",
       "      <td>married</td>\n",
       "      <td>yes</td>\n",
       "    </tr>\n",
       "    <tr>\n",
       "      <th>4</th>\n",
       "      <td>33</td>\n",
       "      <td>management</td>\n",
       "      <td>married</td>\n",
       "      <td>yes</td>\n",
       "    </tr>\n",
       "  </tbody>\n",
       "</table>\n",
       "</div>"
      ],
      "text/plain": [
       "   age          job  marital    y\n",
       "0   20      student   single  yes\n",
       "1   32   management   single  yes\n",
       "2   49   technician  married  yes\n",
       "3   32  blue-collar  married  yes\n",
       "4   33   management  married  yes"
      ]
     },
     "execution_count": 2,
     "metadata": {},
     "output_type": "execute_result"
    }
   ],
   "source": [
    "#1. Read file bank-data.csv\n",
    "\n",
    "\n",
    "import pandas as pd\n",
    "\n",
    "df = pd.read_csv(r'C:\\D\\Python_25Sep21\\M4CS1_dataset\\bank-data.csv')\n",
    "\n",
    "df.head()"
   ]
  },
  {
   "cell_type": "code",
   "execution_count": 5,
   "metadata": {},
   "outputs": [
    {
     "name": "stdout",
     "output_type": "stream",
     "text": [
      "{'technician', 'entrepreneur', 'admin.', 'blue-collar', 'services', 'housemaid', 'self-employed', 'management', 'student'}\n"
     ]
    }
   ],
   "source": [
    "# 2. Build a set of unique jobs\n",
    "\n",
    "unq_jobs = set(df['job'])\n",
    "\n",
    "print(unq_jobs)"
   ]
  },
  {
   "cell_type": "code",
   "execution_count": 6,
   "metadata": {},
   "outputs": [
    {
     "name": "stdout",
     "output_type": "stream",
     "text": [
      "enter the customer profession:management\n"
     ]
    }
   ],
   "source": [
    "# 3.Read the input from command line –profession\n",
    "\n",
    "profession = input('enter the customer profession:').lower()"
   ]
  },
  {
   "cell_type": "code",
   "execution_count": 7,
   "metadata": {},
   "outputs": [],
   "source": [
    "# 4.Check if professionis in list\n",
    "\n",
    "if profession in unq_jobs:\n",
    "    eligibility = 'Yes'\n",
    "else:\n",
    "    eligibility = 'No'"
   ]
  },
  {
   "cell_type": "code",
   "execution_count": 8,
   "metadata": {},
   "outputs": [
    {
     "name": "stdout",
     "output_type": "stream",
     "text": [
      "customer is eligible\n"
     ]
    }
   ],
   "source": [
    "# 5.Print whether client is eligible\n",
    "\n",
    "if eligibility == 'Yes':\n",
    "    print('customer is eligible')\n",
    "else:\n",
    "    print('customer is not eligible')"
   ]
  },
  {
   "cell_type": "code",
   "execution_count": 10,
   "metadata": {},
   "outputs": [
    {
     "name": "stdout",
     "output_type": "stream",
     "text": [
      "Minimum age eligibility :  19\n",
      "Maximum age eligibility :  80\n"
     ]
    }
   ],
   "source": [
    "#Enhancements for code\n",
    "#You can try these enhancements in code\n",
    "# 1.Compute max and min age for loan eligibility based on data in csv file\n",
    "\n",
    "min_age = min(df['age'])\n",
    "max_age = max(df['age'])\n",
    "\n",
    "print('Minimum age eligibility : ', min_age)\n",
    "print('Maximum age eligibility : ', max_age)"
   ]
  },
  {
   "cell_type": "code",
   "execution_count": 11,
   "metadata": {},
   "outputs": [
    {
     "name": "stdout",
     "output_type": "stream",
     "text": [
      "{'minimum': 19, 'maximum': 80}\n"
     ]
    }
   ],
   "source": [
    "# 2.Store max and min age in dictionary\n",
    "\n",
    "age_dict = {'minimum':min_age, 'maximum':max_age}\n",
    "\n",
    "print(age_dict)"
   ]
  },
  {
   "cell_type": "code",
   "execution_count": 17,
   "metadata": {},
   "outputs": [
    {
     "name": "stdout",
     "output_type": "stream",
     "text": [
      "enter the customer profession:MANAGEMENT\n",
      "eligible\n"
     ]
    }
   ],
   "source": [
    "# 3.Make the profession check case insensitive \n",
    "\n",
    "profession = input('enter the customer profession:').lower()\n",
    "\n",
    "if profession in unq_jobs:\n",
    "    print('eligible')\n",
    "else:\n",
    "    print('not eligible')"
   ]
  },
  {
   "cell_type": "code",
   "execution_count": 18,
   "metadata": {},
   "outputs": [
    {
     "name": "stdout",
     "output_type": "stream",
     "text": [
      "enter the customer profession:MANAGEMENT\n",
      "eligible\n",
      "enter any value to check for another customer. enter \"END\" if you want to stop.y\n",
      "enter the customer profession:manager\n",
      "not eligible\n",
      "enter any value to check for another customer. enter \"END\" if you want to stop.END\n"
     ]
    }
   ],
   "source": [
    "# 4.Currently program ends after the check. Take the input in whileloop and end only if user types \"END\" for profession\n",
    "\n",
    "while True:\n",
    "    profession = input('enter the customer profession:').lower()\n",
    "\n",
    "    if profession in unq_jobs:\n",
    "        print('eligible')\n",
    "    else:\n",
    "        print('not eligible')\n",
    "    \n",
    "    choice = input('enter any value to check for another customer. enter \"END\" if you want to stop.')\n",
    "    if choice == 'END':\n",
    "        break\n",
    "    else:\n",
    "        continue"
   ]
  },
  {
   "cell_type": "code",
   "execution_count": null,
   "metadata": {},
   "outputs": [],
   "source": []
  }
 ],
 "metadata": {
  "kernelspec": {
   "display_name": "Python 3",
   "language": "python",
   "name": "python3"
  },
  "language_info": {
   "codemirror_mode": {
    "name": "ipython",
    "version": 3
   },
   "file_extension": ".py",
   "mimetype": "text/x-python",
   "name": "python",
   "nbconvert_exporter": "python",
   "pygments_lexer": "ipython3",
   "version": "3.8.5"
  }
 },
 "nbformat": 4,
 "nbformat_minor": 4
}
