{
 "cells": [
  {
   "cell_type": "raw",
   "metadata": {},
   "source": [
    "Assignment II\n",
    "1. You are given a dataset, which is present in the LMS, containing the number of hurricanes occurring in the United States along the coast of the Atlantic. Load the data from the dataset into your program and plot a Bar Graph of the data, taking the Year as the x-axis and the number of hurricanes occurring as the Y-axis.\n",
    "2. The dataset given, records data of city temperatures over the years 2014 and 2015. Plot the histogram of the temperatures over this period for the cities of San Francisco and Moscow.\n",
    "3. Plot a pie-chart of the number of models released by every manufacturer, recorded in the data provide. Also mention the name of the manufacture with the largest releases.\n",
    "4. Create csv file from the data below and read in pandas data frame\n",
    "Phase 1 -Reading Data\n",
    "Phase 2 –Describe the data\n",
    "Describe the data on the unit price\n",
    "Phase 3 –filter the data\n",
    "Create new dataframe having columns 'name','net_price','date' and group all the records according to name\n",
    "Phase 4 –Plotting graph\n",
    "Plot the graph after calculating total sales by each customer. Customer name should be on x axis and total sales in y axis.\n",
    "\n",
    "\n",
    "5. Let the x axis data points and y axis data points are\n",
    "X = [1,2,3,4] y = [20, 21, 20.5, 20.8]\n",
    "5.1: Draw a Simple plot\n",
    "5.2: Configure the line and markers in simple plot\n",
    "5.3: configure the axes\n",
    "5.4: Give title of Graph & labels of x axis and y axis\n",
    "5.5: Give error bar if y_error = [0.12, 0.13, 0.2, 0.1]\n",
    "5.6: define width, height as figsize=(4,5) DPI and adjust plot dpi=100\n",
    "5.7: Give a font size of 14\n",
    "5.8: Draw a scatter graph of any 50 random values of x and y axis\n",
    "5.9: Create a dataframe from following data\n",
    "'first_name': ['Jason', 'Molly', 'Tina', 'Jake', 'Amy'],\n",
    "'last_name': ['Miller', 'Jacobson', 'Ali', 'Milner', 'Cooze'],\n",
    "    'female': [0, 1, 1, 0, 1],\n",
    "'age': [42, 52, 36, 24, 73],\n",
    "'preTestScore': [4, 24, 31, 2, 3],\n",
    "'postTestScore': [25, 94, 57, 62, 70]\n",
    "Draw a Scatterplot of preTestScore and postTestScore, with the size of each point determined by age\n",
    "5.10: Draw a Scatterplot from the data in question 9 of preTestScore and postTestScore with the size = 300 and the color determined by sex"
   ]
  },
  {
   "cell_type": "code",
   "execution_count": 1,
   "metadata": {},
   "outputs": [],
   "source": [
    "# 1. You are given a dataset, which is present in the LMS, containing the number of hurricanes occurring in the United States along the coast of the Atlantic. Load the data from the dataset into your program and plot a Bar Graph of the data, taking the Year as the x-axis and the number of hurricanes occurring as the Y-axis.\n",
    "\n",
    "\n",
    "\n",
    "import pandas as pd\n",
    "\n",
    "df = pd.read_csv(r'C:\\D\\Python_25Sep21\\M6_dataset\\983_m6_datasets_v1.0\\Hurricanes.csv')"
   ]
  },
  {
   "cell_type": "code",
   "execution_count": 2,
   "metadata": {},
   "outputs": [
    {
     "data": {
      "text/html": [
       "<div>\n",
       "<style scoped>\n",
       "    .dataframe tbody tr th:only-of-type {\n",
       "        vertical-align: middle;\n",
       "    }\n",
       "\n",
       "    .dataframe tbody tr th {\n",
       "        vertical-align: top;\n",
       "    }\n",
       "\n",
       "    .dataframe thead th {\n",
       "        text-align: right;\n",
       "    }\n",
       "</style>\n",
       "<table border=\"1\" class=\"dataframe\">\n",
       "  <thead>\n",
       "    <tr style=\"text-align: right;\">\n",
       "      <th></th>\n",
       "      <th>Year</th>\n",
       "      <th>Hurricanes</th>\n",
       "    </tr>\n",
       "  </thead>\n",
       "  <tbody>\n",
       "    <tr>\n",
       "      <th>0</th>\n",
       "      <td>1914</td>\n",
       "      <td>0</td>\n",
       "    </tr>\n",
       "    <tr>\n",
       "      <th>1</th>\n",
       "      <td>1915</td>\n",
       "      <td>5</td>\n",
       "    </tr>\n",
       "    <tr>\n",
       "      <th>2</th>\n",
       "      <td>1916</td>\n",
       "      <td>10</td>\n",
       "    </tr>\n",
       "    <tr>\n",
       "      <th>3</th>\n",
       "      <td>1917</td>\n",
       "      <td>2</td>\n",
       "    </tr>\n",
       "    <tr>\n",
       "      <th>4</th>\n",
       "      <td>1918</td>\n",
       "      <td>4</td>\n",
       "    </tr>\n",
       "  </tbody>\n",
       "</table>\n",
       "</div>"
      ],
      "text/plain": [
       "   Year  Hurricanes\n",
       "0  1914           0\n",
       "1  1915           5\n",
       "2  1916          10\n",
       "3  1917           2\n",
       "4  1918           4"
      ]
     },
     "execution_count": 2,
     "metadata": {},
     "output_type": "execute_result"
    }
   ],
   "source": [
    "df.head()"
   ]
  },
  {
   "cell_type": "code",
   "execution_count": 3,
   "metadata": {},
   "outputs": [
    {
     "data": {
      "text/plain": [
       "<AxesSubplot:xlabel='Year', ylabel='Hurricanes'>"
      ]
     },
     "execution_count": 3,
     "metadata": {},
     "output_type": "execute_result"
    },
    {
     "data": {
      "image/png": "[encoded data removed]",
      "text/plain": [
       "<Figure size 432x288 with 1 Axes>"
      ]
     },
     "metadata": {
      "needs_background": "light"
     },
     "output_type": "display_data"
    }
   ],
   "source": [
    "import seaborn as sns\n",
    "sns.barplot(data=df, x='Year', y='Hurricanes')"
   ]
  },
  {
   "cell_type": "code",
   "execution_count": 13,
   "metadata": {},
   "outputs": [
    {
     "data": {
      "text/plain": [
       "<BarContainer object of 101 artists>"
      ]
     },
     "execution_count": 13,
     "metadata": {},
     "output_type": "execute_result"
    },
    {
     "data": {
      "image/png": "[encoded data removed]",
      "text/plain": [
       "<Figure size 432x288 with 1 Axes>"
      ]
     },
     "metadata": {
      "needs_background": "light"
     },
     "output_type": "display_data"
    }
   ],
   "source": [
    "import matplotlib.pyplot as plt\n",
    "plt.bar(df['Year'], df['Hurricanes'])"
   ]
  },
  {
   "cell_type": "code",
   "execution_count": 16,
   "metadata": {},
   "outputs": [],
   "source": [
    "# 2. The dataset given, records data of city temperatures over the years 2014 and 2015. Plot the histogram of the temperatures over this period for the cities of San Francisco and Moscow.\n",
    "\n",
    "\n",
    "df2 = pd.read_csv(r'C:\\D\\Python_25Sep21\\M6_dataset\\983_m6_datasets_v1.0\\CityTemps.csv')"
   ]
  },
  {
   "cell_type": "code",
   "execution_count": 17,
   "metadata": {},
   "outputs": [
    {
     "data": {
      "text/html": [
       "<div>\n",
       "<style scoped>\n",
       "    .dataframe tbody tr th:only-of-type {\n",
       "        vertical-align: middle;\n",
       "    }\n",
       "\n",
       "    .dataframe tbody tr th {\n",
       "        vertical-align: top;\n",
       "    }\n",
       "\n",
       "    .dataframe thead th {\n",
       "        text-align: right;\n",
       "    }\n",
       "</style>\n",
       "<table border=\"1\" class=\"dataframe\">\n",
       "  <thead>\n",
       "    <tr style=\"text-align: right;\">\n",
       "      <th></th>\n",
       "      <th>Year</th>\n",
       "      <th>Month</th>\n",
       "      <th>Moscow</th>\n",
       "      <th>Melbourne</th>\n",
       "      <th>San Francisco</th>\n",
       "    </tr>\n",
       "  </thead>\n",
       "  <tbody>\n",
       "    <tr>\n",
       "      <th>0</th>\n",
       "      <td>2014</td>\n",
       "      <td>1</td>\n",
       "      <td>-8.6</td>\n",
       "      <td>22.0</td>\n",
       "      <td>12.8</td>\n",
       "    </tr>\n",
       "    <tr>\n",
       "      <th>1</th>\n",
       "      <td>2014</td>\n",
       "      <td>2</td>\n",
       "      <td>-1.9</td>\n",
       "      <td>21.5</td>\n",
       "      <td>12.7</td>\n",
       "    </tr>\n",
       "    <tr>\n",
       "      <th>2</th>\n",
       "      <td>2014</td>\n",
       "      <td>3</td>\n",
       "      <td>2.8</td>\n",
       "      <td>19.5</td>\n",
       "      <td>15.0</td>\n",
       "    </tr>\n",
       "    <tr>\n",
       "      <th>3</th>\n",
       "      <td>2014</td>\n",
       "      <td>4</td>\n",
       "      <td>7.0</td>\n",
       "      <td>15.8</td>\n",
       "      <td>15.7</td>\n",
       "    </tr>\n",
       "    <tr>\n",
       "      <th>4</th>\n",
       "      <td>2014</td>\n",
       "      <td>5</td>\n",
       "      <td>16.0</td>\n",
       "      <td>13.9</td>\n",
       "      <td>17.5</td>\n",
       "    </tr>\n",
       "  </tbody>\n",
       "</table>\n",
       "</div>"
      ],
      "text/plain": [
       "   Year  Month  Moscow  Melbourne  San Francisco\n",
       "0  2014      1    -8.6       22.0           12.8\n",
       "1  2014      2    -1.9       21.5           12.7\n",
       "2  2014      3     2.8       19.5           15.0\n",
       "3  2014      4     7.0       15.8           15.7\n",
       "4  2014      5    16.0       13.9           17.5"
      ]
     },
     "execution_count": 17,
     "metadata": {},
     "output_type": "execute_result"
    }
   ],
   "source": [
    "df2.head()"
   ]
  },
  {
   "cell_type": "code",
   "execution_count": 20,
   "metadata": {},
   "outputs": [
    {
     "data": {
      "text/plain": [
       "<AxesSubplot:xlabel='Moscow', ylabel='Count'>"
      ]
     },
     "execution_count": 20,
     "metadata": {},
     "output_type": "execute_result"
    },
    {
     "data": {
      "image/png": "[encoded data removed]",
      "text/plain": [
       "<Figure size 432x288 with 1 Axes>"
      ]
     },
     "metadata": {
      "needs_background": "light"
     },
     "output_type": "display_data"
    }
   ],
   "source": [
    "# histogram - Moscow\n",
    "\n",
    "sns.histplot(df2['Moscow'])"
   ]
  },
  {
   "cell_type": "code",
   "execution_count": 21,
   "metadata": {},
   "outputs": [
    {
     "data": {
      "text/plain": [
       "<AxesSubplot:xlabel='San Francisco', ylabel='Count'>"
      ]
     },
     "execution_count": 21,
     "metadata": {},
     "output_type": "execute_result"
    },
    {
     "data": {
      "image/png": "[encoded data removed]",
      "text/plain": [
       "<Figure size 432x288 with 1 Axes>"
      ]
     },
     "metadata": {
      "needs_background": "light"
     },
     "output_type": "display_data"
    }
   ],
   "source": [
    "# histogram - San Francisco\n",
    "\n",
    "sns.histplot(df2['San Francisco'])"
   ]
  },
  {
   "cell_type": "code",
   "execution_count": 22,
   "metadata": {},
   "outputs": [],
   "source": [
    "# 3. Plot a pie-chart of the number of models released by every manufacturer, recorded in the data provide. Also mention the name of the manufacture with the largest releases.\n",
    "\n",
    "df3 = pd.read_csv(r'C:\\D\\Python_25Sep21\\M6_dataset\\983_m6_datasets_v1.0\\Cars2015.csv')"
   ]
  },
  {
   "cell_type": "code",
   "execution_count": 23,
   "metadata": {},
   "outputs": [
    {
     "data": {
      "text/html": [
       "<div>\n",
       "<style scoped>\n",
       "    .dataframe tbody tr th:only-of-type {\n",
       "        vertical-align: middle;\n",
       "    }\n",
       "\n",
       "    .dataframe tbody tr th {\n",
       "        vertical-align: top;\n",
       "    }\n",
       "\n",
       "    .dataframe thead th {\n",
       "        text-align: right;\n",
       "    }\n",
       "</style>\n",
       "<table border=\"1\" class=\"dataframe\">\n",
       "  <thead>\n",
       "    <tr style=\"text-align: right;\">\n",
       "      <th></th>\n",
       "      <th>Make</th>\n",
       "      <th>Model</th>\n",
       "      <th>Type</th>\n",
       "      <th>LowPrice</th>\n",
       "      <th>HighPrice</th>\n",
       "      <th>Drive</th>\n",
       "      <th>CityMPG</th>\n",
       "      <th>HwyMPG</th>\n",
       "      <th>FuelCap</th>\n",
       "      <th>Length</th>\n",
       "      <th>Width</th>\n",
       "      <th>Wheelbase</th>\n",
       "      <th>Height</th>\n",
       "      <th>UTurn</th>\n",
       "      <th>Weight</th>\n",
       "      <th>Acc030</th>\n",
       "      <th>Acc060</th>\n",
       "      <th>QtrMile</th>\n",
       "      <th>PageNum</th>\n",
       "      <th>Size</th>\n",
       "    </tr>\n",
       "  </thead>\n",
       "  <tbody>\n",
       "    <tr>\n",
       "      <th>0</th>\n",
       "      <td>Chevrolet</td>\n",
       "      <td>Spark</td>\n",
       "      <td>Hatchback</td>\n",
       "      <td>12.270</td>\n",
       "      <td>25.560</td>\n",
       "      <td>FWD</td>\n",
       "      <td>30</td>\n",
       "      <td>39</td>\n",
       "      <td>9.0</td>\n",
       "      <td>145</td>\n",
       "      <td>63</td>\n",
       "      <td>94</td>\n",
       "      <td>61</td>\n",
       "      <td>34</td>\n",
       "      <td>2345</td>\n",
       "      <td>4.4</td>\n",
       "      <td>12.8</td>\n",
       "      <td>19.4</td>\n",
       "      <td>123</td>\n",
       "      <td>Small</td>\n",
       "    </tr>\n",
       "    <tr>\n",
       "      <th>1</th>\n",
       "      <td>Hyundai</td>\n",
       "      <td>Accent</td>\n",
       "      <td>Hatchback</td>\n",
       "      <td>14.745</td>\n",
       "      <td>17.495</td>\n",
       "      <td>FWD</td>\n",
       "      <td>28</td>\n",
       "      <td>37</td>\n",
       "      <td>11.4</td>\n",
       "      <td>172</td>\n",
       "      <td>67</td>\n",
       "      <td>101</td>\n",
       "      <td>57</td>\n",
       "      <td>37</td>\n",
       "      <td>2550</td>\n",
       "      <td>3.7</td>\n",
       "      <td>10.3</td>\n",
       "      <td>17.8</td>\n",
       "      <td>148</td>\n",
       "      <td>Small</td>\n",
       "    </tr>\n",
       "    <tr>\n",
       "      <th>2</th>\n",
       "      <td>Kia</td>\n",
       "      <td>Rio</td>\n",
       "      <td>Sedan</td>\n",
       "      <td>13.990</td>\n",
       "      <td>18.290</td>\n",
       "      <td>FWD</td>\n",
       "      <td>28</td>\n",
       "      <td>36</td>\n",
       "      <td>11.3</td>\n",
       "      <td>172</td>\n",
       "      <td>68</td>\n",
       "      <td>101</td>\n",
       "      <td>57</td>\n",
       "      <td>37</td>\n",
       "      <td>2575</td>\n",
       "      <td>3.5</td>\n",
       "      <td>9.5</td>\n",
       "      <td>17.3</td>\n",
       "      <td>163</td>\n",
       "      <td>Small</td>\n",
       "    </tr>\n",
       "    <tr>\n",
       "      <th>3</th>\n",
       "      <td>Mitsubishi</td>\n",
       "      <td>Mirage</td>\n",
       "      <td>Hatchback</td>\n",
       "      <td>12.995</td>\n",
       "      <td>15.395</td>\n",
       "      <td>FWD</td>\n",
       "      <td>37</td>\n",
       "      <td>44</td>\n",
       "      <td>9.2</td>\n",
       "      <td>149</td>\n",
       "      <td>66</td>\n",
       "      <td>97</td>\n",
       "      <td>59</td>\n",
       "      <td>32</td>\n",
       "      <td>2085</td>\n",
       "      <td>4.4</td>\n",
       "      <td>12.1</td>\n",
       "      <td>19.0</td>\n",
       "      <td>188</td>\n",
       "      <td>Small</td>\n",
       "    </tr>\n",
       "    <tr>\n",
       "      <th>4</th>\n",
       "      <td>Nissan</td>\n",
       "      <td>Versa Note</td>\n",
       "      <td>Hatchback</td>\n",
       "      <td>14.180</td>\n",
       "      <td>17.960</td>\n",
       "      <td>FWD</td>\n",
       "      <td>31</td>\n",
       "      <td>40</td>\n",
       "      <td>10.9</td>\n",
       "      <td>164</td>\n",
       "      <td>67</td>\n",
       "      <td>102</td>\n",
       "      <td>61</td>\n",
       "      <td>37</td>\n",
       "      <td>2470</td>\n",
       "      <td>4.0</td>\n",
       "      <td>10.9</td>\n",
       "      <td>18.2</td>\n",
       "      <td>196</td>\n",
       "      <td>Small</td>\n",
       "    </tr>\n",
       "  </tbody>\n",
       "</table>\n",
       "</div>"
      ],
      "text/plain": [
       "         Make       Model       Type  LowPrice  HighPrice Drive  CityMPG  \\\n",
       "0   Chevrolet       Spark  Hatchback    12.270     25.560   FWD       30   \n",
       "1     Hyundai      Accent  Hatchback    14.745     17.495   FWD       28   \n",
       "2         Kia         Rio      Sedan    13.990     18.290   FWD       28   \n",
       "3  Mitsubishi      Mirage  Hatchback    12.995     15.395   FWD       37   \n",
       "4      Nissan  Versa Note  Hatchback    14.180     17.960   FWD       31   \n",
       "\n",
       "   HwyMPG  FuelCap  Length  Width  Wheelbase  Height  UTurn  Weight  Acc030  \\\n",
       "0      39      9.0     145     63         94      61     34    2345     4.4   \n",
       "1      37     11.4     172     67        101      57     37    2550     3.7   \n",
       "2      36     11.3     172     68        101      57     37    2575     3.5   \n",
       "3      44      9.2     149     66         97      59     32    2085     4.4   \n",
       "4      40     10.9     164     67        102      61     37    2470     4.0   \n",
       "\n",
       "   Acc060  QtrMile  PageNum   Size  \n",
       "0    12.8     19.4      123  Small  \n",
       "1    10.3     17.8      148  Small  \n",
       "2     9.5     17.3      163  Small  \n",
       "3    12.1     19.0      188  Small  \n",
       "4    10.9     18.2      196  Small  "
      ]
     },
     "execution_count": 23,
     "metadata": {},
     "output_type": "execute_result"
    }
   ],
   "source": [
    "df3.head()"
   ]
  },
  {
   "cell_type": "code",
   "execution_count": 33,
   "metadata": {},
   "outputs": [
    {
     "data": {
      "text/html": [
       "<div>\n",
       "<style scoped>\n",
       "    .dataframe tbody tr th:only-of-type {\n",
       "        vertical-align: middle;\n",
       "    }\n",
       "\n",
       "    .dataframe tbody tr th {\n",
       "        vertical-align: top;\n",
       "    }\n",
       "\n",
       "    .dataframe thead th {\n",
       "        text-align: right;\n",
       "    }\n",
       "</style>\n",
       "<table border=\"1\" class=\"dataframe\">\n",
       "  <thead>\n",
       "    <tr style=\"text-align: right;\">\n",
       "      <th></th>\n",
       "      <th>Make</th>\n",
       "      <th>count</th>\n",
       "    </tr>\n",
       "  </thead>\n",
       "  <tbody>\n",
       "    <tr>\n",
       "      <th>0</th>\n",
       "      <td>Chevrolet</td>\n",
       "      <td>8</td>\n",
       "    </tr>\n",
       "    <tr>\n",
       "      <th>1</th>\n",
       "      <td>Ford</td>\n",
       "      <td>7</td>\n",
       "    </tr>\n",
       "    <tr>\n",
       "      <th>2</th>\n",
       "      <td>Toyoto</td>\n",
       "      <td>7</td>\n",
       "    </tr>\n",
       "    <tr>\n",
       "      <th>3</th>\n",
       "      <td>Hyundai</td>\n",
       "      <td>7</td>\n",
       "    </tr>\n",
       "    <tr>\n",
       "      <th>4</th>\n",
       "      <td>Nissan</td>\n",
       "      <td>6</td>\n",
       "    </tr>\n",
       "    <tr>\n",
       "      <th>5</th>\n",
       "      <td>Audi</td>\n",
       "      <td>6</td>\n",
       "    </tr>\n",
       "    <tr>\n",
       "      <th>6</th>\n",
       "      <td>BMW</td>\n",
       "      <td>5</td>\n",
       "    </tr>\n",
       "    <tr>\n",
       "      <th>7</th>\n",
       "      <td>Kia</td>\n",
       "      <td>5</td>\n",
       "    </tr>\n",
       "    <tr>\n",
       "      <th>8</th>\n",
       "      <td>Cadillac</td>\n",
       "      <td>4</td>\n",
       "    </tr>\n",
       "    <tr>\n",
       "      <th>9</th>\n",
       "      <td>Honda</td>\n",
       "      <td>4</td>\n",
       "    </tr>\n",
       "    <tr>\n",
       "      <th>10</th>\n",
       "      <td>Dodge</td>\n",
       "      <td>3</td>\n",
       "    </tr>\n",
       "    <tr>\n",
       "      <th>11</th>\n",
       "      <td>Mazda</td>\n",
       "      <td>3</td>\n",
       "    </tr>\n",
       "    <tr>\n",
       "      <th>12</th>\n",
       "      <td>Buick</td>\n",
       "      <td>3</td>\n",
       "    </tr>\n",
       "    <tr>\n",
       "      <th>13</th>\n",
       "      <td>Chrysler</td>\n",
       "      <td>3</td>\n",
       "    </tr>\n",
       "    <tr>\n",
       "      <th>14</th>\n",
       "      <td>Volkswagon</td>\n",
       "      <td>3</td>\n",
       "    </tr>\n",
       "    <tr>\n",
       "      <th>15</th>\n",
       "      <td>Subaru</td>\n",
       "      <td>3</td>\n",
       "    </tr>\n",
       "    <tr>\n",
       "      <th>16</th>\n",
       "      <td>Jeep</td>\n",
       "      <td>2</td>\n",
       "    </tr>\n",
       "    <tr>\n",
       "      <th>17</th>\n",
       "      <td>Acura</td>\n",
       "      <td>2</td>\n",
       "    </tr>\n",
       "    <tr>\n",
       "      <th>18</th>\n",
       "      <td>Volvo</td>\n",
       "      <td>2</td>\n",
       "    </tr>\n",
       "    <tr>\n",
       "      <th>19</th>\n",
       "      <td>Mercedes</td>\n",
       "      <td>2</td>\n",
       "    </tr>\n",
       "    <tr>\n",
       "      <th>20</th>\n",
       "      <td>GMC</td>\n",
       "      <td>2</td>\n",
       "    </tr>\n",
       "    <tr>\n",
       "      <th>21</th>\n",
       "      <td>Porche</td>\n",
       "      <td>2</td>\n",
       "    </tr>\n",
       "    <tr>\n",
       "      <th>22</th>\n",
       "      <td>Scion</td>\n",
       "      <td>2</td>\n",
       "    </tr>\n",
       "    <tr>\n",
       "      <th>23</th>\n",
       "      <td>Dodge</td>\n",
       "      <td>2</td>\n",
       "    </tr>\n",
       "    <tr>\n",
       "      <th>24</th>\n",
       "      <td>Lincoln</td>\n",
       "      <td>2</td>\n",
       "    </tr>\n",
       "    <tr>\n",
       "      <th>25</th>\n",
       "      <td>Jaguar</td>\n",
       "      <td>2</td>\n",
       "    </tr>\n",
       "    <tr>\n",
       "      <th>26</th>\n",
       "      <td>Lexus</td>\n",
       "      <td>2</td>\n",
       "    </tr>\n",
       "    <tr>\n",
       "      <th>27</th>\n",
       "      <td>Infiniti</td>\n",
       "      <td>2</td>\n",
       "    </tr>\n",
       "    <tr>\n",
       "      <th>28</th>\n",
       "      <td>Chevrolet</td>\n",
       "      <td>1</td>\n",
       "    </tr>\n",
       "    <tr>\n",
       "      <th>29</th>\n",
       "      <td>Ford</td>\n",
       "      <td>1</td>\n",
       "    </tr>\n",
       "    <tr>\n",
       "      <th>30</th>\n",
       "      <td>Maserati</td>\n",
       "      <td>1</td>\n",
       "    </tr>\n",
       "    <tr>\n",
       "      <th>31</th>\n",
       "      <td>Subaru</td>\n",
       "      <td>1</td>\n",
       "    </tr>\n",
       "    <tr>\n",
       "      <th>32</th>\n",
       "      <td>Buick</td>\n",
       "      <td>1</td>\n",
       "    </tr>\n",
       "    <tr>\n",
       "      <th>33</th>\n",
       "      <td>Mitsubishi</td>\n",
       "      <td>1</td>\n",
       "    </tr>\n",
       "    <tr>\n",
       "      <th>34</th>\n",
       "      <td>Mazda</td>\n",
       "      <td>1</td>\n",
       "    </tr>\n",
       "    <tr>\n",
       "      <th>35</th>\n",
       "      <td>Fiat</td>\n",
       "      <td>1</td>\n",
       "    </tr>\n",
       "    <tr>\n",
       "      <th>36</th>\n",
       "      <td>Land Rover</td>\n",
       "      <td>1</td>\n",
       "    </tr>\n",
       "  </tbody>\n",
       "</table>\n",
       "</div>"
      ],
      "text/plain": [
       "          Make  count\n",
       "0    Chevrolet      8\n",
       "1         Ford      7\n",
       "2       Toyoto      7\n",
       "3      Hyundai      7\n",
       "4       Nissan      6\n",
       "5         Audi      6\n",
       "6          BMW      5\n",
       "7          Kia      5\n",
       "8     Cadillac      4\n",
       "9       Honda       4\n",
       "10      Dodge       3\n",
       "11       Mazda      3\n",
       "12       Buick      3\n",
       "13    Chrysler      3\n",
       "14  Volkswagon      3\n",
       "15      Subaru      3\n",
       "16        Jeep      2\n",
       "17       Acura      2\n",
       "18       Volvo      2\n",
       "19    Mercedes      2\n",
       "20        GMC       2\n",
       "21      Porche      2\n",
       "22       Scion      2\n",
       "23       Dodge      2\n",
       "24     Lincoln      2\n",
       "25      Jaguar      2\n",
       "26       Lexus      2\n",
       "27    Infiniti      2\n",
       "28  Chevrolet       1\n",
       "29       Ford       1\n",
       "30    Maserati      1\n",
       "31     Subaru       1\n",
       "32      Buick       1\n",
       "33  Mitsubishi      1\n",
       "34      Mazda       1\n",
       "35        Fiat      1\n",
       "36  Land Rover      1"
      ]
     },
     "execution_count": 33,
     "metadata": {},
     "output_type": "execute_result"
    }
   ],
   "source": [
    "car_count = pd.DataFrame(df3['Make'].value_counts()).reset_index()\n",
    "car_count.columns = ['Make', 'count']\n",
    "car_count"
   ]
  },
  {
   "cell_type": "code",
   "execution_count": 34,
   "metadata": {},
   "outputs": [
    {
     "data": {
      "image/png": "[encoded data removed]",
      "text/plain": [
       "<Figure size 432x288 with 1 Axes>"
      ]
     },
     "metadata": {},
     "output_type": "display_data"
    }
   ],
   "source": [
    "plt.pie(car_count['count'], labels = car_count['Make'])\n",
    "plt.show() "
   ]
  },
  {
   "cell_type": "code",
   "execution_count": null,
   "metadata": {},
   "outputs": [],
   "source": [
    "# Chevrolet released more cars- 8"
   ]
  },
  {
   "cell_type": "code",
   "execution_count": 35,
   "metadata": {},
   "outputs": [],
   "source": [
    "# 4. Create csv file from the data below and read in pandas data frame\n",
    "# Phase 1 -Reading Data\n",
    "# Phase 2 –Describe the data\n",
    "# Describe the data on the unit price\n",
    "# Phase 3 –filter the data\n",
    "# Create new dataframe having columns 'name','net_price','date' and group all the records according to name\n",
    "# Phase 4 –Plotting graph\n",
    "# Plot the graph after calculating total sales by each customer. Customer name should be on x axis and total sales in y axis."
   ]
  },
  {
   "cell_type": "code",
   "execution_count": 36,
   "metadata": {},
   "outputs": [],
   "source": [
    "df4 = pd.read_csv(r'C:\\D\\Python_25Sep21\\M6_dataset\\data_given.csv')"
   ]
  },
  {
   "cell_type": "code",
   "execution_count": 37,
   "metadata": {},
   "outputs": [
    {
     "data": {
      "text/html": [
       "<div>\n",
       "<style scoped>\n",
       "    .dataframe tbody tr th:only-of-type {\n",
       "        vertical-align: middle;\n",
       "    }\n",
       "\n",
       "    .dataframe tbody tr th {\n",
       "        vertical-align: top;\n",
       "    }\n",
       "\n",
       "    .dataframe thead th {\n",
       "        text-align: right;\n",
       "    }\n",
       "</style>\n",
       "<table border=\"1\" class=\"dataframe\">\n",
       "  <thead>\n",
       "    <tr style=\"text-align: right;\">\n",
       "      <th></th>\n",
       "      <th>account_number</th>\n",
       "      <th>name</th>\n",
       "      <th>item_code</th>\n",
       "      <th>category</th>\n",
       "      <th>quantity</th>\n",
       "      <th>unit price</th>\n",
       "      <th>net_price</th>\n",
       "      <th>date</th>\n",
       "    </tr>\n",
       "  </thead>\n",
       "  <tbody>\n",
       "    <tr>\n",
       "      <th>0</th>\n",
       "      <td>296809</td>\n",
       "      <td>Carroll PLC</td>\n",
       "      <td>QN-82852</td>\n",
       "      <td>Belt</td>\n",
       "      <td>13</td>\n",
       "      <td>44.48</td>\n",
       "      <td>578.24</td>\n",
       "      <td>27-09-2014 07:13</td>\n",
       "    </tr>\n",
       "    <tr>\n",
       "      <th>1</th>\n",
       "      <td>98022</td>\n",
       "      <td>Heidenreich-Bosco</td>\n",
       "      <td>MJ-21460</td>\n",
       "      <td>Shoes</td>\n",
       "      <td>19</td>\n",
       "      <td>53.62</td>\n",
       "      <td>1018.78</td>\n",
       "      <td>29-07-2014 02:10</td>\n",
       "    </tr>\n",
       "    <tr>\n",
       "      <th>2</th>\n",
       "      <td>563905</td>\n",
       "      <td>Kerluke, Reilly and Bechtelar</td>\n",
       "      <td>AS-93055</td>\n",
       "      <td>Shirt</td>\n",
       "      <td>12</td>\n",
       "      <td>24.16</td>\n",
       "      <td>289.92</td>\n",
       "      <td>01-03-2014 10:51</td>\n",
       "    </tr>\n",
       "    <tr>\n",
       "      <th>3</th>\n",
       "      <td>93356</td>\n",
       "      <td>Waters-Walker</td>\n",
       "      <td>AS-93055</td>\n",
       "      <td>Shirt</td>\n",
       "      <td>5</td>\n",
       "      <td>82.68</td>\n",
       "      <td>413.40</td>\n",
       "      <td>17-11-2013 20:41</td>\n",
       "    </tr>\n",
       "    <tr>\n",
       "      <th>4</th>\n",
       "      <td>659366</td>\n",
       "      <td>Waelchi-Fahey</td>\n",
       "      <td>AS-93055</td>\n",
       "      <td>Shirt</td>\n",
       "      <td>18</td>\n",
       "      <td>99.64</td>\n",
       "      <td>1793.52</td>\n",
       "      <td>03-01-2014 08:14</td>\n",
       "    </tr>\n",
       "  </tbody>\n",
       "</table>\n",
       "</div>"
      ],
      "text/plain": [
       "   account_number                           name item_code category  quantity  \\\n",
       "0          296809                    Carroll PLC  QN-82852     Belt        13   \n",
       "1           98022              Heidenreich-Bosco  MJ-21460    Shoes        19   \n",
       "2          563905  Kerluke, Reilly and Bechtelar  AS-93055    Shirt        12   \n",
       "3           93356                  Waters-Walker  AS-93055    Shirt         5   \n",
       "4          659366                  Waelchi-Fahey  AS-93055    Shirt        18   \n",
       "\n",
       "   unit price  net_price              date  \n",
       "0       44.48     578.24  27-09-2014 07:13  \n",
       "1       53.62    1018.78  29-07-2014 02:10  \n",
       "2       24.16     289.92  01-03-2014 10:51  \n",
       "3       82.68     413.40  17-11-2013 20:41  \n",
       "4       99.64    1793.52  03-01-2014 08:14  "
      ]
     },
     "execution_count": 37,
     "metadata": {},
     "output_type": "execute_result"
    }
   ],
   "source": [
    "df4.head()"
   ]
  },
  {
   "cell_type": "code",
   "execution_count": 39,
   "metadata": {},
   "outputs": [
    {
     "data": {
      "text/html": [
       "<div>\n",
       "<style scoped>\n",
       "    .dataframe tbody tr th:only-of-type {\n",
       "        vertical-align: middle;\n",
       "    }\n",
       "\n",
       "    .dataframe tbody tr th {\n",
       "        vertical-align: top;\n",
       "    }\n",
       "\n",
       "    .dataframe thead th {\n",
       "        text-align: right;\n",
       "    }\n",
       "</style>\n",
       "<table border=\"1\" class=\"dataframe\">\n",
       "  <thead>\n",
       "    <tr style=\"text-align: right;\">\n",
       "      <th></th>\n",
       "      <th>unit price</th>\n",
       "    </tr>\n",
       "  </thead>\n",
       "  <tbody>\n",
       "    <tr>\n",
       "      <th>count</th>\n",
       "      <td>1000.000000</td>\n",
       "    </tr>\n",
       "    <tr>\n",
       "      <th>mean</th>\n",
       "      <td>56.179630</td>\n",
       "    </tr>\n",
       "    <tr>\n",
       "      <th>std</th>\n",
       "      <td>25.331939</td>\n",
       "    </tr>\n",
       "    <tr>\n",
       "      <th>min</th>\n",
       "      <td>10.060000</td>\n",
       "    </tr>\n",
       "    <tr>\n",
       "      <th>25%</th>\n",
       "      <td>35.995000</td>\n",
       "    </tr>\n",
       "    <tr>\n",
       "      <th>50%</th>\n",
       "      <td>56.765000</td>\n",
       "    </tr>\n",
       "    <tr>\n",
       "      <th>75%</th>\n",
       "      <td>76.802500</td>\n",
       "    </tr>\n",
       "    <tr>\n",
       "      <th>max</th>\n",
       "      <td>99.970000</td>\n",
       "    </tr>\n",
       "  </tbody>\n",
       "</table>\n",
       "</div>"
      ],
      "text/plain": [
       "        unit price\n",
       "count  1000.000000\n",
       "mean     56.179630\n",
       "std      25.331939\n",
       "min      10.060000\n",
       "25%      35.995000\n",
       "50%      56.765000\n",
       "75%      76.802500\n",
       "max      99.970000"
      ]
     },
     "execution_count": 39,
     "metadata": {},
     "output_type": "execute_result"
    }
   ],
   "source": [
    "df4.describe().iloc[:,2:3]"
   ]
  },
  {
   "cell_type": "code",
   "execution_count": 40,
   "metadata": {},
   "outputs": [
    {
     "data": {
      "text/html": [
       "<div>\n",
       "<style scoped>\n",
       "    .dataframe tbody tr th:only-of-type {\n",
       "        vertical-align: middle;\n",
       "    }\n",
       "\n",
       "    .dataframe tbody tr th {\n",
       "        vertical-align: top;\n",
       "    }\n",
       "\n",
       "    .dataframe thead th {\n",
       "        text-align: right;\n",
       "    }\n",
       "</style>\n",
       "<table border=\"1\" class=\"dataframe\">\n",
       "  <thead>\n",
       "    <tr style=\"text-align: right;\">\n",
       "      <th></th>\n",
       "      <th>name</th>\n",
       "      <th>net_price</th>\n",
       "      <th>date</th>\n",
       "    </tr>\n",
       "  </thead>\n",
       "  <tbody>\n",
       "    <tr>\n",
       "      <th>0</th>\n",
       "      <td>Carroll PLC</td>\n",
       "      <td>578.24</td>\n",
       "      <td>27-09-2014 07:13</td>\n",
       "    </tr>\n",
       "    <tr>\n",
       "      <th>1</th>\n",
       "      <td>Heidenreich-Bosco</td>\n",
       "      <td>1018.78</td>\n",
       "      <td>29-07-2014 02:10</td>\n",
       "    </tr>\n",
       "    <tr>\n",
       "      <th>2</th>\n",
       "      <td>Kerluke, Reilly and Bechtelar</td>\n",
       "      <td>289.92</td>\n",
       "      <td>01-03-2014 10:51</td>\n",
       "    </tr>\n",
       "    <tr>\n",
       "      <th>3</th>\n",
       "      <td>Waters-Walker</td>\n",
       "      <td>413.40</td>\n",
       "      <td>17-11-2013 20:41</td>\n",
       "    </tr>\n",
       "    <tr>\n",
       "      <th>4</th>\n",
       "      <td>Waelchi-Fahey</td>\n",
       "      <td>1793.52</td>\n",
       "      <td>03-01-2014 08:14</td>\n",
       "    </tr>\n",
       "  </tbody>\n",
       "</table>\n",
       "</div>"
      ],
      "text/plain": [
       "                            name  net_price              date\n",
       "0                    Carroll PLC     578.24  27-09-2014 07:13\n",
       "1              Heidenreich-Bosco    1018.78  29-07-2014 02:10\n",
       "2  Kerluke, Reilly and Bechtelar     289.92  01-03-2014 10:51\n",
       "3                  Waters-Walker     413.40  17-11-2013 20:41\n",
       "4                  Waelchi-Fahey    1793.52  03-01-2014 08:14"
      ]
     },
     "execution_count": 40,
     "metadata": {},
     "output_type": "execute_result"
    }
   ],
   "source": [
    "df4_sub = df4[['name', 'net_price', 'date']]\n",
    "\n",
    "df4_sub.head()"
   ]
  },
  {
   "cell_type": "code",
   "execution_count": 41,
   "metadata": {},
   "outputs": [
    {
     "data": {
      "text/html": [
       "<div>\n",
       "<style scoped>\n",
       "    .dataframe tbody tr th:only-of-type {\n",
       "        vertical-align: middle;\n",
       "    }\n",
       "\n",
       "    .dataframe tbody tr th {\n",
       "        vertical-align: top;\n",
       "    }\n",
       "\n",
       "    .dataframe thead th {\n",
       "        text-align: right;\n",
       "    }\n",
       "</style>\n",
       "<table border=\"1\" class=\"dataframe\">\n",
       "  <thead>\n",
       "    <tr style=\"text-align: right;\">\n",
       "      <th></th>\n",
       "      <th>net_price</th>\n",
       "    </tr>\n",
       "    <tr>\n",
       "      <th>name</th>\n",
       "      <th></th>\n",
       "    </tr>\n",
       "  </thead>\n",
       "  <tbody>\n",
       "    <tr>\n",
       "      <th>Berge LLC</th>\n",
       "      <td>30064.87</td>\n",
       "    </tr>\n",
       "    <tr>\n",
       "      <th>Carroll PLC</th>\n",
       "      <td>35934.31</td>\n",
       "    </tr>\n",
       "    <tr>\n",
       "      <th>Cole-Eichmann</th>\n",
       "      <td>30435.42</td>\n",
       "    </tr>\n",
       "    <tr>\n",
       "      <th>Davis, Kshlerin and Reilly</th>\n",
       "      <td>19054.76</td>\n",
       "    </tr>\n",
       "    <tr>\n",
       "      <th>Ernser, Cruickshank and Lind</th>\n",
       "      <td>28089.02</td>\n",
       "    </tr>\n",
       "    <tr>\n",
       "      <th>Gorczany-Hahn</th>\n",
       "      <td>22207.90</td>\n",
       "    </tr>\n",
       "    <tr>\n",
       "      <th>Hamill-Hackett</th>\n",
       "      <td>23433.78</td>\n",
       "    </tr>\n",
       "    <tr>\n",
       "      <th>Hegmann and Sons</th>\n",
       "      <td>35213.72</td>\n",
       "    </tr>\n",
       "    <tr>\n",
       "      <th>Heidenreich-Bosco</th>\n",
       "      <td>25428.29</td>\n",
       "    </tr>\n",
       "    <tr>\n",
       "      <th>Huel-Haag</th>\n",
       "      <td>21087.88</td>\n",
       "    </tr>\n",
       "    <tr>\n",
       "      <th>Kerluke, Reilly and Bechtelar</th>\n",
       "      <td>27389.43</td>\n",
       "    </tr>\n",
       "    <tr>\n",
       "      <th>Kihn, McClure and Denesik</th>\n",
       "      <td>38935.29</td>\n",
       "    </tr>\n",
       "    <tr>\n",
       "      <th>Kilback-Gerlach</th>\n",
       "      <td>26987.20</td>\n",
       "    </tr>\n",
       "    <tr>\n",
       "      <th>Koelpin PLC</th>\n",
       "      <td>26811.66</td>\n",
       "    </tr>\n",
       "    <tr>\n",
       "      <th>Kunze Inc</th>\n",
       "      <td>34406.54</td>\n",
       "    </tr>\n",
       "    <tr>\n",
       "      <th>Kuphal, Zieme and Kub</th>\n",
       "      <td>27031.86</td>\n",
       "    </tr>\n",
       "    <tr>\n",
       "      <th>Senger, Upton and Breitenberg</th>\n",
       "      <td>29577.46</td>\n",
       "    </tr>\n",
       "    <tr>\n",
       "      <th>Volkman, Goyette and Lemke</th>\n",
       "      <td>32006.87</td>\n",
       "    </tr>\n",
       "    <tr>\n",
       "      <th>Waelchi-Fahey</th>\n",
       "      <td>28968.68</td>\n",
       "    </tr>\n",
       "    <tr>\n",
       "      <th>Waters-Walker</th>\n",
       "      <td>36778.96</td>\n",
       "    </tr>\n",
       "  </tbody>\n",
       "</table>\n",
       "</div>"
      ],
      "text/plain": [
       "                               net_price\n",
       "name                                    \n",
       "Berge LLC                       30064.87\n",
       "Carroll PLC                     35934.31\n",
       "Cole-Eichmann                   30435.42\n",
       "Davis, Kshlerin and Reilly      19054.76\n",
       "Ernser, Cruickshank and Lind    28089.02\n",
       "Gorczany-Hahn                   22207.90\n",
       "Hamill-Hackett                  23433.78\n",
       "Hegmann and Sons                35213.72\n",
       "Heidenreich-Bosco               25428.29\n",
       "Huel-Haag                       21087.88\n",
       "Kerluke, Reilly and Bechtelar   27389.43\n",
       "Kihn, McClure and Denesik       38935.29\n",
       "Kilback-Gerlach                 26987.20\n",
       "Koelpin PLC                     26811.66\n",
       "Kunze Inc                       34406.54\n",
       "Kuphal, Zieme and Kub           27031.86\n",
       "Senger, Upton and Breitenberg   29577.46\n",
       "Volkman, Goyette and Lemke      32006.87\n",
       "Waelchi-Fahey                   28968.68\n",
       "Waters-Walker                   36778.96"
      ]
     },
     "execution_count": 41,
     "metadata": {},
     "output_type": "execute_result"
    }
   ],
   "source": [
    "df4_sub.groupby('name').sum()"
   ]
  },
  {
   "cell_type": "code",
   "execution_count": 44,
   "metadata": {},
   "outputs": [
    {
     "data": {
      "text/plain": [
       "<AxesSubplot:xlabel='name'>"
      ]
     },
     "execution_count": 44,
     "metadata": {},
     "output_type": "execute_result"
    },
    {
     "data": {
      "image/png": "[encoded data removed]",
      "text/plain": [
       "<Figure size 1080x360 with 1 Axes>"
      ]
     },
     "metadata": {
      "needs_background": "light"
     },
     "output_type": "display_data"
    }
   ],
   "source": [
    "df4_sub.groupby('name').sum().plot(kind='bar', figsize=(15,5))"
   ]
  },
  {
   "cell_type": "raw",
   "metadata": {},
   "source": [
    "5. Let the x axis data points and y axis data points are\n",
    "X = [1,2,3,4] y = [20, 21, 20.5, 20.8]\n",
    "5.1: Draw a Simple plot\n",
    "5.2: Configure the line and markers in simple plot\n",
    "5.3: configure the axes\n",
    "5.4: Give title of Graph & labels of x axis and y axis\n",
    "5.5: Give error bar if y_error = [0.12, 0.13, 0.2, 0.1]\n",
    "5.6: define width, height as figsize=(4,5) DPI and adjust plot dpi=100\n",
    "5.7: Give a font size of 14\n",
    "5.8: Draw a scatter graph of any 50 random values of x and y axis\n",
    "5.9: Create a dataframe from following data\n",
    "'first_name': ['Jason', 'Molly', 'Tina', 'Jake', 'Amy'],\n",
    "'last_name': ['Miller', 'Jacobson', 'Ali', 'Milner', 'Cooze'],\n",
    "    'female': [0, 1, 1, 0, 1],\n",
    "'age': [42, 52, 36, 24, 73],\n",
    "'preTestScore': [4, 24, 31, 2, 3],\n",
    "'postTestScore': [25, 94, 57, 62, 70]\n",
    "Draw a Scatterplot of preTestScore and postTestScore, with the size of each point determined by age\n",
    "5.10: Draw a Scatterplot from the data in question 9 of preTestScore and postTestScore with the size = 300 and the color determined by sex"
   ]
  },
  {
   "cell_type": "code",
   "execution_count": 45,
   "metadata": {},
   "outputs": [],
   "source": [
    "x = [1,2,3,4]\n",
    "y = [20, 21, 20.5, 20.8]"
   ]
  },
  {
   "cell_type": "code",
   "execution_count": 48,
   "metadata": {},
   "outputs": [
    {
     "data": {
      "text/plain": [
       "[<matplotlib.lines.Line2D at 0x20d1b9d97c0>]"
      ]
     },
     "execution_count": 48,
     "metadata": {},
     "output_type": "execute_result"
    },
    {
     "data": {
      "image/png": "[encoded data removed]",
      "text/plain": [
       "<Figure size 432x288 with 1 Axes>"
      ]
     },
     "metadata": {
      "needs_background": "light"
     },
     "output_type": "display_data"
    }
   ],
   "source": [
    "# 5.1: Draw a Simple plot\n",
    "\n",
    "plt.plot(x, y)"
   ]
  },
  {
   "cell_type": "code",
   "execution_count": 49,
   "metadata": {},
   "outputs": [
    {
     "data": {
      "text/plain": [
       "[<matplotlib.lines.Line2D at 0x20d1b9d1a90>]"
      ]
     },
     "execution_count": 49,
     "metadata": {},
     "output_type": "execute_result"
    },
    {
     "data": {
      "image/png": "[encoded data removed]",
      "text/plain": [
       "<Figure size 432x288 with 1 Axes>"
      ]
     },
     "metadata": {
      "needs_background": "light"
     },
     "output_type": "display_data"
    }
   ],
   "source": [
    "# 5.2: Configure the line and markers in simple plot\n",
    "\n",
    "plt.plot(x, y, marker='o', ls='--')"
   ]
  },
  {
   "cell_type": "code",
   "execution_count": 54,
   "metadata": {},
   "outputs": [
    {
     "data": {
      "text/plain": [
       "(20.0, 21.0)"
      ]
     },
     "execution_count": 54,
     "metadata": {},
     "output_type": "execute_result"
    },
    {
     "data": {
      "image/png": "[encoded data removed]",
      "text/plain": [
       "<Figure size 432x288 with 1 Axes>"
      ]
     },
     "metadata": {
      "needs_background": "light"
     },
     "output_type": "display_data"
    }
   ],
   "source": [
    "# 5.3: configure the axes\n",
    "\n",
    "plt.plot(x, y, marker='o', ls='--')\n",
    "plt.xlim(1,4)\n",
    "plt.ylim(20,21)"
   ]
  },
  {
   "cell_type": "code",
   "execution_count": 55,
   "metadata": {},
   "outputs": [
    {
     "data": {
      "text/plain": [
       "Text(0.5, 1.0, 'Title')"
      ]
     },
     "execution_count": 55,
     "metadata": {},
     "output_type": "execute_result"
    },
    {
     "data": {
      "image/png": "[encoded data removed]",
      "text/plain": [
       "<Figure size 432x288 with 1 Axes>"
      ]
     },
     "metadata": {
      "needs_background": "light"
     },
     "output_type": "display_data"
    }
   ],
   "source": [
    "# 5.4: Give title of Graph & labels of x axis and y axis\n",
    "\n",
    "plt.plot(x, y, marker='o', ls='--')\n",
    "plt.xlim(1,4)\n",
    "plt.ylim(20,21)\n",
    "plt.xlabel('X-Axis')\n",
    "plt.ylabel('Y-Axis')\n",
    "plt.title('Title')"
   ]
  },
  {
   "cell_type": "code",
   "execution_count": 61,
   "metadata": {},
   "outputs": [
    {
     "data": {
      "text/plain": [
       "<ErrorbarContainer object of 3 artists>"
      ]
     },
     "execution_count": 61,
     "metadata": {},
     "output_type": "execute_result"
    },
    {
     "data": {
      "image/png": "[encoded data removed]",
      "text/plain": [
       "<Figure size 432x288 with 1 Axes>"
      ]
     },
     "metadata": {
      "needs_background": "light"
     },
     "output_type": "display_data"
    }
   ],
   "source": [
    "# 5.5: Give error bar if y_error = [0.12, 0.13, 0.2, 0.1]\n",
    "\n",
    "plt.plot(x, y, marker='o', ls='--')\n",
    "plt.xlim(1,4)\n",
    "plt.ylim(20,21)\n",
    "plt.xlabel('X-Axis')\n",
    "plt.ylabel('Y-Axis')\n",
    "plt.title('Title')\n",
    "plt.errorbar(x, y, yerr = [0.12, 0.13, 0.2, 0.1])"
   ]
  },
  {
   "cell_type": "code",
   "execution_count": 68,
   "metadata": {},
   "outputs": [
    {
     "data": {
      "text/plain": [
       "<ErrorbarContainer object of 3 artists>"
      ]
     },
     "execution_count": 68,
     "metadata": {},
     "output_type": "execute_result"
    },
    {
     "data": {
      "image/png": "[encoded data removed]",
      "text/plain": [
       "<Figure size 400x500 with 1 Axes>"
      ]
     },
     "metadata": {
      "needs_background": "light"
     },
     "output_type": "display_data"
    }
   ],
   "source": [
    "# 5.6: define width, height as figsize=(4,5) DPI and adjust plot dpi=100\n",
    "\n",
    "fig = plt.figure(figsize=(4,5),dpi=100)\n",
    "plt.plot(x, y, marker='o', ls='--')\n",
    "plt.xlim(1,4)\n",
    "plt.ylim(20,21)\n",
    "plt.xlabel('X-Axis')\n",
    "plt.ylabel('Y-Axis')\n",
    "plt.title('Title')\n",
    "plt.errorbar(x, y, yerr = [0.12, 0.13, 0.2, 0.1])"
   ]
  },
  {
   "cell_type": "code",
   "execution_count": 69,
   "metadata": {},
   "outputs": [
    {
     "data": {
      "image/png": "[encoded data removed]",
      "text/plain": [
       "<Figure size 400x500 with 1 Axes>"
      ]
     },
     "metadata": {
      "needs_background": "light"
     },
     "output_type": "display_data"
    }
   ],
   "source": [
    "# 5.7: Give a font size of 14\n",
    "\n",
    "fig = plt.figure(figsize=(4,5),dpi=100)\n",
    "plt.plot(x, y, marker='o', ls='--')\n",
    "plt.xlim(1,4)\n",
    "plt.ylim(20,21)\n",
    "plt.xlabel('X-Axis')\n",
    "plt.ylabel('Y-Axis')\n",
    "plt.title('Title')\n",
    "plt.errorbar(x, y, yerr = [0.12, 0.13, 0.2, 0.1])\n",
    "plt.rcParams.update({'font.size': 14})"
   ]
  },
  {
   "cell_type": "code",
   "execution_count": 70,
   "metadata": {},
   "outputs": [
    {
     "data": {
      "text/plain": [
       "<matplotlib.collections.PathCollection at 0x20d1d09b190>"
      ]
     },
     "execution_count": 70,
     "metadata": {},
     "output_type": "execute_result"
    },
    {
     "data": {
      "image/png": "[encoded data removed]",
      "text/plain": [
       "<Figure size 432x288 with 1 Axes>"
      ]
     },
     "metadata": {
      "needs_background": "light"
     },
     "output_type": "display_data"
    }
   ],
   "source": [
    "# 5.8: Draw a scatter graph of any 50 random values of x and y axis\n",
    "\n",
    "import numpy as np\n",
    "a = np.random.rand(1,50)\n",
    "b = np.random.rand(1,50)\n",
    "\n",
    "plt.scatter(a,b)"
   ]
  },
  {
   "cell_type": "code",
   "execution_count": 71,
   "metadata": {},
   "outputs": [],
   "source": [
    "# 5.9: Create a dataframe from following data\n",
    "# 'first_name': ['Jason', 'Molly', 'Tina', 'Jake', 'Amy'],\n",
    "# 'last_name': ['Miller', 'Jacobson', 'Ali', 'Milner', 'Cooze'],\n",
    "#     'female': [0, 1, 1, 0, 1],\n",
    "# 'age': [42, 52, 36, 24, 73],\n",
    "# 'preTestScore': [4, 24, 31, 2, 3],\n",
    "# 'postTestScore': [25, 94, 57, 62, 70]\n",
    "# Draw a Scatterplot of preTestScore and postTestScore, with the size of each point determined by age"
   ]
  },
  {
   "cell_type": "code",
   "execution_count": 72,
   "metadata": {},
   "outputs": [],
   "source": [
    "dict1 = {'first_name': ['Jason', 'Molly', 'Tina', 'Jake', 'Amy'],\n",
    "'last_name': ['Miller', 'Jacobson', 'Ali', 'Milner', 'Cooze'],\n",
    "    'female': [0, 1, 1, 0, 1],\n",
    "'age': [42, 52, 36, 24, 73],\n",
    "'preTestScore': [4, 24, 31, 2, 3],\n",
    "'postTestScore': [25, 94, 57, 62, 70]}"
   ]
  },
  {
   "cell_type": "code",
   "execution_count": 73,
   "metadata": {},
   "outputs": [],
   "source": [
    "df5 = pd.DataFrame(dict1)"
   ]
  },
  {
   "cell_type": "code",
   "execution_count": 74,
   "metadata": {},
   "outputs": [
    {
     "data": {
      "text/html": [
       "<div>\n",
       "<style scoped>\n",
       "    .dataframe tbody tr th:only-of-type {\n",
       "        vertical-align: middle;\n",
       "    }\n",
       "\n",
       "    .dataframe tbody tr th {\n",
       "        vertical-align: top;\n",
       "    }\n",
       "\n",
       "    .dataframe thead th {\n",
       "        text-align: right;\n",
       "    }\n",
       "</style>\n",
       "<table border=\"1\" class=\"dataframe\">\n",
       "  <thead>\n",
       "    <tr style=\"text-align: right;\">\n",
       "      <th></th>\n",
       "      <th>first_name</th>\n",
       "      <th>last_name</th>\n",
       "      <th>female</th>\n",
       "      <th>age</th>\n",
       "      <th>preTestScore</th>\n",
       "      <th>postTestScore</th>\n",
       "    </tr>\n",
       "  </thead>\n",
       "  <tbody>\n",
       "    <tr>\n",
       "      <th>0</th>\n",
       "      <td>Jason</td>\n",
       "      <td>Miller</td>\n",
       "      <td>0</td>\n",
       "      <td>42</td>\n",
       "      <td>4</td>\n",
       "      <td>25</td>\n",
       "    </tr>\n",
       "    <tr>\n",
       "      <th>1</th>\n",
       "      <td>Molly</td>\n",
       "      <td>Jacobson</td>\n",
       "      <td>1</td>\n",
       "      <td>52</td>\n",
       "      <td>24</td>\n",
       "      <td>94</td>\n",
       "    </tr>\n",
       "    <tr>\n",
       "      <th>2</th>\n",
       "      <td>Tina</td>\n",
       "      <td>Ali</td>\n",
       "      <td>1</td>\n",
       "      <td>36</td>\n",
       "      <td>31</td>\n",
       "      <td>57</td>\n",
       "    </tr>\n",
       "    <tr>\n",
       "      <th>3</th>\n",
       "      <td>Jake</td>\n",
       "      <td>Milner</td>\n",
       "      <td>0</td>\n",
       "      <td>24</td>\n",
       "      <td>2</td>\n",
       "      <td>62</td>\n",
       "    </tr>\n",
       "    <tr>\n",
       "      <th>4</th>\n",
       "      <td>Amy</td>\n",
       "      <td>Cooze</td>\n",
       "      <td>1</td>\n",
       "      <td>73</td>\n",
       "      <td>3</td>\n",
       "      <td>70</td>\n",
       "    </tr>\n",
       "  </tbody>\n",
       "</table>\n",
       "</div>"
      ],
      "text/plain": [
       "  first_name last_name  female  age  preTestScore  postTestScore\n",
       "0      Jason    Miller       0   42             4             25\n",
       "1      Molly  Jacobson       1   52            24             94\n",
       "2       Tina       Ali       1   36            31             57\n",
       "3       Jake    Milner       0   24             2             62\n",
       "4        Amy     Cooze       1   73             3             70"
      ]
     },
     "execution_count": 74,
     "metadata": {},
     "output_type": "execute_result"
    }
   ],
   "source": [
    "df5"
   ]
  },
  {
   "cell_type": "code",
   "execution_count": 75,
   "metadata": {},
   "outputs": [
    {
     "data": {
      "text/plain": [
       "<seaborn.axisgrid.FacetGrid at 0x20d1d057340>"
      ]
     },
     "execution_count": 75,
     "metadata": {},
     "output_type": "execute_result"
    },
    {
     "data": {
      "image/png": "[encoded data removed]",
      "text/plain": [
       "<Figure size 428.15x360 with 1 Axes>"
      ]
     },
     "metadata": {
      "needs_background": "light"
     },
     "output_type": "display_data"
    }
   ],
   "source": [
    "sns.relplot(data=df5, x='preTestScore', y='postTestScore', size='age')"
   ]
  },
  {
   "cell_type": "code",
   "execution_count": null,
   "metadata": {},
   "outputs": [],
   "source": []
  }
 ],
 "metadata": {
  "kernelspec": {
   "display_name": "Python 3",
   "language": "python",
   "name": "python3"
  },
  "language_info": {
   "codemirror_mode": {
    "name": "ipython",
    "version": 3
   },
   "file_extension": ".py",
   "mimetype": "text/x-python",
   "name": "python",
   "nbconvert_exporter": "python",
   "pygments_lexer": "ipython3",
   "version": "3.8.5"
  }
 },
 "nbformat": 4,
 "nbformat_minor": 4
}
