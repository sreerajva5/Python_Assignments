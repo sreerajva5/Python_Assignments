{
 "cells": [
  {
   "cell_type": "markdown",
   "metadata": {},
   "source": [
    "## Module 7 - Case study 1"
   ]
  },
  {
   "cell_type": "markdown",
   "metadata": {},
   "source": [
    "Fit a model using binary classification using logistic regression.\n",
    "\n",
    "Identify correlated variables and form a less complex model.\n",
    "\n",
    "\n",
    "Questions:\n",
    "\n",
    "1. We will use acoustic features to distinguish a male voice from female. Load the dataset from “voice.csv”, identify the target variable and do a one-hot encoding for the same. Split the dataset in train-test with 20% of the data kept aside for testing.\n",
    "\n",
    "[Hint: Refer to LabelEncoder documentation in scikit-learn]\n",
    "\n",
    "\n",
    "2. Fit a logistic regression model and measure the accuracy on the test set.\n",
    "\n",
    "[Hint: Refer to Linear Models section in scikit-learn]\n",
    "\n",
    "\n",
    "3. Compute the correlation matrix that describes the dependence between all predictors and identify the predictors that are highly correlated. Plot the correlation matrix using seaborn heatmap.\n",
    "\n",
    "[Hint: Explore dataframe methods to identify appropriate method]\n",
    "\n",
    "\n",
    "4. Based on correlation remove those predictors that are correlated and fit a logistic regression model again and compare the accuracy with that of previous model.\n",
    "\n",
    "[Hint: Identify correlated variable pairs and remove one among them]"
   ]
  },
  {
   "cell_type": "code",
   "execution_count": 1,
   "metadata": {},
   "outputs": [
    {
     "name": "stderr",
     "output_type": "stream",
     "text": [
      "C:\\Users\\sreeraj.va\\AppData\\Local\\Continuum\\anaconda3\\lib\\site-packages\\statsmodels\\tools\\_testing.py:19: FutureWarning: pandas.util.testing is deprecated. Use the functions in the public API at pandas.testing instead.\n",
      "  import pandas.util.testing as tm\n"
     ]
    }
   ],
   "source": [
    "import numpy as np\n",
    "import pandas as pd\n",
    "import matplotlib.pyplot as plt\n",
    "%matplotlib inline\n",
    "import seaborn as sns"
   ]
  },
  {
   "cell_type": "code",
   "execution_count": 70,
   "metadata": {},
   "outputs": [],
   "source": [
    "df = pd.read_csv(r'D:\\E\\Courses\\Edureka\\Assignments\\Dataset\\module7\\voice.csv')"
   ]
  },
  {
   "cell_type": "code",
   "execution_count": 71,
   "metadata": {},
   "outputs": [
    {
     "name": "stdout",
     "output_type": "stream",
     "text": [
      "(3168, 21)\n"
     ]
    },
    {
     "data": {
      "text/html": [
       "<div>\n",
       "<style scoped>\n",
       "    .dataframe tbody tr th:only-of-type {\n",
       "        vertical-align: middle;\n",
       "    }\n",
       "\n",
       "    .dataframe tbody tr th {\n",
       "        vertical-align: top;\n",
       "    }\n",
       "\n",
       "    .dataframe thead th {\n",
       "        text-align: right;\n",
       "    }\n",
       "</style>\n",
       "<table border=\"1\" class=\"dataframe\">\n",
       "  <thead>\n",
       "    <tr style=\"text-align: right;\">\n",
       "      <th></th>\n",
       "      <th>meanfreq</th>\n",
       "      <th>sd</th>\n",
       "      <th>median</th>\n",
       "      <th>Q25</th>\n",
       "      <th>Q75</th>\n",
       "      <th>IQR</th>\n",
       "      <th>skew</th>\n",
       "      <th>kurt</th>\n",
       "      <th>sp.ent</th>\n",
       "      <th>sfm</th>\n",
       "      <th>...</th>\n",
       "      <th>centroid</th>\n",
       "      <th>meanfun</th>\n",
       "      <th>minfun</th>\n",
       "      <th>maxfun</th>\n",
       "      <th>meandom</th>\n",
       "      <th>mindom</th>\n",
       "      <th>maxdom</th>\n",
       "      <th>dfrange</th>\n",
       "      <th>modindx</th>\n",
       "      <th>label</th>\n",
       "    </tr>\n",
       "  </thead>\n",
       "  <tbody>\n",
       "    <tr>\n",
       "      <th>0</th>\n",
       "      <td>0.059781</td>\n",
       "      <td>0.064241</td>\n",
       "      <td>0.032027</td>\n",
       "      <td>0.015071</td>\n",
       "      <td>0.090193</td>\n",
       "      <td>0.075122</td>\n",
       "      <td>12.863462</td>\n",
       "      <td>274.402906</td>\n",
       "      <td>0.893369</td>\n",
       "      <td>0.491918</td>\n",
       "      <td>...</td>\n",
       "      <td>0.059781</td>\n",
       "      <td>0.084279</td>\n",
       "      <td>0.015702</td>\n",
       "      <td>0.275862</td>\n",
       "      <td>0.007812</td>\n",
       "      <td>0.007812</td>\n",
       "      <td>0.007812</td>\n",
       "      <td>0.000000</td>\n",
       "      <td>0.000000</td>\n",
       "      <td>male</td>\n",
       "    </tr>\n",
       "    <tr>\n",
       "      <th>1</th>\n",
       "      <td>0.066009</td>\n",
       "      <td>0.067310</td>\n",
       "      <td>0.040229</td>\n",
       "      <td>0.019414</td>\n",
       "      <td>0.092666</td>\n",
       "      <td>0.073252</td>\n",
       "      <td>22.423285</td>\n",
       "      <td>634.613855</td>\n",
       "      <td>0.892193</td>\n",
       "      <td>0.513724</td>\n",
       "      <td>...</td>\n",
       "      <td>0.066009</td>\n",
       "      <td>0.107937</td>\n",
       "      <td>0.015826</td>\n",
       "      <td>0.250000</td>\n",
       "      <td>0.009014</td>\n",
       "      <td>0.007812</td>\n",
       "      <td>0.054688</td>\n",
       "      <td>0.046875</td>\n",
       "      <td>0.052632</td>\n",
       "      <td>male</td>\n",
       "    </tr>\n",
       "  </tbody>\n",
       "</table>\n",
       "<p>2 rows × 21 columns</p>\n",
       "</div>"
      ],
      "text/plain": [
       "   meanfreq        sd    median       Q25       Q75       IQR       skew  \\\n",
       "0  0.059781  0.064241  0.032027  0.015071  0.090193  0.075122  12.863462   \n",
       "1  0.066009  0.067310  0.040229  0.019414  0.092666  0.073252  22.423285   \n",
       "\n",
       "         kurt    sp.ent       sfm  ...  centroid   meanfun    minfun  \\\n",
       "0  274.402906  0.893369  0.491918  ...  0.059781  0.084279  0.015702   \n",
       "1  634.613855  0.892193  0.513724  ...  0.066009  0.107937  0.015826   \n",
       "\n",
       "     maxfun   meandom    mindom    maxdom   dfrange   modindx  label  \n",
       "0  0.275862  0.007812  0.007812  0.007812  0.000000  0.000000   male  \n",
       "1  0.250000  0.009014  0.007812  0.054688  0.046875  0.052632   male  \n",
       "\n",
       "[2 rows x 21 columns]"
      ]
     },
     "execution_count": 71,
     "metadata": {},
     "output_type": "execute_result"
    }
   ],
   "source": [
    "print(df.shape)\n",
    "df.head(2)"
   ]
  },
  {
   "cell_type": "markdown",
   "metadata": {},
   "source": [
    "We will use acoustic features to distinguish a male voice from female. Load the dataset from “voice.csv”, identify the target variable and do a one-hot encoding for the same. Split the dataset in train-test with 20% of the data kept aside for testing."
   ]
  },
  {
   "cell_type": "code",
   "execution_count": 9,
   "metadata": {},
   "outputs": [],
   "source": [
    "# taking x (independant variables) and y (dependant variable)\n",
    "\n",
    "x = df.iloc[:,0:20].values\n",
    "y = df.iloc[:,20:21].values"
   ]
  },
  {
   "cell_type": "code",
   "execution_count": 11,
   "metadata": {},
   "outputs": [
    {
     "data": {
      "text/plain": [
       "(array([[5.97809850e-02, 6.42412677e-02, 3.20269134e-02, 1.50714886e-02,\n",
       "         9.01934399e-02, 7.51219512e-02, 1.28634618e+01, 2.74402906e+02,\n",
       "         8.93369417e-01, 4.91917766e-01, 0.00000000e+00, 5.97809850e-02,\n",
       "         8.42791064e-02, 1.57016683e-02, 2.75862069e-01, 7.81250000e-03,\n",
       "         7.81250000e-03, 7.81250000e-03, 0.00000000e+00, 0.00000000e+00]]),\n",
       " array([['male'],\n",
       "        ['male']], dtype=object))"
      ]
     },
     "execution_count": 11,
     "metadata": {},
     "output_type": "execute_result"
    }
   ],
   "source": [
    "x[:1],  y[:2]"
   ]
  },
  {
   "cell_type": "code",
   "execution_count": 12,
   "metadata": {},
   "outputs": [],
   "source": [
    "from sklearn.preprocessing import OneHotEncoder, LabelEncoder"
   ]
  },
  {
   "cell_type": "code",
   "execution_count": 30,
   "metadata": {},
   "outputs": [
    {
     "name": "stderr",
     "output_type": "stream",
     "text": [
      "C:\\Users\\sreeraj.va\\AppData\\Local\\Continuum\\anaconda3\\lib\\site-packages\\sklearn\\preprocessing\\label.py:235: DataConversionWarning: A column-vector y was passed when a 1d array was expected. Please change the shape of y to (n_samples, ), for example using ravel().\n",
      "  y = column_or_1d(y, warn=True)\n"
     ]
    }
   ],
   "source": [
    "labelencoder_y = LabelEncoder()\n",
    "y = labelencoder_y.fit_transform(y)"
   ]
  },
  {
   "cell_type": "code",
   "execution_count": 31,
   "metadata": {},
   "outputs": [
    {
     "data": {
      "text/plain": [
       "array([1, 1, 1, ..., 0, 0, 0])"
      ]
     },
     "execution_count": 31,
     "metadata": {},
     "output_type": "execute_result"
    }
   ],
   "source": [
    "y"
   ]
  },
  {
   "cell_type": "code",
   "execution_count": 32,
   "metadata": {},
   "outputs": [],
   "source": [
    "from sklearn.model_selection import train_test_split"
   ]
  },
  {
   "cell_type": "code",
   "execution_count": 33,
   "metadata": {},
   "outputs": [],
   "source": [
    "x_train, x_test, y_train, y_test = train_test_split(x,y, test_size=0.2, random_state=11)"
   ]
  },
  {
   "cell_type": "code",
   "execution_count": 34,
   "metadata": {},
   "outputs": [
    {
     "data": {
      "text/plain": [
       "(2534, 634, 2534, 634)"
      ]
     },
     "execution_count": 34,
     "metadata": {},
     "output_type": "execute_result"
    }
   ],
   "source": [
    "len(x_train), len(x_test), len(y_train), len(y_test)"
   ]
  },
  {
   "cell_type": "markdown",
   "metadata": {},
   "source": [
    "2. Fit a logistic regression model and measure the accuracy on the test set."
   ]
  },
  {
   "cell_type": "code",
   "execution_count": 35,
   "metadata": {},
   "outputs": [],
   "source": [
    "from sklearn.linear_model import LogisticRegression\n",
    "\n",
    "logistic_model = LogisticRegression()"
   ]
  },
  {
   "cell_type": "code",
   "execution_count": 36,
   "metadata": {},
   "outputs": [
    {
     "name": "stderr",
     "output_type": "stream",
     "text": [
      "C:\\Users\\sreeraj.va\\AppData\\Local\\Continuum\\anaconda3\\lib\\site-packages\\sklearn\\linear_model\\logistic.py:432: FutureWarning: Default solver will be changed to 'lbfgs' in 0.22. Specify a solver to silence this warning.\n",
      "  FutureWarning)\n"
     ]
    },
    {
     "data": {
      "text/plain": [
       "LogisticRegression(C=1.0, class_weight=None, dual=False, fit_intercept=True,\n",
       "                   intercept_scaling=1, l1_ratio=None, max_iter=100,\n",
       "                   multi_class='warn', n_jobs=None, penalty='l2',\n",
       "                   random_state=None, solver='warn', tol=0.0001, verbose=0,\n",
       "                   warm_start=False)"
      ]
     },
     "execution_count": 36,
     "metadata": {},
     "output_type": "execute_result"
    }
   ],
   "source": [
    "logistic_model.fit(x_train, y_train)"
   ]
  },
  {
   "cell_type": "code",
   "execution_count": 38,
   "metadata": {},
   "outputs": [],
   "source": [
    "y_predict = logistic_model.predict(x_test)"
   ]
  },
  {
   "cell_type": "code",
   "execution_count": 39,
   "metadata": {},
   "outputs": [],
   "source": [
    "from sklearn.metrics import confusion_matrix, accuracy_score"
   ]
  },
  {
   "cell_type": "code",
   "execution_count": 40,
   "metadata": {},
   "outputs": [
    {
     "data": {
      "text/plain": [
       "array([[268,  52],\n",
       "       [ 13, 301]], dtype=int64)"
      ]
     },
     "execution_count": 40,
     "metadata": {},
     "output_type": "execute_result"
    }
   ],
   "source": [
    "confusion_matrix(y_test, y_predict)"
   ]
  },
  {
   "cell_type": "code",
   "execution_count": 41,
   "metadata": {},
   "outputs": [
    {
     "data": {
      "text/plain": [
       "0.8974763406940063"
      ]
     },
     "execution_count": 41,
     "metadata": {},
     "output_type": "execute_result"
    }
   ],
   "source": [
    "accuracy_score(y_test, y_predict)"
   ]
  },
  {
   "cell_type": "markdown",
   "metadata": {},
   "source": [
    "3. Compute the correlation matrix that describes the dependence between all predictors and identify the predictors that are highly correlated. Plot the correlation matrix using seaborn heatmap."
   ]
  },
  {
   "cell_type": "code",
   "execution_count": 72,
   "metadata": {},
   "outputs": [],
   "source": [
    "df['label'] = df['label'].map({'female': 0, 'male': 1})"
   ]
  },
  {
   "cell_type": "code",
   "execution_count": 74,
   "metadata": {},
   "outputs": [
    {
     "name": "stdout",
     "output_type": "stream",
     "text": [
      "          meanfreq        sd    median       Q25       Q75       IQR  \\\n",
      "meanfreq  1.000000 -0.739039  0.925445  0.911416  0.740997 -0.627605   \n",
      "sd       -0.739039  1.000000 -0.562603 -0.846931 -0.161076  0.874660   \n",
      "median    0.925445 -0.562603  1.000000  0.774922  0.731849 -0.477352   \n",
      "Q25       0.911416 -0.846931  0.774922  1.000000  0.477140 -0.874189   \n",
      "Q75       0.740997 -0.161076  0.731849  0.477140  1.000000  0.009636   \n",
      "IQR      -0.627605  0.874660 -0.477352 -0.874189  0.009636  1.000000   \n",
      "skew     -0.322327  0.314597 -0.257407 -0.319475 -0.206339  0.249497   \n",
      "kurt     -0.316036  0.346241 -0.243382 -0.350182 -0.148881  0.316185   \n",
      "sp.ent   -0.601203  0.716620 -0.502005 -0.648126 -0.174905  0.640813   \n",
      "sfm      -0.784332  0.838086 -0.661690 -0.766875 -0.378198  0.663601   \n",
      "mode      0.687715 -0.529150  0.677433  0.591277  0.486857 -0.403764   \n",
      "centroid  1.000000 -0.739039  0.925445  0.911416  0.740997 -0.627605   \n",
      "meanfun   0.460844 -0.466281  0.414909  0.545035  0.155091 -0.534462   \n",
      "minfun    0.383937 -0.345609  0.337602  0.320994  0.258002 -0.222680   \n",
      "maxfun    0.274004 -0.129662  0.251328  0.199841  0.285584 -0.069588   \n",
      "meandom   0.536666 -0.482726  0.455943  0.467403  0.359181 -0.333362   \n",
      "mindom    0.229261 -0.357667  0.191169  0.302255 -0.023750 -0.357037   \n",
      "maxdom    0.519528 -0.482278  0.438919  0.459683  0.335114 -0.337877   \n",
      "dfrange   0.515570 -0.475999  0.435621  0.454394  0.335648 -0.331563   \n",
      "modindx  -0.216979  0.122660 -0.213298 -0.141377 -0.216475  0.041252   \n",
      "label    -0.337415  0.479539 -0.283919 -0.511455  0.066906  0.618916   \n",
      "\n",
      "              skew      kurt    sp.ent       sfm  ...  centroid   meanfun  \\\n",
      "meanfreq -0.322327 -0.316036 -0.601203 -0.784332  ...  1.000000  0.460844   \n",
      "sd        0.314597  0.346241  0.716620  0.838086  ... -0.739039 -0.466281   \n",
      "median   -0.257407 -0.243382 -0.502005 -0.661690  ...  0.925445  0.414909   \n",
      "Q25      -0.319475 -0.350182 -0.648126 -0.766875  ...  0.911416  0.545035   \n",
      "Q75      -0.206339 -0.148881 -0.174905 -0.378198  ...  0.740997  0.155091   \n",
      "IQR       0.249497  0.316185  0.640813  0.663601  ... -0.627605 -0.534462   \n",
      "skew      1.000000  0.977020 -0.195459  0.079694  ... -0.322327 -0.167668   \n",
      "kurt      0.977020  1.000000 -0.127644  0.109884  ... -0.316036 -0.194560   \n",
      "sp.ent   -0.195459 -0.127644  1.000000  0.866411  ... -0.601203 -0.513194   \n",
      "sfm       0.079694  0.109884  0.866411  1.000000  ... -0.784332 -0.421066   \n",
      "mode     -0.434859 -0.406722 -0.325298 -0.485913  ...  0.687715  0.324771   \n",
      "centroid -0.322327 -0.316036 -0.601203 -0.784332  ...  1.000000  0.460844   \n",
      "meanfun  -0.167668 -0.194560 -0.513194 -0.421066  ...  0.460844  1.000000   \n",
      "minfun   -0.216954 -0.203201 -0.305826 -0.362100  ...  0.383937  0.339387   \n",
      "maxfun   -0.080861 -0.045667 -0.120738 -0.192369  ...  0.274004  0.311950   \n",
      "meandom  -0.336848 -0.303234 -0.293562 -0.428442  ...  0.536666  0.270840   \n",
      "mindom   -0.061608 -0.103313 -0.294869 -0.289593  ...  0.229261  0.162163   \n",
      "maxdom   -0.305651 -0.274500 -0.324253 -0.436649  ...  0.519528  0.277982   \n",
      "dfrange  -0.304640 -0.272729 -0.319054 -0.431580  ...  0.515570  0.275154   \n",
      "modindx  -0.169325 -0.205539  0.198074  0.211477  ... -0.216979 -0.054858   \n",
      "label     0.036627  0.087195  0.490552  0.357499  ... -0.337415 -0.833921   \n",
      "\n",
      "            minfun    maxfun   meandom    mindom    maxdom   dfrange  \\\n",
      "meanfreq  0.383937  0.274004  0.536666  0.229261  0.519528  0.515570   \n",
      "sd       -0.345609 -0.129662 -0.482726 -0.357667 -0.482278 -0.475999   \n",
      "median    0.337602  0.251328  0.455943  0.191169  0.438919  0.435621   \n",
      "Q25       0.320994  0.199841  0.467403  0.302255  0.459683  0.454394   \n",
      "Q75       0.258002  0.285584  0.359181 -0.023750  0.335114  0.335648   \n",
      "IQR      -0.222680 -0.069588 -0.333362 -0.357037 -0.337877 -0.331563   \n",
      "skew     -0.216954 -0.080861 -0.336848 -0.061608 -0.305651 -0.304640   \n",
      "kurt     -0.203201 -0.045667 -0.303234 -0.103313 -0.274500 -0.272729   \n",
      "sp.ent   -0.305826 -0.120738 -0.293562 -0.294869 -0.324253 -0.319054   \n",
      "sfm      -0.362100 -0.192369 -0.428442 -0.289593 -0.436649 -0.431580   \n",
      "mode      0.385467  0.172329  0.491479  0.198150  0.477187  0.473775   \n",
      "centroid  0.383937  0.274004  0.536666  0.229261  0.519528  0.515570   \n",
      "meanfun   0.339387  0.311950  0.270840  0.162163  0.277982  0.275154   \n",
      "minfun    1.000000  0.213987  0.375979  0.082015  0.317860  0.316486   \n",
      "maxfun    0.213987  1.000000  0.337553 -0.243426  0.355390  0.359880   \n",
      "meandom   0.375979  0.337553  1.000000  0.099656  0.812838  0.811304   \n",
      "mindom    0.082015 -0.243426  0.099656  1.000000  0.026640  0.008666   \n",
      "maxdom    0.317860  0.355390  0.812838  0.026640  1.000000  0.999838   \n",
      "dfrange   0.316486  0.359880  0.811304  0.008666  0.999838  1.000000   \n",
      "modindx   0.002042 -0.363029 -0.180954  0.200212 -0.425531 -0.429266   \n",
      "label    -0.136692 -0.166461 -0.191067 -0.194974 -0.195657 -0.192213   \n",
      "\n",
      "           modindx     label  \n",
      "meanfreq -0.216979 -0.337415  \n",
      "sd        0.122660  0.479539  \n",
      "median   -0.213298 -0.283919  \n",
      "Q25      -0.141377 -0.511455  \n",
      "Q75      -0.216475  0.066906  \n",
      "IQR       0.041252  0.618916  \n",
      "skew     -0.169325  0.036627  \n",
      "kurt     -0.205539  0.087195  \n",
      "sp.ent    0.198074  0.490552  \n",
      "sfm       0.211477  0.357499  \n",
      "mode     -0.182344 -0.171775  \n",
      "centroid -0.216979 -0.337415  \n",
      "meanfun  -0.054858 -0.833921  \n",
      "minfun    0.002042 -0.136692  \n",
      "maxfun   -0.363029 -0.166461  \n",
      "meandom  -0.180954 -0.191067  \n",
      "mindom    0.200212 -0.194974  \n",
      "maxdom   -0.425531 -0.195657  \n",
      "dfrange  -0.429266 -0.192213  \n",
      "modindx   1.000000  0.030801  \n",
      "label     0.030801  1.000000  \n",
      "\n",
      "[21 rows x 21 columns]\n"
     ]
    }
   ],
   "source": [
    "corre = df.corr()\n",
    "print(corre)"
   ]
  },
  {
   "cell_type": "code",
   "execution_count": 75,
   "metadata": {},
   "outputs": [
    {
     "data": {
      "image/png": "[encoded data removed]",
      "text/plain": [
       "<Figure size 432x288 with 2 Axes>"
      ]
     },
     "metadata": {
      "needs_background": "light"
     },
     "output_type": "display_data"
    }
   ],
   "source": [
    "sns.heatmap(corre,cmap=plt.cm.RdBu_r)\n",
    "plt.title('Correlation')\n",
    "plt.show()"
   ]
  },
  {
   "cell_type": "markdown",
   "metadata": {},
   "source": [
    "4. Based on correlation remove those predictors that are correlated and fit a logistic regression model again and compare the accuracy with that of previous model."
   ]
  },
  {
   "cell_type": "code",
   "execution_count": 82,
   "metadata": {},
   "outputs": [
    {
     "data": {
      "text/plain": [
       "(21, 21)"
      ]
     },
     "execution_count": 82,
     "metadata": {},
     "output_type": "execute_result"
    }
   ],
   "source": [
    "corre.shape"
   ]
  },
  {
   "cell_type": "code",
   "execution_count": 92,
   "metadata": {},
   "outputs": [
    {
     "data": {
      "text/plain": [
       "array([ True,  True,  True,  True,  True,  True,  True,  True,  True,\n",
       "        True,  True,  True,  True,  True,  True,  True,  True,  True,\n",
       "        True,  True])"
      ]
     },
     "execution_count": 92,
     "metadata": {},
     "output_type": "execute_result"
    }
   ],
   "source": [
    "columns = np.full((corre.shape[0]-1,), True, dtype=bool)\n",
    "columns"
   ]
  },
  {
   "cell_type": "code",
   "execution_count": 94,
   "metadata": {},
   "outputs": [],
   "source": [
    "for i in range(corre.shape[0]):\n",
    "    for j in range(i+1, corre.shape[0]):\n",
    "        if corre.iloc[i,j] >= 0.8:\n",
    "            if columns[j]:\n",
    "                columns[j] = False"
   ]
  },
  {
   "cell_type": "code",
   "execution_count": 96,
   "metadata": {},
   "outputs": [
    {
     "data": {
      "text/plain": [
       "Int64Index([0, 1, 4, 6, 8, 10, 12, 13, 14, 15, 16, 19], dtype='int64')"
      ]
     },
     "execution_count": 96,
     "metadata": {},
     "output_type": "execute_result"
    }
   ],
   "source": [
    "selected_columns = pd.DataFrame(x).columns[columns]\n",
    "selected_columns"
   ]
  },
  {
   "cell_type": "code",
   "execution_count": 98,
   "metadata": {},
   "outputs": [],
   "source": [
    "x2 = pd.DataFrame(x).iloc[:, [0, 1, 4, 6, 8, 10, 12, 13, 14, 15, 16, 19]]\n",
    "y2 = y"
   ]
  },
  {
   "cell_type": "code",
   "execution_count": 99,
   "metadata": {},
   "outputs": [],
   "source": [
    "x2_train, x2_test, y2_train, y2_test = train_test_split(x2, y2, test_size=0.2, random_state=11)"
   ]
  },
  {
   "cell_type": "code",
   "execution_count": 100,
   "metadata": {},
   "outputs": [
    {
     "name": "stderr",
     "output_type": "stream",
     "text": [
      "C:\\Users\\sreeraj.va\\AppData\\Local\\Continuum\\anaconda3\\lib\\site-packages\\sklearn\\linear_model\\logistic.py:432: FutureWarning: Default solver will be changed to 'lbfgs' in 0.22. Specify a solver to silence this warning.\n",
      "  FutureWarning)\n"
     ]
    },
    {
     "data": {
      "text/plain": [
       "LogisticRegression(C=1.0, class_weight=None, dual=False, fit_intercept=True,\n",
       "                   intercept_scaling=1, l1_ratio=None, max_iter=100,\n",
       "                   multi_class='warn', n_jobs=None, penalty='l2',\n",
       "                   random_state=None, solver='warn', tol=0.0001, verbose=0,\n",
       "                   warm_start=False)"
      ]
     },
     "execution_count": 100,
     "metadata": {},
     "output_type": "execute_result"
    }
   ],
   "source": [
    "logistic_model2 = LogisticRegression()\n",
    "logistic_model2.fit(x2_train, y2_train)"
   ]
  },
  {
   "cell_type": "code",
   "execution_count": 102,
   "metadata": {},
   "outputs": [],
   "source": [
    "y_predict2 = logistic_model2.predict(x2_test)"
   ]
  },
  {
   "cell_type": "code",
   "execution_count": 103,
   "metadata": {},
   "outputs": [
    {
     "data": {
      "text/plain": [
       "array([[260,  60],\n",
       "       [ 19, 295]], dtype=int64)"
      ]
     },
     "execution_count": 103,
     "metadata": {},
     "output_type": "execute_result"
    }
   ],
   "source": [
    "confusion_matrix(y2_test, y_predict2)"
   ]
  },
  {
   "cell_type": "code",
   "execution_count": 104,
   "metadata": {},
   "outputs": [
    {
     "data": {
      "text/plain": [
       "0.8753943217665615"
      ]
     },
     "execution_count": 104,
     "metadata": {},
     "output_type": "execute_result"
    }
   ],
   "source": [
    "accuracy_score(y2_test, y_predict2)"
   ]
  },
  {
   "cell_type": "markdown",
   "metadata": {},
   "source": [
    "Accuracy score reduced by a bit only"
   ]
  }
 ],
 "metadata": {
  "kernelspec": {
   "display_name": "Python 3",
   "language": "python",
   "name": "python3"
  },
  "language_info": {
   "codemirror_mode": {
    "name": "ipython",
    "version": 3
   },
   "file_extension": ".py",
   "mimetype": "text/x-python",
   "name": "python",
   "nbconvert_exporter": "python",
   "pygments_lexer": "ipython3",
   "version": "3.7.4"
  }
 },
 "nbformat": 4,
 "nbformat_minor": 2
}
